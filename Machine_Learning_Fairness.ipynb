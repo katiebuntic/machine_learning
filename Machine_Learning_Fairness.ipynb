{
 "cells": [
  {
   "cell_type": "markdown",
   "metadata": {
    "id": "ETt1u81t4pAR"
   },
   "source": [
    "## **Machine Learning Final Assessment**\n"
   ]
  },
  {
   "cell_type": "code",
   "execution_count": null,
   "metadata": {
    "id": "MQIS-QkbAobp"
   },
   "outputs": [],
   "source": [
    "#importing the aif360 library\n",
    "\n",
    "!pip install aif360"
   ]
  },
  {
   "cell_type": "code",
   "execution_count": null,
   "metadata": {
    "id": "I6NveH0lR1ha"
   },
   "outputs": [],
   "source": [
    "#importing the fairlearn library\n",
    "#prevents errors when importing \n",
    "\n",
    "! pip install fairlearn"
   ]
  },
  {
   "cell_type": "code",
   "execution_count": 3,
   "metadata": {
    "colab": {
     "base_uri": "https://localhost:8080/"
    },
    "id": "YwTXop7mAt2o",
    "outputId": "da8e9bf2-9610-4b5d-8eb2-dfaeacd6a658"
   },
   "outputs": [
    {
     "name": "stdout",
     "output_type": "stream",
     "text": [
      "/usr/local/lib/python3.7/dist-packages/aif360/data/raw/adult\n"
     ]
    }
   ],
   "source": [
    "cd\t/usr/local/lib/python3.7/dist-packages/aif360/data/raw/adult"
   ]
  },
  {
   "cell_type": "code",
   "execution_count": null,
   "metadata": {
    "id": "xNabbw60Ylw2"
   },
   "outputs": [],
   "source": [
    "#adult dataset import \n",
    "\n",
    "!wget https://archive.ics.uci.edu/ml/machine-learning-databases/adult/adult.data\n",
    "!wget https://archive.ics.uci.edu/ml/machine-learning-databases/adult/adult.test\n",
    "!wget\thttps://archive.ics.uci.edu/ml/machine-learning-databases/adult/adult.names"
   ]
  },
  {
   "cell_type": "code",
   "execution_count": 5,
   "metadata": {
    "colab": {
     "base_uri": "https://localhost:8080/"
    },
    "id": "lXfk-iDbsKIb",
    "outputId": "7539ce24-901b-40be-ba38-3199f196fbd8"
   },
   "outputs": [
    {
     "name": "stdout",
     "output_type": "stream",
     "text": [
      "/usr/local/lib/python3.7/dist-packages/aif360/data/raw/german\n"
     ]
    }
   ],
   "source": [
    "cd /usr/local/lib/python3.7/dist-packages/aif360/data/raw/german"
   ]
  },
  {
   "cell_type": "code",
   "execution_count": null,
   "metadata": {
    "id": "GEvXcGvUAupR"
   },
   "outputs": [],
   "source": [
    "#german dataset import\n",
    "\n",
    "!wget\thttps://archive.ics.uci.edu/ml/machine-learning-databases/statlog/german/german.data\n",
    "!wget\thttps://archive.ics.uci.edu/ml/machine-learning-databases/statlog/german/german.doc"
   ]
  },
  {
   "cell_type": "code",
   "execution_count": 7,
   "metadata": {
    "id": "RNYXO_hBvQx3"
   },
   "outputs": [],
   "source": [
    "#imports for the assignment\n",
    "\n",
    "from matplotlib import pyplot as plt\n",
    "import numpy as np\n",
    "import pandas as pd\n",
    "import os\n",
    "import glob\n",
    "import random\n",
    "from numpy.random import RandomState\n",
    "import sklearn\n",
    "import seaborn as sns\n",
    "import matplotlib.pyplot as plt\n",
    "import pdb\n",
    "\n",
    "from IPython.display import display\n",
    "\n",
    "from sklearn.preprocessing import StandardScaler\n",
    "from sklearn.cluster import KMeans \n",
    "from sklearn.decomposition import PCA\n",
    "from sklearn.linear_model import LogisticRegression\n",
    "from sklearn.model_selection import *\n",
    "from sklearn.model_selection import cross_val_score, GridSearchCV, train_test_split\n",
    "from sklearn.metrics import accuracy_score, f1_score\n",
    "\n",
    "from aif360.datasets import BinaryLabelDataset\n",
    "from aif360.datasets import AdultDataset, GermanDataset \n",
    "from aif360.sklearn.datasets import fetch_adult\n",
    "from aif360.sklearn.metrics import disparate_impact_ratio, average_odds_error, generalized_fpr, equal_opportunity_difference\n",
    "\n",
    "from aif360.algorithms.preprocessing.reweighing import Reweighing\n",
    "from aif360.algorithms.preprocessing.optim_preproc_helpers.data_preproc_functions import load_preproc_data_adult, load_preproc_data_german\n",
    "from aif360.metrics import BinaryLabelDatasetMetric, ClassificationMetric\n",
    "\n",
    "#setting random seed as the beginning of my candidate number\n",
    "np.random.seed(244)"
   ]
  },
  {
   "cell_type": "markdown",
   "metadata": {
    "id": "4DlFLngL9An9"
   },
   "source": [
    "## Splitting into Test and Train"
   ]
  },
  {
   "cell_type": "markdown",
   "metadata": {
    "id": "OOIKi6uITAGH"
   },
   "source": [
    "### Functions"
   ]
  },
  {
   "cell_type": "code",
   "execution_count": 8,
   "metadata": {
    "id": "g69Yytw9Qcnm"
   },
   "outputs": [],
   "source": [
    "#function to split and normalise each dataset\n",
    "\n",
    "def splitdata (dataset):\n",
    "\n",
    "  #sensitive attributes\n",
    "  privileged_groups = [{'sex': 1}]\n",
    "  unprivileged_groups = [{'sex': 0}]\n",
    "  dataset_orig = dataset(['sex'])\n",
    "\n",
    "  #splitting into test and train\n",
    "  train, test = dataset_orig.split([0.7], shuffle=True)\n",
    "  print(\"training data size\", train.features.shape)\n",
    "  print(\"dataset feature names\", train.feature_names)\n",
    "\n",
    "  #normalising the dataset\n",
    "  scale_orig = StandardScaler()\n",
    "  X_train = scale_orig.fit_transform(train.features)\n",
    "  y_train = train.labels.ravel()\n",
    "\n",
    "  X_test = scale_orig.transform(test.features) \n",
    "  y_test = test.labels.ravel()\n",
    "\n",
    "  #getting to know the dataset\n",
    "  #exploration step\n",
    "\n",
    "  #shapes of each dataset\n",
    "  print('The whole adult dataset shape is ' + str(dataset_orig.features.shape))\n",
    "  print('The training adult dataset shape is ' + str(train.features.shape))\n",
    "  print('The testing adult dataset shape is ' + str(test.features.shape))\n",
    "\n",
    "  #printing the attributes and labels\n",
    "  print('Favourable label is ' + str(train.favorable_label) +' and unfavourable label is '+ str(train.unfavorable_label))\n",
    "  print('Protected attribute names ' + str(train.protected_attribute_names))\n",
    "  print('Privileged protected attribute '+ str(train.privileged_protected_attributes) +' and unpriviledged protected attribute ' + str( \n",
    "      train.unprivileged_protected_attributes))\n",
    "  print('Dataset feature names '+ str(train.feature_names))\n",
    "\n",
    "  #returning dataset specific splits and labels\n",
    "  return train, test, X_train, y_train, X_test, y_test, dataset_orig, privileged_groups, unprivileged_groups"
   ]
  },
  {
   "cell_type": "markdown",
   "metadata": {
    "id": "gm5CcqoqCq3x"
   },
   "source": [
    "### Adult"
   ]
  },
  {
   "cell_type": "markdown",
   "metadata": {
    "id": "Fq2HDkmPpeed"
   },
   "source": [
    "Will use Logistic Regression Model and use the training data to perfrom 5-fold cross validation. Using a hyperparameter accuracy-generalisation trade off. Logistic regression classifier is a probablistic classfier \n"
   ]
  },
  {
   "cell_type": "code",
   "execution_count": 9,
   "metadata": {
    "colab": {
     "base_uri": "https://localhost:8080/"
    },
    "id": "3_EuYAdsRYQc",
    "outputId": "595e0f05-f559-40c6-afa5-b2d6f5adc63a"
   },
   "outputs": [
    {
     "name": "stdout",
     "output_type": "stream",
     "text": [
      "training data size (34189, 18)\n",
      "dataset feature names ['race', 'sex', 'Age (decade)=10', 'Age (decade)=20', 'Age (decade)=30', 'Age (decade)=40', 'Age (decade)=50', 'Age (decade)=60', 'Age (decade)=>=70', 'Education Years=6', 'Education Years=7', 'Education Years=8', 'Education Years=9', 'Education Years=10', 'Education Years=11', 'Education Years=12', 'Education Years=<6', 'Education Years=>12']\n",
      "The whole adult dataset shape is (48842, 18)\n",
      "The training adult dataset shape is (34189, 18)\n",
      "The testing adult dataset shape is (14653, 18)\n",
      "Favourable label is 1.0 and unfavourable label is 0.0\n",
      "Protected attribute names ['sex']\n",
      "Privileged protected attribute [array([1.])] and unpriviledged protected attribute [array([0.])]\n",
      "Dataset feature names ['race', 'sex', 'Age (decade)=10', 'Age (decade)=20', 'Age (decade)=30', 'Age (decade)=40', 'Age (decade)=50', 'Age (decade)=60', 'Age (decade)=>=70', 'Education Years=6', 'Education Years=7', 'Education Years=8', 'Education Years=9', 'Education Years=10', 'Education Years=11', 'Education Years=12', 'Education Years=<6', 'Education Years=>12']\n"
     ]
    }
   ],
   "source": [
    "#splitting adult dataset \n",
    "#getting information for this dataset\n",
    "a_train, a_test, X_train_a, y_train_a, X_test_a, y_test_a, a_dataset_orig, privileged_groups, unprivileged_groups = splitdata (load_preproc_data_adult)"
   ]
  },
  {
   "cell_type": "markdown",
   "metadata": {
    "id": "Iop1fQk0CtvZ"
   },
   "source": [
    "### German"
   ]
  },
  {
   "cell_type": "code",
   "execution_count": 10,
   "metadata": {
    "colab": {
     "base_uri": "https://localhost:8080/"
    },
    "id": "LgL63AM7TFAP",
    "outputId": "50437a0c-54d0-4cea-c052-34987eb1c065"
   },
   "outputs": [
    {
     "name": "stdout",
     "output_type": "stream",
     "text": [
      "training data size (700, 11)\n",
      "dataset feature names ['age', 'sex', 'credit_history=Delay', 'credit_history=None/Paid', 'credit_history=Other', 'savings=500+', 'savings=<500', 'savings=Unknown/None', 'employment=1-4 years', 'employment=4+ years', 'employment=Unemployed']\n",
      "The whole adult dataset shape is (1000, 11)\n",
      "The training adult dataset shape is (700, 11)\n",
      "The testing adult dataset shape is (300, 11)\n",
      "Favourable label is 1.0 and unfavourable label is 2.0\n",
      "Protected attribute names ['sex']\n",
      "Privileged protected attribute [array([1.])] and unpriviledged protected attribute [array([0.])]\n",
      "Dataset feature names ['age', 'sex', 'credit_history=Delay', 'credit_history=None/Paid', 'credit_history=Other', 'savings=500+', 'savings=<500', 'savings=Unknown/None', 'employment=1-4 years', 'employment=4+ years', 'employment=Unemployed']\n"
     ]
    }
   ],
   "source": [
    "#splitting german dataset \n",
    "#getting information for this dataset\n",
    "\n",
    "g_train, g_test, X_train_g, y_train_g, X_test_g, y_test_g, g_dataset_orig, privileged_groups, unprivileged_groups= splitdata (load_preproc_data_german)"
   ]
  },
  {
   "cell_type": "markdown",
   "metadata": {
    "id": "KNe0D2pwTdMi"
   },
   "source": [
    "### Explore"
   ]
  },
  {
   "cell_type": "code",
   "execution_count": 11,
   "metadata": {
    "id": "RAzTj_U9vKrz"
   },
   "outputs": [],
   "source": [
    "#function to create a dataframe for further exploration\n",
    "\n",
    "def dataframe(data):\n",
    "  df = pd.DataFrame(np.hstack((data.features, data.labels)),\n",
    "                    columns = data.feature_names+data.label_names, \n",
    "                    index = data.instance_names)\n",
    "  df.loc[:,data.protected_attribute_names] = data.protected_attributes\n",
    "  return df"
   ]
  },
  {
   "cell_type": "code",
   "execution_count": 12,
   "metadata": {
    "colab": {
     "base_uri": "https://localhost:8080/"
    },
    "id": "4azdmeLCzE-H",
    "outputId": "52251eb1-0410-403d-869c-b2db7e2edf59"
   },
   "outputs": [
    {
     "data": {
      "text/plain": [
       "(48842, 20)"
      ]
     },
     "execution_count": 12,
     "metadata": {},
     "output_type": "execute_result"
    }
   ],
   "source": [
    "#what is the size of the adults dataset\n",
    "#adding the labels onto the df\n",
    "\n",
    "dfad = dataframe(a_dataset_orig)\n",
    "dfad['labels'] = a_dataset_orig.labels\n",
    "dfad.shape"
   ]
  },
  {
   "cell_type": "code",
   "execution_count": 13,
   "metadata": {
    "colab": {
     "base_uri": "https://localhost:8080/"
    },
    "id": "3I0fJpQkGlWm",
    "outputId": "9c98a703-515d-43f6-fa3e-e37c0143573f"
   },
   "outputs": [
    {
     "data": {
      "text/plain": [
       "(1000, 13)"
      ]
     },
     "execution_count": 13,
     "metadata": {},
     "output_type": "execute_result"
    }
   ],
   "source": [
    "#what is the size of the adults dataset\n",
    "#adding the labels onto the df\n",
    "\n",
    "dfger = dataframe(g_dataset_orig)\n",
    "dfger['labels'] = g_dataset_orig.labels\n",
    "dfger.shape"
   ]
  },
  {
   "cell_type": "code",
   "execution_count": 14,
   "metadata": {
    "colab": {
     "base_uri": "https://localhost:8080/"
    },
    "id": "3HrTnYX7Cfge",
    "outputId": "f727efb4-421c-4189-a14c-da4bd349bd34"
   },
   "outputs": [
    {
     "data": {
      "text/plain": [
       "32650.0"
      ]
     },
     "execution_count": 14,
     "metadata": {},
     "output_type": "execute_result"
    }
   ],
   "source": [
    "#this is therefore an unbalanced dataset\n",
    "\n",
    "sum(dfad['sex'])"
   ]
  },
  {
   "cell_type": "code",
   "execution_count": 15,
   "metadata": {
    "colab": {
     "base_uri": "https://localhost:8080/"
    },
    "id": "cWIyI4J_Grku",
    "outputId": "b3c0d104-b8d8-49e9-bf41-861ef001fbc8"
   },
   "outputs": [
    {
     "data": {
      "text/plain": [
       "690.0"
      ]
     },
     "execution_count": 15,
     "metadata": {},
     "output_type": "execute_result"
    }
   ],
   "source": [
    "#checking is the german dataset is also imbalanced with sex\n",
    "\n",
    "sum(dfger['sex'])"
   ]
  },
  {
   "cell_type": "code",
   "execution_count": 16,
   "metadata": {
    "colab": {
     "base_uri": "https://localhost:8080/",
     "height": 505
    },
    "id": "yYInurOwjS-z",
    "outputId": "d686d9f6-a57b-4e5f-e22b-bfe7c779bd72"
   },
   "outputs": [
    {
     "data": {
      "text/html": [
       "\n",
       "  <div id=\"df-279b33ff-d87e-4b03-bdd8-f6e9f4527011\">\n",
       "    <div class=\"colab-df-container\">\n",
       "      <div>\n",
       "<style scoped>\n",
       "    .dataframe tbody tr th:only-of-type {\n",
       "        vertical-align: middle;\n",
       "    }\n",
       "\n",
       "    .dataframe tbody tr th {\n",
       "        vertical-align: top;\n",
       "    }\n",
       "\n",
       "    .dataframe thead th {\n",
       "        text-align: right;\n",
       "    }\n",
       "</style>\n",
       "<table border=\"1\" class=\"dataframe\">\n",
       "  <thead>\n",
       "    <tr style=\"text-align: right;\">\n",
       "      <th></th>\n",
       "      <th>race</th>\n",
       "      <th>sex</th>\n",
       "      <th>Age (decade)=10</th>\n",
       "      <th>Age (decade)=20</th>\n",
       "      <th>Age (decade)=30</th>\n",
       "      <th>Age (decade)=40</th>\n",
       "      <th>Age (decade)=50</th>\n",
       "      <th>Age (decade)=60</th>\n",
       "      <th>Age (decade)=&gt;=70</th>\n",
       "      <th>Education Years=6</th>\n",
       "      <th>Education Years=7</th>\n",
       "      <th>Education Years=8</th>\n",
       "      <th>Education Years=9</th>\n",
       "      <th>Education Years=10</th>\n",
       "      <th>Education Years=11</th>\n",
       "      <th>Education Years=12</th>\n",
       "      <th>Education Years=&lt;6</th>\n",
       "      <th>Education Years=&gt;12</th>\n",
       "      <th>Income Binary</th>\n",
       "      <th>labels</th>\n",
       "    </tr>\n",
       "  </thead>\n",
       "  <tbody>\n",
       "    <tr>\n",
       "      <th>0</th>\n",
       "      <td>0.0</td>\n",
       "      <td>1.0</td>\n",
       "      <td>0.0</td>\n",
       "      <td>1.0</td>\n",
       "      <td>0.0</td>\n",
       "      <td>0.0</td>\n",
       "      <td>0.0</td>\n",
       "      <td>0.0</td>\n",
       "      <td>0.0</td>\n",
       "      <td>0.0</td>\n",
       "      <td>1.0</td>\n",
       "      <td>0.0</td>\n",
       "      <td>0.0</td>\n",
       "      <td>0.0</td>\n",
       "      <td>0.0</td>\n",
       "      <td>0.0</td>\n",
       "      <td>0.0</td>\n",
       "      <td>0.0</td>\n",
       "      <td>0.0</td>\n",
       "      <td>0.0</td>\n",
       "    </tr>\n",
       "    <tr>\n",
       "      <th>1</th>\n",
       "      <td>1.0</td>\n",
       "      <td>1.0</td>\n",
       "      <td>0.0</td>\n",
       "      <td>0.0</td>\n",
       "      <td>1.0</td>\n",
       "      <td>0.0</td>\n",
       "      <td>0.0</td>\n",
       "      <td>0.0</td>\n",
       "      <td>0.0</td>\n",
       "      <td>0.0</td>\n",
       "      <td>0.0</td>\n",
       "      <td>0.0</td>\n",
       "      <td>1.0</td>\n",
       "      <td>0.0</td>\n",
       "      <td>0.0</td>\n",
       "      <td>0.0</td>\n",
       "      <td>0.0</td>\n",
       "      <td>0.0</td>\n",
       "      <td>0.0</td>\n",
       "      <td>0.0</td>\n",
       "    </tr>\n",
       "    <tr>\n",
       "      <th>2</th>\n",
       "      <td>1.0</td>\n",
       "      <td>1.0</td>\n",
       "      <td>0.0</td>\n",
       "      <td>1.0</td>\n",
       "      <td>0.0</td>\n",
       "      <td>0.0</td>\n",
       "      <td>0.0</td>\n",
       "      <td>0.0</td>\n",
       "      <td>0.0</td>\n",
       "      <td>0.0</td>\n",
       "      <td>0.0</td>\n",
       "      <td>0.0</td>\n",
       "      <td>0.0</td>\n",
       "      <td>0.0</td>\n",
       "      <td>0.0</td>\n",
       "      <td>1.0</td>\n",
       "      <td>0.0</td>\n",
       "      <td>0.0</td>\n",
       "      <td>1.0</td>\n",
       "      <td>1.0</td>\n",
       "    </tr>\n",
       "    <tr>\n",
       "      <th>3</th>\n",
       "      <td>0.0</td>\n",
       "      <td>1.0</td>\n",
       "      <td>0.0</td>\n",
       "      <td>0.0</td>\n",
       "      <td>0.0</td>\n",
       "      <td>1.0</td>\n",
       "      <td>0.0</td>\n",
       "      <td>0.0</td>\n",
       "      <td>0.0</td>\n",
       "      <td>0.0</td>\n",
       "      <td>0.0</td>\n",
       "      <td>0.0</td>\n",
       "      <td>0.0</td>\n",
       "      <td>1.0</td>\n",
       "      <td>0.0</td>\n",
       "      <td>0.0</td>\n",
       "      <td>0.0</td>\n",
       "      <td>0.0</td>\n",
       "      <td>1.0</td>\n",
       "      <td>1.0</td>\n",
       "    </tr>\n",
       "    <tr>\n",
       "      <th>4</th>\n",
       "      <td>1.0</td>\n",
       "      <td>0.0</td>\n",
       "      <td>1.0</td>\n",
       "      <td>0.0</td>\n",
       "      <td>0.0</td>\n",
       "      <td>0.0</td>\n",
       "      <td>0.0</td>\n",
       "      <td>0.0</td>\n",
       "      <td>0.0</td>\n",
       "      <td>0.0</td>\n",
       "      <td>0.0</td>\n",
       "      <td>0.0</td>\n",
       "      <td>0.0</td>\n",
       "      <td>1.0</td>\n",
       "      <td>0.0</td>\n",
       "      <td>0.0</td>\n",
       "      <td>0.0</td>\n",
       "      <td>0.0</td>\n",
       "      <td>0.0</td>\n",
       "      <td>0.0</td>\n",
       "    </tr>\n",
       "    <tr>\n",
       "      <th>...</th>\n",
       "      <td>...</td>\n",
       "      <td>...</td>\n",
       "      <td>...</td>\n",
       "      <td>...</td>\n",
       "      <td>...</td>\n",
       "      <td>...</td>\n",
       "      <td>...</td>\n",
       "      <td>...</td>\n",
       "      <td>...</td>\n",
       "      <td>...</td>\n",
       "      <td>...</td>\n",
       "      <td>...</td>\n",
       "      <td>...</td>\n",
       "      <td>...</td>\n",
       "      <td>...</td>\n",
       "      <td>...</td>\n",
       "      <td>...</td>\n",
       "      <td>...</td>\n",
       "      <td>...</td>\n",
       "      <td>...</td>\n",
       "    </tr>\n",
       "    <tr>\n",
       "      <th>48837</th>\n",
       "      <td>1.0</td>\n",
       "      <td>0.0</td>\n",
       "      <td>0.0</td>\n",
       "      <td>1.0</td>\n",
       "      <td>0.0</td>\n",
       "      <td>0.0</td>\n",
       "      <td>0.0</td>\n",
       "      <td>0.0</td>\n",
       "      <td>0.0</td>\n",
       "      <td>0.0</td>\n",
       "      <td>0.0</td>\n",
       "      <td>0.0</td>\n",
       "      <td>0.0</td>\n",
       "      <td>0.0</td>\n",
       "      <td>0.0</td>\n",
       "      <td>1.0</td>\n",
       "      <td>0.0</td>\n",
       "      <td>0.0</td>\n",
       "      <td>0.0</td>\n",
       "      <td>0.0</td>\n",
       "    </tr>\n",
       "    <tr>\n",
       "      <th>48838</th>\n",
       "      <td>1.0</td>\n",
       "      <td>1.0</td>\n",
       "      <td>0.0</td>\n",
       "      <td>0.0</td>\n",
       "      <td>0.0</td>\n",
       "      <td>1.0</td>\n",
       "      <td>0.0</td>\n",
       "      <td>0.0</td>\n",
       "      <td>0.0</td>\n",
       "      <td>0.0</td>\n",
       "      <td>0.0</td>\n",
       "      <td>0.0</td>\n",
       "      <td>1.0</td>\n",
       "      <td>0.0</td>\n",
       "      <td>0.0</td>\n",
       "      <td>0.0</td>\n",
       "      <td>0.0</td>\n",
       "      <td>0.0</td>\n",
       "      <td>1.0</td>\n",
       "      <td>1.0</td>\n",
       "    </tr>\n",
       "    <tr>\n",
       "      <th>48839</th>\n",
       "      <td>1.0</td>\n",
       "      <td>0.0</td>\n",
       "      <td>0.0</td>\n",
       "      <td>0.0</td>\n",
       "      <td>0.0</td>\n",
       "      <td>0.0</td>\n",
       "      <td>1.0</td>\n",
       "      <td>0.0</td>\n",
       "      <td>0.0</td>\n",
       "      <td>0.0</td>\n",
       "      <td>0.0</td>\n",
       "      <td>0.0</td>\n",
       "      <td>1.0</td>\n",
       "      <td>0.0</td>\n",
       "      <td>0.0</td>\n",
       "      <td>0.0</td>\n",
       "      <td>0.0</td>\n",
       "      <td>0.0</td>\n",
       "      <td>0.0</td>\n",
       "      <td>0.0</td>\n",
       "    </tr>\n",
       "    <tr>\n",
       "      <th>48840</th>\n",
       "      <td>1.0</td>\n",
       "      <td>1.0</td>\n",
       "      <td>0.0</td>\n",
       "      <td>1.0</td>\n",
       "      <td>0.0</td>\n",
       "      <td>0.0</td>\n",
       "      <td>0.0</td>\n",
       "      <td>0.0</td>\n",
       "      <td>0.0</td>\n",
       "      <td>0.0</td>\n",
       "      <td>0.0</td>\n",
       "      <td>0.0</td>\n",
       "      <td>1.0</td>\n",
       "      <td>0.0</td>\n",
       "      <td>0.0</td>\n",
       "      <td>0.0</td>\n",
       "      <td>0.0</td>\n",
       "      <td>0.0</td>\n",
       "      <td>0.0</td>\n",
       "      <td>0.0</td>\n",
       "    </tr>\n",
       "    <tr>\n",
       "      <th>48841</th>\n",
       "      <td>1.0</td>\n",
       "      <td>0.0</td>\n",
       "      <td>0.0</td>\n",
       "      <td>0.0</td>\n",
       "      <td>0.0</td>\n",
       "      <td>0.0</td>\n",
       "      <td>1.0</td>\n",
       "      <td>0.0</td>\n",
       "      <td>0.0</td>\n",
       "      <td>0.0</td>\n",
       "      <td>0.0</td>\n",
       "      <td>0.0</td>\n",
       "      <td>1.0</td>\n",
       "      <td>0.0</td>\n",
       "      <td>0.0</td>\n",
       "      <td>0.0</td>\n",
       "      <td>0.0</td>\n",
       "      <td>0.0</td>\n",
       "      <td>1.0</td>\n",
       "      <td>1.0</td>\n",
       "    </tr>\n",
       "  </tbody>\n",
       "</table>\n",
       "<p>48842 rows × 20 columns</p>\n",
       "</div>\n",
       "      <button class=\"colab-df-convert\" onclick=\"convertToInteractive('df-279b33ff-d87e-4b03-bdd8-f6e9f4527011')\"\n",
       "              title=\"Convert this dataframe to an interactive table.\"\n",
       "              style=\"display:none;\">\n",
       "        \n",
       "  <svg xmlns=\"http://www.w3.org/2000/svg\" height=\"24px\"viewBox=\"0 0 24 24\"\n",
       "       width=\"24px\">\n",
       "    <path d=\"M0 0h24v24H0V0z\" fill=\"none\"/>\n",
       "    <path d=\"M18.56 5.44l.94 2.06.94-2.06 2.06-.94-2.06-.94-.94-2.06-.94 2.06-2.06.94zm-11 1L8.5 8.5l.94-2.06 2.06-.94-2.06-.94L8.5 2.5l-.94 2.06-2.06.94zm10 10l.94 2.06.94-2.06 2.06-.94-2.06-.94-.94-2.06-.94 2.06-2.06.94z\"/><path d=\"M17.41 7.96l-1.37-1.37c-.4-.4-.92-.59-1.43-.59-.52 0-1.04.2-1.43.59L10.3 9.45l-7.72 7.72c-.78.78-.78 2.05 0 2.83L4 21.41c.39.39.9.59 1.41.59.51 0 1.02-.2 1.41-.59l7.78-7.78 2.81-2.81c.8-.78.8-2.07 0-2.86zM5.41 20L4 18.59l7.72-7.72 1.47 1.35L5.41 20z\"/>\n",
       "  </svg>\n",
       "      </button>\n",
       "      \n",
       "  <style>\n",
       "    .colab-df-container {\n",
       "      display:flex;\n",
       "      flex-wrap:wrap;\n",
       "      gap: 12px;\n",
       "    }\n",
       "\n",
       "    .colab-df-convert {\n",
       "      background-color: #E8F0FE;\n",
       "      border: none;\n",
       "      border-radius: 50%;\n",
       "      cursor: pointer;\n",
       "      display: none;\n",
       "      fill: #1967D2;\n",
       "      height: 32px;\n",
       "      padding: 0 0 0 0;\n",
       "      width: 32px;\n",
       "    }\n",
       "\n",
       "    .colab-df-convert:hover {\n",
       "      background-color: #E2EBFA;\n",
       "      box-shadow: 0px 1px 2px rgba(60, 64, 67, 0.3), 0px 1px 3px 1px rgba(60, 64, 67, 0.15);\n",
       "      fill: #174EA6;\n",
       "    }\n",
       "\n",
       "    [theme=dark] .colab-df-convert {\n",
       "      background-color: #3B4455;\n",
       "      fill: #D2E3FC;\n",
       "    }\n",
       "\n",
       "    [theme=dark] .colab-df-convert:hover {\n",
       "      background-color: #434B5C;\n",
       "      box-shadow: 0px 1px 3px 1px rgba(0, 0, 0, 0.15);\n",
       "      filter: drop-shadow(0px 1px 2px rgba(0, 0, 0, 0.3));\n",
       "      fill: #FFFFFF;\n",
       "    }\n",
       "  </style>\n",
       "\n",
       "      <script>\n",
       "        const buttonEl =\n",
       "          document.querySelector('#df-279b33ff-d87e-4b03-bdd8-f6e9f4527011 button.colab-df-convert');\n",
       "        buttonEl.style.display =\n",
       "          google.colab.kernel.accessAllowed ? 'block' : 'none';\n",
       "\n",
       "        async function convertToInteractive(key) {\n",
       "          const element = document.querySelector('#df-279b33ff-d87e-4b03-bdd8-f6e9f4527011');\n",
       "          const dataTable =\n",
       "            await google.colab.kernel.invokeFunction('convertToInteractive',\n",
       "                                                     [key], {});\n",
       "          if (!dataTable) return;\n",
       "\n",
       "          const docLinkHtml = 'Like what you see? Visit the ' +\n",
       "            '<a target=\"_blank\" href=https://colab.research.google.com/notebooks/data_table.ipynb>data table notebook</a>'\n",
       "            + ' to learn more about interactive tables.';\n",
       "          element.innerHTML = '';\n",
       "          dataTable['output_type'] = 'display_data';\n",
       "          await google.colab.output.renderOutput(dataTable, element);\n",
       "          const docLink = document.createElement('div');\n",
       "          docLink.innerHTML = docLinkHtml;\n",
       "          element.appendChild(docLink);\n",
       "        }\n",
       "      </script>\n",
       "    </div>\n",
       "  </div>\n",
       "  "
      ],
      "text/plain": [
       "       race  sex  Age (decade)=10  Age (decade)=20  Age (decade)=30  \\\n",
       "0       0.0  1.0              0.0              1.0              0.0   \n",
       "1       1.0  1.0              0.0              0.0              1.0   \n",
       "2       1.0  1.0              0.0              1.0              0.0   \n",
       "3       0.0  1.0              0.0              0.0              0.0   \n",
       "4       1.0  0.0              1.0              0.0              0.0   \n",
       "...     ...  ...              ...              ...              ...   \n",
       "48837   1.0  0.0              0.0              1.0              0.0   \n",
       "48838   1.0  1.0              0.0              0.0              0.0   \n",
       "48839   1.0  0.0              0.0              0.0              0.0   \n",
       "48840   1.0  1.0              0.0              1.0              0.0   \n",
       "48841   1.0  0.0              0.0              0.0              0.0   \n",
       "\n",
       "       Age (decade)=40  Age (decade)=50  Age (decade)=60  Age (decade)=>=70  \\\n",
       "0                  0.0              0.0              0.0                0.0   \n",
       "1                  0.0              0.0              0.0                0.0   \n",
       "2                  0.0              0.0              0.0                0.0   \n",
       "3                  1.0              0.0              0.0                0.0   \n",
       "4                  0.0              0.0              0.0                0.0   \n",
       "...                ...              ...              ...                ...   \n",
       "48837              0.0              0.0              0.0                0.0   \n",
       "48838              1.0              0.0              0.0                0.0   \n",
       "48839              0.0              1.0              0.0                0.0   \n",
       "48840              0.0              0.0              0.0                0.0   \n",
       "48841              0.0              1.0              0.0                0.0   \n",
       "\n",
       "       Education Years=6  Education Years=7  Education Years=8  \\\n",
       "0                    0.0                1.0                0.0   \n",
       "1                    0.0                0.0                0.0   \n",
       "2                    0.0                0.0                0.0   \n",
       "3                    0.0                0.0                0.0   \n",
       "4                    0.0                0.0                0.0   \n",
       "...                  ...                ...                ...   \n",
       "48837                0.0                0.0                0.0   \n",
       "48838                0.0                0.0                0.0   \n",
       "48839                0.0                0.0                0.0   \n",
       "48840                0.0                0.0                0.0   \n",
       "48841                0.0                0.0                0.0   \n",
       "\n",
       "       Education Years=9  Education Years=10  Education Years=11  \\\n",
       "0                    0.0                 0.0                 0.0   \n",
       "1                    1.0                 0.0                 0.0   \n",
       "2                    0.0                 0.0                 0.0   \n",
       "3                    0.0                 1.0                 0.0   \n",
       "4                    0.0                 1.0                 0.0   \n",
       "...                  ...                 ...                 ...   \n",
       "48837                0.0                 0.0                 0.0   \n",
       "48838                1.0                 0.0                 0.0   \n",
       "48839                1.0                 0.0                 0.0   \n",
       "48840                1.0                 0.0                 0.0   \n",
       "48841                1.0                 0.0                 0.0   \n",
       "\n",
       "       Education Years=12  Education Years=<6  Education Years=>12  \\\n",
       "0                     0.0                 0.0                  0.0   \n",
       "1                     0.0                 0.0                  0.0   \n",
       "2                     1.0                 0.0                  0.0   \n",
       "3                     0.0                 0.0                  0.0   \n",
       "4                     0.0                 0.0                  0.0   \n",
       "...                   ...                 ...                  ...   \n",
       "48837                 1.0                 0.0                  0.0   \n",
       "48838                 0.0                 0.0                  0.0   \n",
       "48839                 0.0                 0.0                  0.0   \n",
       "48840                 0.0                 0.0                  0.0   \n",
       "48841                 0.0                 0.0                  0.0   \n",
       "\n",
       "       Income Binary  labels  \n",
       "0                0.0     0.0  \n",
       "1                0.0     0.0  \n",
       "2                1.0     1.0  \n",
       "3                1.0     1.0  \n",
       "4                0.0     0.0  \n",
       "...              ...     ...  \n",
       "48837            0.0     0.0  \n",
       "48838            1.0     1.0  \n",
       "48839            0.0     0.0  \n",
       "48840            0.0     0.0  \n",
       "48841            1.0     1.0  \n",
       "\n",
       "[48842 rows x 20 columns]"
      ]
     },
     "execution_count": 16,
     "metadata": {},
     "output_type": "execute_result"
    }
   ],
   "source": [
    "#printing the dataset to explore the other attributes \n",
    "dfad"
   ]
  },
  {
   "cell_type": "markdown",
   "metadata": {
    "id": "jEm5Nx_ocnKh"
   },
   "source": [
    "## Picking a model "
   ]
  },
  {
   "cell_type": "markdown",
   "metadata": {
    "id": "RpIYfQA0fXOh"
   },
   "source": [
    "This assignment will be studying the Logistic Regression model and observing the effects of regularisation on the accuracy-fairness tradeoff."
   ]
  },
  {
   "cell_type": "markdown",
   "metadata": {
    "id": "wXHqV554EiPH"
   },
   "source": [
    "# **Task 1**\n",
    "\n",
    "The standard machine learning methods such as logistic regression, support vector machines, multi-layer perceptron use a trade-off hyperparameter (lambda, learning rate) to trade-off accuracy and generalisation (Lecture 5). The first task is to analyse whether or not better generalisation could correspond to fairer models.\n",
    "\n",
    "Specifically, for a given machine learning model of your choice, use training data to perform 5-fold cross validation. By varying the trade-off hyperparameter, select (1) the model with the highest accuracy, and (2) the model with the best fairness metric across 5 folds 1. After this model selection step, compute and report final accuracy and fairness metrics for both models (1) and (2) on the test set."
   ]
  },
  {
   "cell_type": "markdown",
   "metadata": {
    "id": "3Wb7OzQ4HBs5"
   },
   "source": [
    "***\n"
   ]
  },
  {
   "cell_type": "markdown",
   "metadata": {
    "id": "LwB8XY5LHHP6"
   },
   "source": [
    "## (1) Hyperparameter tuning using GridSearch\n",
    "\n",
    "In grid search, we preset a list of values for each hyperparameter. Then, we evaluate the model accuracy for every C value in this list."
   ]
  },
  {
   "cell_type": "markdown",
   "metadata": {
    "id": "SC-tXliZZs2i"
   },
   "source": [
    "### Functions"
   ]
  },
  {
   "cell_type": "code",
   "execution_count": 17,
   "metadata": {
    "id": "YRPe6WwqT98m"
   },
   "outputs": [],
   "source": [
    "#using grid-search for hyperparameter tuning\n",
    "\n",
    "#creating a function that inputs the x and y train values and changing c values\n",
    "def lr_gridsearch (x, y, cvalues):\n",
    "  #training the model\n",
    "  clf= GridSearchCV(LogisticRegression(solver = 'liblinear', random_state = 1), {'C':cvalues}, cv=5) #cv = 5 is using 5 fold cross validation\n",
    "  clf.fit(x, y)\n",
    "  clf.cv_results_ #gridsearch function that prints results\n",
    "\n",
    "  #displaying the results\n",
    "  #best params is a setting that gave the best results on the hold out data\n",
    "  #best score is the mean cross-validated score of the best_estimator \n",
    "  print(\"Tuned hyperparameter is at\",clf.best_params_, \"with accuracy :\",clf.best_score_) \n",
    "\n",
    "  #displaying the results\n",
    "  df = pd.DataFrame(clf.cv_results_)\n",
    "  display(df[['params','mean_test_score' ]])\n",
    "  \n",
    "  \n",
    "  xplt = np.array(cvalues)\n",
    "  plt.figure(figsize = (10,6))\n",
    "  plt.plot(xplt, df.mean_test_score)\n",
    "\n",
    "  #displaying the results in a graph\n",
    "  font1 = {'family':'serif','color':'blue','size':13}\n",
    "  font2 = {'family':'serif','color':'blue','size':11}\n",
    "  plt.title('Hyperparameter GridSearch Results', fontdict = font1)\n",
    "  plt.xlabel('C Values', fontdict = font2)\n",
    "  plt.ylabel('Accuracy', fontdict = font2)\n",
    "  plt.show()"
   ]
  },
  {
   "cell_type": "markdown",
   "metadata": {
    "id": "z94KqeguVucu"
   },
   "source": [
    "\n",
    "### Adult\n"
   ]
  },
  {
   "cell_type": "code",
   "execution_count": 18,
   "metadata": {
    "colab": {
     "base_uri": "https://localhost:8080/",
     "height": 642
    },
    "id": "scS5q4tQzIeJ",
    "outputId": "e1a41e9a-d1d8-42ef-cedc-ef272411b388"
   },
   "outputs": [
    {
     "name": "stdout",
     "output_type": "stream",
     "text": [
      "Tuned hyperparameter is at {'C': 0.05} with accuracy : 0.8043816906811315\n"
     ]
    },
    {
     "data": {
      "text/html": [
       "\n",
       "  <div id=\"df-6c9cd461-b5d6-4754-875b-33a7b64837a4\">\n",
       "    <div class=\"colab-df-container\">\n",
       "      <div>\n",
       "<style scoped>\n",
       "    .dataframe tbody tr th:only-of-type {\n",
       "        vertical-align: middle;\n",
       "    }\n",
       "\n",
       "    .dataframe tbody tr th {\n",
       "        vertical-align: top;\n",
       "    }\n",
       "\n",
       "    .dataframe thead th {\n",
       "        text-align: right;\n",
       "    }\n",
       "</style>\n",
       "<table border=\"1\" class=\"dataframe\">\n",
       "  <thead>\n",
       "    <tr style=\"text-align: right;\">\n",
       "      <th></th>\n",
       "      <th>params</th>\n",
       "      <th>mean_test_score</th>\n",
       "    </tr>\n",
       "  </thead>\n",
       "  <tbody>\n",
       "    <tr>\n",
       "      <th>0</th>\n",
       "      <td>{'C': 0.005}</td>\n",
       "      <td>0.804323</td>\n",
       "    </tr>\n",
       "    <tr>\n",
       "      <th>1</th>\n",
       "      <td>{'C': 0.01}</td>\n",
       "      <td>0.804323</td>\n",
       "    </tr>\n",
       "    <tr>\n",
       "      <th>2</th>\n",
       "      <td>{'C': 0.05}</td>\n",
       "      <td>0.804382</td>\n",
       "    </tr>\n",
       "    <tr>\n",
       "      <th>3</th>\n",
       "      <td>{'C': 0.1}</td>\n",
       "      <td>0.804382</td>\n",
       "    </tr>\n",
       "    <tr>\n",
       "      <th>4</th>\n",
       "      <td>{'C': 0.5}</td>\n",
       "      <td>0.804382</td>\n",
       "    </tr>\n",
       "    <tr>\n",
       "      <th>5</th>\n",
       "      <td>{'C': 1}</td>\n",
       "      <td>0.804382</td>\n",
       "    </tr>\n",
       "  </tbody>\n",
       "</table>\n",
       "</div>\n",
       "      <button class=\"colab-df-convert\" onclick=\"convertToInteractive('df-6c9cd461-b5d6-4754-875b-33a7b64837a4')\"\n",
       "              title=\"Convert this dataframe to an interactive table.\"\n",
       "              style=\"display:none;\">\n",
       "        \n",
       "  <svg xmlns=\"http://www.w3.org/2000/svg\" height=\"24px\"viewBox=\"0 0 24 24\"\n",
       "       width=\"24px\">\n",
       "    <path d=\"M0 0h24v24H0V0z\" fill=\"none\"/>\n",
       "    <path d=\"M18.56 5.44l.94 2.06.94-2.06 2.06-.94-2.06-.94-.94-2.06-.94 2.06-2.06.94zm-11 1L8.5 8.5l.94-2.06 2.06-.94-2.06-.94L8.5 2.5l-.94 2.06-2.06.94zm10 10l.94 2.06.94-2.06 2.06-.94-2.06-.94-.94-2.06-.94 2.06-2.06.94z\"/><path d=\"M17.41 7.96l-1.37-1.37c-.4-.4-.92-.59-1.43-.59-.52 0-1.04.2-1.43.59L10.3 9.45l-7.72 7.72c-.78.78-.78 2.05 0 2.83L4 21.41c.39.39.9.59 1.41.59.51 0 1.02-.2 1.41-.59l7.78-7.78 2.81-2.81c.8-.78.8-2.07 0-2.86zM5.41 20L4 18.59l7.72-7.72 1.47 1.35L5.41 20z\"/>\n",
       "  </svg>\n",
       "      </button>\n",
       "      \n",
       "  <style>\n",
       "    .colab-df-container {\n",
       "      display:flex;\n",
       "      flex-wrap:wrap;\n",
       "      gap: 12px;\n",
       "    }\n",
       "\n",
       "    .colab-df-convert {\n",
       "      background-color: #E8F0FE;\n",
       "      border: none;\n",
       "      border-radius: 50%;\n",
       "      cursor: pointer;\n",
       "      display: none;\n",
       "      fill: #1967D2;\n",
       "      height: 32px;\n",
       "      padding: 0 0 0 0;\n",
       "      width: 32px;\n",
       "    }\n",
       "\n",
       "    .colab-df-convert:hover {\n",
       "      background-color: #E2EBFA;\n",
       "      box-shadow: 0px 1px 2px rgba(60, 64, 67, 0.3), 0px 1px 3px 1px rgba(60, 64, 67, 0.15);\n",
       "      fill: #174EA6;\n",
       "    }\n",
       "\n",
       "    [theme=dark] .colab-df-convert {\n",
       "      background-color: #3B4455;\n",
       "      fill: #D2E3FC;\n",
       "    }\n",
       "\n",
       "    [theme=dark] .colab-df-convert:hover {\n",
       "      background-color: #434B5C;\n",
       "      box-shadow: 0px 1px 3px 1px rgba(0, 0, 0, 0.15);\n",
       "      filter: drop-shadow(0px 1px 2px rgba(0, 0, 0, 0.3));\n",
       "      fill: #FFFFFF;\n",
       "    }\n",
       "  </style>\n",
       "\n",
       "      <script>\n",
       "        const buttonEl =\n",
       "          document.querySelector('#df-6c9cd461-b5d6-4754-875b-33a7b64837a4 button.colab-df-convert');\n",
       "        buttonEl.style.display =\n",
       "          google.colab.kernel.accessAllowed ? 'block' : 'none';\n",
       "\n",
       "        async function convertToInteractive(key) {\n",
       "          const element = document.querySelector('#df-6c9cd461-b5d6-4754-875b-33a7b64837a4');\n",
       "          const dataTable =\n",
       "            await google.colab.kernel.invokeFunction('convertToInteractive',\n",
       "                                                     [key], {});\n",
       "          if (!dataTable) return;\n",
       "\n",
       "          const docLinkHtml = 'Like what you see? Visit the ' +\n",
       "            '<a target=\"_blank\" href=https://colab.research.google.com/notebooks/data_table.ipynb>data table notebook</a>'\n",
       "            + ' to learn more about interactive tables.';\n",
       "          element.innerHTML = '';\n",
       "          dataTable['output_type'] = 'display_data';\n",
       "          await google.colab.output.renderOutput(dataTable, element);\n",
       "          const docLink = document.createElement('div');\n",
       "          docLink.innerHTML = docLinkHtml;\n",
       "          element.appendChild(docLink);\n",
       "        }\n",
       "      </script>\n",
       "    </div>\n",
       "  </div>\n",
       "  "
      ],
      "text/plain": [
       "         params  mean_test_score\n",
       "0  {'C': 0.005}         0.804323\n",
       "1   {'C': 0.01}         0.804323\n",
       "2   {'C': 0.05}         0.804382\n",
       "3    {'C': 0.1}         0.804382\n",
       "4    {'C': 0.5}         0.804382\n",
       "5      {'C': 1}         0.804382"
      ]
     },
     "metadata": {},
     "output_type": "display_data"
    },
    {
     "data": {
      "image/png": "[encoded data removed]",
      "text/plain": [
       "<Figure size 720x432 with 1 Axes>"
      ]
     },
     "metadata": {
      "needs_background": "light"
     },
     "output_type": "display_data"
    }
   ],
   "source": [
    "#initially using a large range of c values with high distribution\n",
    "\n",
    "c = [0.005, 0.01, 0.05, 0.1, 0.5, 1]\n",
    "\n",
    "lr_gridsearch(X_train_a, y_train_a, c)"
   ]
  },
  {
   "cell_type": "markdown",
   "metadata": {
    "id": "Q2Ayw4Ypf7cz"
   },
   "source": [
    "Exploring the ***C*** values around 0.05 by creating a range of c values from 0.001 to 0.07"
   ]
  },
  {
   "cell_type": "code",
   "execution_count": 19,
   "metadata": {
    "colab": {
     "base_uri": "https://localhost:8080/",
     "height": 1000
    },
    "id": "RHSJ31-WUjyV",
    "outputId": "3490de0c-0fd1-44c6-b6cb-d850942feb03"
   },
   "outputs": [
    {
     "name": "stdout",
     "output_type": "stream",
     "text": [
      "Tuned hyperparameter is at {'C': 0.017} with accuracy : 0.8043816906811315\n"
     ]
    },
    {
     "data": {
      "text/html": [
       "\n",
       "  <div id=\"df-d7b704d1-616e-46cf-900c-b992327b07dd\">\n",
       "    <div class=\"colab-df-container\">\n",
       "      <div>\n",
       "<style scoped>\n",
       "    .dataframe tbody tr th:only-of-type {\n",
       "        vertical-align: middle;\n",
       "    }\n",
       "\n",
       "    .dataframe tbody tr th {\n",
       "        vertical-align: top;\n",
       "    }\n",
       "\n",
       "    .dataframe thead th {\n",
       "        text-align: right;\n",
       "    }\n",
       "</style>\n",
       "<table border=\"1\" class=\"dataframe\">\n",
       "  <thead>\n",
       "    <tr style=\"text-align: right;\">\n",
       "      <th></th>\n",
       "      <th>params</th>\n",
       "      <th>mean_test_score</th>\n",
       "    </tr>\n",
       "  </thead>\n",
       "  <tbody>\n",
       "    <tr>\n",
       "      <th>0</th>\n",
       "      <td>{'C': 0.001}</td>\n",
       "      <td>0.803914</td>\n",
       "    </tr>\n",
       "    <tr>\n",
       "      <th>1</th>\n",
       "      <td>{'C': 0.003}</td>\n",
       "      <td>0.804060</td>\n",
       "    </tr>\n",
       "    <tr>\n",
       "      <th>2</th>\n",
       "      <td>{'C': 0.005}</td>\n",
       "      <td>0.804323</td>\n",
       "    </tr>\n",
       "    <tr>\n",
       "      <th>3</th>\n",
       "      <td>{'C': 0.007}</td>\n",
       "      <td>0.804323</td>\n",
       "    </tr>\n",
       "    <tr>\n",
       "      <th>4</th>\n",
       "      <td>{'C': 0.009000000000000001}</td>\n",
       "      <td>0.804323</td>\n",
       "    </tr>\n",
       "    <tr>\n",
       "      <th>5</th>\n",
       "      <td>{'C': 0.011}</td>\n",
       "      <td>0.804323</td>\n",
       "    </tr>\n",
       "    <tr>\n",
       "      <th>6</th>\n",
       "      <td>{'C': 0.013000000000000001}</td>\n",
       "      <td>0.804323</td>\n",
       "    </tr>\n",
       "    <tr>\n",
       "      <th>7</th>\n",
       "      <td>{'C': 0.015}</td>\n",
       "      <td>0.804323</td>\n",
       "    </tr>\n",
       "    <tr>\n",
       "      <th>8</th>\n",
       "      <td>{'C': 0.017}</td>\n",
       "      <td>0.804382</td>\n",
       "    </tr>\n",
       "    <tr>\n",
       "      <th>9</th>\n",
       "      <td>{'C': 0.019000000000000003}</td>\n",
       "      <td>0.804382</td>\n",
       "    </tr>\n",
       "    <tr>\n",
       "      <th>10</th>\n",
       "      <td>{'C': 0.021}</td>\n",
       "      <td>0.804382</td>\n",
       "    </tr>\n",
       "    <tr>\n",
       "      <th>11</th>\n",
       "      <td>{'C': 0.023}</td>\n",
       "      <td>0.804382</td>\n",
       "    </tr>\n",
       "    <tr>\n",
       "      <th>12</th>\n",
       "      <td>{'C': 0.025}</td>\n",
       "      <td>0.804382</td>\n",
       "    </tr>\n",
       "    <tr>\n",
       "      <th>13</th>\n",
       "      <td>{'C': 0.027000000000000003}</td>\n",
       "      <td>0.804382</td>\n",
       "    </tr>\n",
       "    <tr>\n",
       "      <th>14</th>\n",
       "      <td>{'C': 0.029}</td>\n",
       "      <td>0.804382</td>\n",
       "    </tr>\n",
       "    <tr>\n",
       "      <th>15</th>\n",
       "      <td>{'C': 0.031}</td>\n",
       "      <td>0.804382</td>\n",
       "    </tr>\n",
       "    <tr>\n",
       "      <th>16</th>\n",
       "      <td>{'C': 0.033}</td>\n",
       "      <td>0.804382</td>\n",
       "    </tr>\n",
       "    <tr>\n",
       "      <th>17</th>\n",
       "      <td>{'C': 0.035}</td>\n",
       "      <td>0.804382</td>\n",
       "    </tr>\n",
       "    <tr>\n",
       "      <th>18</th>\n",
       "      <td>{'C': 0.037000000000000005}</td>\n",
       "      <td>0.804382</td>\n",
       "    </tr>\n",
       "    <tr>\n",
       "      <th>19</th>\n",
       "      <td>{'C': 0.039}</td>\n",
       "      <td>0.804382</td>\n",
       "    </tr>\n",
       "    <tr>\n",
       "      <th>20</th>\n",
       "      <td>{'C': 0.041}</td>\n",
       "      <td>0.804382</td>\n",
       "    </tr>\n",
       "    <tr>\n",
       "      <th>21</th>\n",
       "      <td>{'C': 0.043000000000000003}</td>\n",
       "      <td>0.804382</td>\n",
       "    </tr>\n",
       "    <tr>\n",
       "      <th>22</th>\n",
       "      <td>{'C': 0.045}</td>\n",
       "      <td>0.804382</td>\n",
       "    </tr>\n",
       "    <tr>\n",
       "      <th>23</th>\n",
       "      <td>{'C': 0.047}</td>\n",
       "      <td>0.804382</td>\n",
       "    </tr>\n",
       "    <tr>\n",
       "      <th>24</th>\n",
       "      <td>{'C': 0.049}</td>\n",
       "      <td>0.804382</td>\n",
       "    </tr>\n",
       "    <tr>\n",
       "      <th>25</th>\n",
       "      <td>{'C': 0.051000000000000004}</td>\n",
       "      <td>0.804382</td>\n",
       "    </tr>\n",
       "    <tr>\n",
       "      <th>26</th>\n",
       "      <td>{'C': 0.053000000000000005}</td>\n",
       "      <td>0.804382</td>\n",
       "    </tr>\n",
       "    <tr>\n",
       "      <th>27</th>\n",
       "      <td>{'C': 0.055}</td>\n",
       "      <td>0.804382</td>\n",
       "    </tr>\n",
       "    <tr>\n",
       "      <th>28</th>\n",
       "      <td>{'C': 0.057}</td>\n",
       "      <td>0.804382</td>\n",
       "    </tr>\n",
       "    <tr>\n",
       "      <th>29</th>\n",
       "      <td>{'C': 0.059000000000000004}</td>\n",
       "      <td>0.804382</td>\n",
       "    </tr>\n",
       "    <tr>\n",
       "      <th>30</th>\n",
       "      <td>{'C': 0.061}</td>\n",
       "      <td>0.804382</td>\n",
       "    </tr>\n",
       "    <tr>\n",
       "      <th>31</th>\n",
       "      <td>{'C': 0.063}</td>\n",
       "      <td>0.804382</td>\n",
       "    </tr>\n",
       "    <tr>\n",
       "      <th>32</th>\n",
       "      <td>{'C': 0.065}</td>\n",
       "      <td>0.804382</td>\n",
       "    </tr>\n",
       "    <tr>\n",
       "      <th>33</th>\n",
       "      <td>{'C': 0.067}</td>\n",
       "      <td>0.804382</td>\n",
       "    </tr>\n",
       "    <tr>\n",
       "      <th>34</th>\n",
       "      <td>{'C': 0.069}</td>\n",
       "      <td>0.804382</td>\n",
       "    </tr>\n",
       "  </tbody>\n",
       "</table>\n",
       "</div>\n",
       "      <button class=\"colab-df-convert\" onclick=\"convertToInteractive('df-d7b704d1-616e-46cf-900c-b992327b07dd')\"\n",
       "              title=\"Convert this dataframe to an interactive table.\"\n",
       "              style=\"display:none;\">\n",
       "        \n",
       "  <svg xmlns=\"http://www.w3.org/2000/svg\" height=\"24px\"viewBox=\"0 0 24 24\"\n",
       "       width=\"24px\">\n",
       "    <path d=\"M0 0h24v24H0V0z\" fill=\"none\"/>\n",
       "    <path d=\"M18.56 5.44l.94 2.06.94-2.06 2.06-.94-2.06-.94-.94-2.06-.94 2.06-2.06.94zm-11 1L8.5 8.5l.94-2.06 2.06-.94-2.06-.94L8.5 2.5l-.94 2.06-2.06.94zm10 10l.94 2.06.94-2.06 2.06-.94-2.06-.94-.94-2.06-.94 2.06-2.06.94z\"/><path d=\"M17.41 7.96l-1.37-1.37c-.4-.4-.92-.59-1.43-.59-.52 0-1.04.2-1.43.59L10.3 9.45l-7.72 7.72c-.78.78-.78 2.05 0 2.83L4 21.41c.39.39.9.59 1.41.59.51 0 1.02-.2 1.41-.59l7.78-7.78 2.81-2.81c.8-.78.8-2.07 0-2.86zM5.41 20L4 18.59l7.72-7.72 1.47 1.35L5.41 20z\"/>\n",
       "  </svg>\n",
       "      </button>\n",
       "      \n",
       "  <style>\n",
       "    .colab-df-container {\n",
       "      display:flex;\n",
       "      flex-wrap:wrap;\n",
       "      gap: 12px;\n",
       "    }\n",
       "\n",
       "    .colab-df-convert {\n",
       "      background-color: #E8F0FE;\n",
       "      border: none;\n",
       "      border-radius: 50%;\n",
       "      cursor: pointer;\n",
       "      display: none;\n",
       "      fill: #1967D2;\n",
       "      height: 32px;\n",
       "      padding: 0 0 0 0;\n",
       "      width: 32px;\n",
       "    }\n",
       "\n",
       "    .colab-df-convert:hover {\n",
       "      background-color: #E2EBFA;\n",
       "      box-shadow: 0px 1px 2px rgba(60, 64, 67, 0.3), 0px 1px 3px 1px rgba(60, 64, 67, 0.15);\n",
       "      fill: #174EA6;\n",
       "    }\n",
       "\n",
       "    [theme=dark] .colab-df-convert {\n",
       "      background-color: #3B4455;\n",
       "      fill: #D2E3FC;\n",
       "    }\n",
       "\n",
       "    [theme=dark] .colab-df-convert:hover {\n",
       "      background-color: #434B5C;\n",
       "      box-shadow: 0px 1px 3px 1px rgba(0, 0, 0, 0.15);\n",
       "      filter: drop-shadow(0px 1px 2px rgba(0, 0, 0, 0.3));\n",
       "      fill: #FFFFFF;\n",
       "    }\n",
       "  </style>\n",
       "\n",
       "      <script>\n",
       "        const buttonEl =\n",
       "          document.querySelector('#df-d7b704d1-616e-46cf-900c-b992327b07dd button.colab-df-convert');\n",
       "        buttonEl.style.display =\n",
       "          google.colab.kernel.accessAllowed ? 'block' : 'none';\n",
       "\n",
       "        async function convertToInteractive(key) {\n",
       "          const element = document.querySelector('#df-d7b704d1-616e-46cf-900c-b992327b07dd');\n",
       "          const dataTable =\n",
       "            await google.colab.kernel.invokeFunction('convertToInteractive',\n",
       "                                                     [key], {});\n",
       "          if (!dataTable) return;\n",
       "\n",
       "          const docLinkHtml = 'Like what you see? Visit the ' +\n",
       "            '<a target=\"_blank\" href=https://colab.research.google.com/notebooks/data_table.ipynb>data table notebook</a>'\n",
       "            + ' to learn more about interactive tables.';\n",
       "          element.innerHTML = '';\n",
       "          dataTable['output_type'] = 'display_data';\n",
       "          await google.colab.output.renderOutput(dataTable, element);\n",
       "          const docLink = document.createElement('div');\n",
       "          docLink.innerHTML = docLinkHtml;\n",
       "          element.appendChild(docLink);\n",
       "        }\n",
       "      </script>\n",
       "    </div>\n",
       "  </div>\n",
       "  "
      ],
      "text/plain": [
       "                         params  mean_test_score\n",
       "0                  {'C': 0.001}         0.803914\n",
       "1                  {'C': 0.003}         0.804060\n",
       "2                  {'C': 0.005}         0.804323\n",
       "3                  {'C': 0.007}         0.804323\n",
       "4   {'C': 0.009000000000000001}         0.804323\n",
       "5                  {'C': 0.011}         0.804323\n",
       "6   {'C': 0.013000000000000001}         0.804323\n",
       "7                  {'C': 0.015}         0.804323\n",
       "8                  {'C': 0.017}         0.804382\n",
       "9   {'C': 0.019000000000000003}         0.804382\n",
       "10                 {'C': 0.021}         0.804382\n",
       "11                 {'C': 0.023}         0.804382\n",
       "12                 {'C': 0.025}         0.804382\n",
       "13  {'C': 0.027000000000000003}         0.804382\n",
       "14                 {'C': 0.029}         0.804382\n",
       "15                 {'C': 0.031}         0.804382\n",
       "16                 {'C': 0.033}         0.804382\n",
       "17                 {'C': 0.035}         0.804382\n",
       "18  {'C': 0.037000000000000005}         0.804382\n",
       "19                 {'C': 0.039}         0.804382\n",
       "20                 {'C': 0.041}         0.804382\n",
       "21  {'C': 0.043000000000000003}         0.804382\n",
       "22                 {'C': 0.045}         0.804382\n",
       "23                 {'C': 0.047}         0.804382\n",
       "24                 {'C': 0.049}         0.804382\n",
       "25  {'C': 0.051000000000000004}         0.804382\n",
       "26  {'C': 0.053000000000000005}         0.804382\n",
       "27                 {'C': 0.055}         0.804382\n",
       "28                 {'C': 0.057}         0.804382\n",
       "29  {'C': 0.059000000000000004}         0.804382\n",
       "30                 {'C': 0.061}         0.804382\n",
       "31                 {'C': 0.063}         0.804382\n",
       "32                 {'C': 0.065}         0.804382\n",
       "33                 {'C': 0.067}         0.804382\n",
       "34                 {'C': 0.069}         0.804382"
      ]
     },
     "metadata": {},
     "output_type": "display_data"
    },
    {
     "data": {
      "image/png": "[encoded data removed]",
      "text/plain": [
       "<Figure size 720x432 with 1 Axes>"
      ]
     },
     "metadata": {
      "needs_background": "light"
     },
     "output_type": "display_data"
    }
   ],
   "source": [
    "#tuning into a more concentrated range of c\n",
    "\n",
    "a =  np.arange(0.001, 0.07, 0.002)\n",
    "\n",
    "lr_gridsearch(X_train_a, y_train_a, a)"
   ]
  },
  {
   "cell_type": "markdown",
   "metadata": {
    "id": "8Vru6yfg8dWF"
   },
   "source": [
    "\n",
    "**Adult Dataset:** The hyperparameter for the highest accuracy (**0.8043816906811315**) is at **C: 0.017**\n"
   ]
  },
  {
   "cell_type": "markdown",
   "metadata": {
    "id": "e5x4sKYfVwGp"
   },
   "source": [
    "\n",
    "### German\n"
   ]
  },
  {
   "cell_type": "code",
   "execution_count": 20,
   "metadata": {
    "colab": {
     "base_uri": "https://localhost:8080/",
     "height": 642
    },
    "id": "p7sz1APQ0qTA",
    "outputId": "70d75416-cace-497c-b9a4-9d2c8023eb40"
   },
   "outputs": [
    {
     "name": "stdout",
     "output_type": "stream",
     "text": [
      "Tuned hyperparameter is at {'C': 0.01} with accuracy : 0.7185714285714286\n"
     ]
    },
    {
     "data": {
      "text/html": [
       "\n",
       "  <div id=\"df-f5601f27-4903-45ed-9f04-b58d717a92f3\">\n",
       "    <div class=\"colab-df-container\">\n",
       "      <div>\n",
       "<style scoped>\n",
       "    .dataframe tbody tr th:only-of-type {\n",
       "        vertical-align: middle;\n",
       "    }\n",
       "\n",
       "    .dataframe tbody tr th {\n",
       "        vertical-align: top;\n",
       "    }\n",
       "\n",
       "    .dataframe thead th {\n",
       "        text-align: right;\n",
       "    }\n",
       "</style>\n",
       "<table border=\"1\" class=\"dataframe\">\n",
       "  <thead>\n",
       "    <tr style=\"text-align: right;\">\n",
       "      <th></th>\n",
       "      <th>params</th>\n",
       "      <th>mean_test_score</th>\n",
       "    </tr>\n",
       "  </thead>\n",
       "  <tbody>\n",
       "    <tr>\n",
       "      <th>0</th>\n",
       "      <td>{'C': 0.005}</td>\n",
       "      <td>0.715714</td>\n",
       "    </tr>\n",
       "    <tr>\n",
       "      <th>1</th>\n",
       "      <td>{'C': 0.01}</td>\n",
       "      <td>0.718571</td>\n",
       "    </tr>\n",
       "    <tr>\n",
       "      <th>2</th>\n",
       "      <td>{'C': 0.05}</td>\n",
       "      <td>0.715714</td>\n",
       "    </tr>\n",
       "    <tr>\n",
       "      <th>3</th>\n",
       "      <td>{'C': 0.1}</td>\n",
       "      <td>0.715714</td>\n",
       "    </tr>\n",
       "    <tr>\n",
       "      <th>4</th>\n",
       "      <td>{'C': 0.5}</td>\n",
       "      <td>0.715714</td>\n",
       "    </tr>\n",
       "    <tr>\n",
       "      <th>5</th>\n",
       "      <td>{'C': 1}</td>\n",
       "      <td>0.715714</td>\n",
       "    </tr>\n",
       "  </tbody>\n",
       "</table>\n",
       "</div>\n",
       "      <button class=\"colab-df-convert\" onclick=\"convertToInteractive('df-f5601f27-4903-45ed-9f04-b58d717a92f3')\"\n",
       "              title=\"Convert this dataframe to an interactive table.\"\n",
       "              style=\"display:none;\">\n",
       "        \n",
       "  <svg xmlns=\"http://www.w3.org/2000/svg\" height=\"24px\"viewBox=\"0 0 24 24\"\n",
       "       width=\"24px\">\n",
       "    <path d=\"M0 0h24v24H0V0z\" fill=\"none\"/>\n",
       "    <path d=\"M18.56 5.44l.94 2.06.94-2.06 2.06-.94-2.06-.94-.94-2.06-.94 2.06-2.06.94zm-11 1L8.5 8.5l.94-2.06 2.06-.94-2.06-.94L8.5 2.5l-.94 2.06-2.06.94zm10 10l.94 2.06.94-2.06 2.06-.94-2.06-.94-.94-2.06-.94 2.06-2.06.94z\"/><path d=\"M17.41 7.96l-1.37-1.37c-.4-.4-.92-.59-1.43-.59-.52 0-1.04.2-1.43.59L10.3 9.45l-7.72 7.72c-.78.78-.78 2.05 0 2.83L4 21.41c.39.39.9.59 1.41.59.51 0 1.02-.2 1.41-.59l7.78-7.78 2.81-2.81c.8-.78.8-2.07 0-2.86zM5.41 20L4 18.59l7.72-7.72 1.47 1.35L5.41 20z\"/>\n",
       "  </svg>\n",
       "      </button>\n",
       "      \n",
       "  <style>\n",
       "    .colab-df-container {\n",
       "      display:flex;\n",
       "      flex-wrap:wrap;\n",
       "      gap: 12px;\n",
       "    }\n",
       "\n",
       "    .colab-df-convert {\n",
       "      background-color: #E8F0FE;\n",
       "      border: none;\n",
       "      border-radius: 50%;\n",
       "      cursor: pointer;\n",
       "      display: none;\n",
       "      fill: #1967D2;\n",
       "      height: 32px;\n",
       "      padding: 0 0 0 0;\n",
       "      width: 32px;\n",
       "    }\n",
       "\n",
       "    .colab-df-convert:hover {\n",
       "      background-color: #E2EBFA;\n",
       "      box-shadow: 0px 1px 2px rgba(60, 64, 67, 0.3), 0px 1px 3px 1px rgba(60, 64, 67, 0.15);\n",
       "      fill: #174EA6;\n",
       "    }\n",
       "\n",
       "    [theme=dark] .colab-df-convert {\n",
       "      background-color: #3B4455;\n",
       "      fill: #D2E3FC;\n",
       "    }\n",
       "\n",
       "    [theme=dark] .colab-df-convert:hover {\n",
       "      background-color: #434B5C;\n",
       "      box-shadow: 0px 1px 3px 1px rgba(0, 0, 0, 0.15);\n",
       "      filter: drop-shadow(0px 1px 2px rgba(0, 0, 0, 0.3));\n",
       "      fill: #FFFFFF;\n",
       "    }\n",
       "  </style>\n",
       "\n",
       "      <script>\n",
       "        const buttonEl =\n",
       "          document.querySelector('#df-f5601f27-4903-45ed-9f04-b58d717a92f3 button.colab-df-convert');\n",
       "        buttonEl.style.display =\n",
       "          google.colab.kernel.accessAllowed ? 'block' : 'none';\n",
       "\n",
       "        async function convertToInteractive(key) {\n",
       "          const element = document.querySelector('#df-f5601f27-4903-45ed-9f04-b58d717a92f3');\n",
       "          const dataTable =\n",
       "            await google.colab.kernel.invokeFunction('convertToInteractive',\n",
       "                                                     [key], {});\n",
       "          if (!dataTable) return;\n",
       "\n",
       "          const docLinkHtml = 'Like what you see? Visit the ' +\n",
       "            '<a target=\"_blank\" href=https://colab.research.google.com/notebooks/data_table.ipynb>data table notebook</a>'\n",
       "            + ' to learn more about interactive tables.';\n",
       "          element.innerHTML = '';\n",
       "          dataTable['output_type'] = 'display_data';\n",
       "          await google.colab.output.renderOutput(dataTable, element);\n",
       "          const docLink = document.createElement('div');\n",
       "          docLink.innerHTML = docLinkHtml;\n",
       "          element.appendChild(docLink);\n",
       "        }\n",
       "      </script>\n",
       "    </div>\n",
       "  </div>\n",
       "  "
      ],
      "text/plain": [
       "         params  mean_test_score\n",
       "0  {'C': 0.005}         0.715714\n",
       "1   {'C': 0.01}         0.718571\n",
       "2   {'C': 0.05}         0.715714\n",
       "3    {'C': 0.1}         0.715714\n",
       "4    {'C': 0.5}         0.715714\n",
       "5      {'C': 1}         0.715714"
      ]
     },
     "metadata": {},
     "output_type": "display_data"
    },
    {
     "data": {
      "image/png": "[encoded data removed]",
      "text/plain": [
       "<Figure size 720x432 with 1 Axes>"
      ]
     },
     "metadata": {
      "needs_background": "light"
     },
     "output_type": "display_data"
    }
   ],
   "source": [
    "#initially using a large range of c values with high distribution\n",
    "\n",
    "lr_gridsearch(X_train_g, y_train_g, c)"
   ]
  },
  {
   "cell_type": "markdown",
   "metadata": {
    "id": "MXvkli1r02Dn"
   },
   "source": [
    "Exploring the ***C*** values around 0.01 by creating a range of c values from 0.001 to 0.03"
   ]
  },
  {
   "cell_type": "code",
   "execution_count": 21,
   "metadata": {
    "colab": {
     "base_uri": "https://localhost:8080/",
     "height": 1000
    },
    "id": "fYKI-ZVHHHbZ",
    "outputId": "e1d6c7d0-5726-48bb-f2dd-6d5b8c4e28ba"
   },
   "outputs": [
    {
     "name": "stdout",
     "output_type": "stream",
     "text": [
      "Tuned hyperparameter is at {'C': 0.009000000000000001} with accuracy : 0.7185714285714286\n"
     ]
    },
    {
     "data": {
      "text/html": [
       "\n",
       "  <div id=\"df-dc32ce56-153c-4321-aa07-51ef29ed67d7\">\n",
       "    <div class=\"colab-df-container\">\n",
       "      <div>\n",
       "<style scoped>\n",
       "    .dataframe tbody tr th:only-of-type {\n",
       "        vertical-align: middle;\n",
       "    }\n",
       "\n",
       "    .dataframe tbody tr th {\n",
       "        vertical-align: top;\n",
       "    }\n",
       "\n",
       "    .dataframe thead th {\n",
       "        text-align: right;\n",
       "    }\n",
       "</style>\n",
       "<table border=\"1\" class=\"dataframe\">\n",
       "  <thead>\n",
       "    <tr style=\"text-align: right;\">\n",
       "      <th></th>\n",
       "      <th>params</th>\n",
       "      <th>mean_test_score</th>\n",
       "    </tr>\n",
       "  </thead>\n",
       "  <tbody>\n",
       "    <tr>\n",
       "      <th>0</th>\n",
       "      <td>{'C': 0.001}</td>\n",
       "      <td>0.701429</td>\n",
       "    </tr>\n",
       "    <tr>\n",
       "      <th>1</th>\n",
       "      <td>{'C': 0.002}</td>\n",
       "      <td>0.708571</td>\n",
       "    </tr>\n",
       "    <tr>\n",
       "      <th>2</th>\n",
       "      <td>{'C': 0.003}</td>\n",
       "      <td>0.717143</td>\n",
       "    </tr>\n",
       "    <tr>\n",
       "      <th>3</th>\n",
       "      <td>{'C': 0.004}</td>\n",
       "      <td>0.714286</td>\n",
       "    </tr>\n",
       "    <tr>\n",
       "      <th>4</th>\n",
       "      <td>{'C': 0.005}</td>\n",
       "      <td>0.715714</td>\n",
       "    </tr>\n",
       "    <tr>\n",
       "      <th>5</th>\n",
       "      <td>{'C': 0.006}</td>\n",
       "      <td>0.717143</td>\n",
       "    </tr>\n",
       "    <tr>\n",
       "      <th>6</th>\n",
       "      <td>{'C': 0.007}</td>\n",
       "      <td>0.717143</td>\n",
       "    </tr>\n",
       "    <tr>\n",
       "      <th>7</th>\n",
       "      <td>{'C': 0.008}</td>\n",
       "      <td>0.717143</td>\n",
       "    </tr>\n",
       "    <tr>\n",
       "      <th>8</th>\n",
       "      <td>{'C': 0.009000000000000001}</td>\n",
       "      <td>0.718571</td>\n",
       "    </tr>\n",
       "    <tr>\n",
       "      <th>9</th>\n",
       "      <td>{'C': 0.010000000000000002}</td>\n",
       "      <td>0.718571</td>\n",
       "    </tr>\n",
       "    <tr>\n",
       "      <th>10</th>\n",
       "      <td>{'C': 0.011}</td>\n",
       "      <td>0.718571</td>\n",
       "    </tr>\n",
       "    <tr>\n",
       "      <th>11</th>\n",
       "      <td>{'C': 0.012}</td>\n",
       "      <td>0.714286</td>\n",
       "    </tr>\n",
       "    <tr>\n",
       "      <th>12</th>\n",
       "      <td>{'C': 0.013000000000000001}</td>\n",
       "      <td>0.715714</td>\n",
       "    </tr>\n",
       "    <tr>\n",
       "      <th>13</th>\n",
       "      <td>{'C': 0.014000000000000002}</td>\n",
       "      <td>0.715714</td>\n",
       "    </tr>\n",
       "    <tr>\n",
       "      <th>14</th>\n",
       "      <td>{'C': 0.015}</td>\n",
       "      <td>0.715714</td>\n",
       "    </tr>\n",
       "    <tr>\n",
       "      <th>15</th>\n",
       "      <td>{'C': 0.016}</td>\n",
       "      <td>0.717143</td>\n",
       "    </tr>\n",
       "    <tr>\n",
       "      <th>16</th>\n",
       "      <td>{'C': 0.017}</td>\n",
       "      <td>0.717143</td>\n",
       "    </tr>\n",
       "    <tr>\n",
       "      <th>17</th>\n",
       "      <td>{'C': 0.018000000000000002}</td>\n",
       "      <td>0.717143</td>\n",
       "    </tr>\n",
       "    <tr>\n",
       "      <th>18</th>\n",
       "      <td>{'C': 0.019000000000000003}</td>\n",
       "      <td>0.717143</td>\n",
       "    </tr>\n",
       "    <tr>\n",
       "      <th>19</th>\n",
       "      <td>{'C': 0.02}</td>\n",
       "      <td>0.715714</td>\n",
       "    </tr>\n",
       "    <tr>\n",
       "      <th>20</th>\n",
       "      <td>{'C': 0.021}</td>\n",
       "      <td>0.715714</td>\n",
       "    </tr>\n",
       "    <tr>\n",
       "      <th>21</th>\n",
       "      <td>{'C': 0.022000000000000002}</td>\n",
       "      <td>0.715714</td>\n",
       "    </tr>\n",
       "    <tr>\n",
       "      <th>22</th>\n",
       "      <td>{'C': 0.023}</td>\n",
       "      <td>0.715714</td>\n",
       "    </tr>\n",
       "    <tr>\n",
       "      <th>23</th>\n",
       "      <td>{'C': 0.024}</td>\n",
       "      <td>0.715714</td>\n",
       "    </tr>\n",
       "    <tr>\n",
       "      <th>24</th>\n",
       "      <td>{'C': 0.025}</td>\n",
       "      <td>0.715714</td>\n",
       "    </tr>\n",
       "    <tr>\n",
       "      <th>25</th>\n",
       "      <td>{'C': 0.026000000000000002}</td>\n",
       "      <td>0.715714</td>\n",
       "    </tr>\n",
       "    <tr>\n",
       "      <th>26</th>\n",
       "      <td>{'C': 0.027000000000000003}</td>\n",
       "      <td>0.715714</td>\n",
       "    </tr>\n",
       "    <tr>\n",
       "      <th>27</th>\n",
       "      <td>{'C': 0.028}</td>\n",
       "      <td>0.715714</td>\n",
       "    </tr>\n",
       "    <tr>\n",
       "      <th>28</th>\n",
       "      <td>{'C': 0.029}</td>\n",
       "      <td>0.715714</td>\n",
       "    </tr>\n",
       "  </tbody>\n",
       "</table>\n",
       "</div>\n",
       "      <button class=\"colab-df-convert\" onclick=\"convertToInteractive('df-dc32ce56-153c-4321-aa07-51ef29ed67d7')\"\n",
       "              title=\"Convert this dataframe to an interactive table.\"\n",
       "              style=\"display:none;\">\n",
       "        \n",
       "  <svg xmlns=\"http://www.w3.org/2000/svg\" height=\"24px\"viewBox=\"0 0 24 24\"\n",
       "       width=\"24px\">\n",
       "    <path d=\"M0 0h24v24H0V0z\" fill=\"none\"/>\n",
       "    <path d=\"M18.56 5.44l.94 2.06.94-2.06 2.06-.94-2.06-.94-.94-2.06-.94 2.06-2.06.94zm-11 1L8.5 8.5l.94-2.06 2.06-.94-2.06-.94L8.5 2.5l-.94 2.06-2.06.94zm10 10l.94 2.06.94-2.06 2.06-.94-2.06-.94-.94-2.06-.94 2.06-2.06.94z\"/><path d=\"M17.41 7.96l-1.37-1.37c-.4-.4-.92-.59-1.43-.59-.52 0-1.04.2-1.43.59L10.3 9.45l-7.72 7.72c-.78.78-.78 2.05 0 2.83L4 21.41c.39.39.9.59 1.41.59.51 0 1.02-.2 1.41-.59l7.78-7.78 2.81-2.81c.8-.78.8-2.07 0-2.86zM5.41 20L4 18.59l7.72-7.72 1.47 1.35L5.41 20z\"/>\n",
       "  </svg>\n",
       "      </button>\n",
       "      \n",
       "  <style>\n",
       "    .colab-df-container {\n",
       "      display:flex;\n",
       "      flex-wrap:wrap;\n",
       "      gap: 12px;\n",
       "    }\n",
       "\n",
       "    .colab-df-convert {\n",
       "      background-color: #E8F0FE;\n",
       "      border: none;\n",
       "      border-radius: 50%;\n",
       "      cursor: pointer;\n",
       "      display: none;\n",
       "      fill: #1967D2;\n",
       "      height: 32px;\n",
       "      padding: 0 0 0 0;\n",
       "      width: 32px;\n",
       "    }\n",
       "\n",
       "    .colab-df-convert:hover {\n",
       "      background-color: #E2EBFA;\n",
       "      box-shadow: 0px 1px 2px rgba(60, 64, 67, 0.3), 0px 1px 3px 1px rgba(60, 64, 67, 0.15);\n",
       "      fill: #174EA6;\n",
       "    }\n",
       "\n",
       "    [theme=dark] .colab-df-convert {\n",
       "      background-color: #3B4455;\n",
       "      fill: #D2E3FC;\n",
       "    }\n",
       "\n",
       "    [theme=dark] .colab-df-convert:hover {\n",
       "      background-color: #434B5C;\n",
       "      box-shadow: 0px 1px 3px 1px rgba(0, 0, 0, 0.15);\n",
       "      filter: drop-shadow(0px 1px 2px rgba(0, 0, 0, 0.3));\n",
       "      fill: #FFFFFF;\n",
       "    }\n",
       "  </style>\n",
       "\n",
       "      <script>\n",
       "        const buttonEl =\n",
       "          document.querySelector('#df-dc32ce56-153c-4321-aa07-51ef29ed67d7 button.colab-df-convert');\n",
       "        buttonEl.style.display =\n",
       "          google.colab.kernel.accessAllowed ? 'block' : 'none';\n",
       "\n",
       "        async function convertToInteractive(key) {\n",
       "          const element = document.querySelector('#df-dc32ce56-153c-4321-aa07-51ef29ed67d7');\n",
       "          const dataTable =\n",
       "            await google.colab.kernel.invokeFunction('convertToInteractive',\n",
       "                                                     [key], {});\n",
       "          if (!dataTable) return;\n",
       "\n",
       "          const docLinkHtml = 'Like what you see? Visit the ' +\n",
       "            '<a target=\"_blank\" href=https://colab.research.google.com/notebooks/data_table.ipynb>data table notebook</a>'\n",
       "            + ' to learn more about interactive tables.';\n",
       "          element.innerHTML = '';\n",
       "          dataTable['output_type'] = 'display_data';\n",
       "          await google.colab.output.renderOutput(dataTable, element);\n",
       "          const docLink = document.createElement('div');\n",
       "          docLink.innerHTML = docLinkHtml;\n",
       "          element.appendChild(docLink);\n",
       "        }\n",
       "      </script>\n",
       "    </div>\n",
       "  </div>\n",
       "  "
      ],
      "text/plain": [
       "                         params  mean_test_score\n",
       "0                  {'C': 0.001}         0.701429\n",
       "1                  {'C': 0.002}         0.708571\n",
       "2                  {'C': 0.003}         0.717143\n",
       "3                  {'C': 0.004}         0.714286\n",
       "4                  {'C': 0.005}         0.715714\n",
       "5                  {'C': 0.006}         0.717143\n",
       "6                  {'C': 0.007}         0.717143\n",
       "7                  {'C': 0.008}         0.717143\n",
       "8   {'C': 0.009000000000000001}         0.718571\n",
       "9   {'C': 0.010000000000000002}         0.718571\n",
       "10                 {'C': 0.011}         0.718571\n",
       "11                 {'C': 0.012}         0.714286\n",
       "12  {'C': 0.013000000000000001}         0.715714\n",
       "13  {'C': 0.014000000000000002}         0.715714\n",
       "14                 {'C': 0.015}         0.715714\n",
       "15                 {'C': 0.016}         0.717143\n",
       "16                 {'C': 0.017}         0.717143\n",
       "17  {'C': 0.018000000000000002}         0.717143\n",
       "18  {'C': 0.019000000000000003}         0.717143\n",
       "19                  {'C': 0.02}         0.715714\n",
       "20                 {'C': 0.021}         0.715714\n",
       "21  {'C': 0.022000000000000002}         0.715714\n",
       "22                 {'C': 0.023}         0.715714\n",
       "23                 {'C': 0.024}         0.715714\n",
       "24                 {'C': 0.025}         0.715714\n",
       "25  {'C': 0.026000000000000002}         0.715714\n",
       "26  {'C': 0.027000000000000003}         0.715714\n",
       "27                 {'C': 0.028}         0.715714\n",
       "28                 {'C': 0.029}         0.715714"
      ]
     },
     "metadata": {},
     "output_type": "display_data"
    },
    {
     "data": {
      "image/png": "[encoded data removed]",
      "text/plain": [
       "<Figure size 720x432 with 1 Axes>"
      ]
     },
     "metadata": {
      "needs_background": "light"
     },
     "output_type": "display_data"
    }
   ],
   "source": [
    "b =  np.arange(0.001, 0.03, 0.001)\n",
    "\n",
    "lr_gridsearch(X_train_g, y_train_g, b)"
   ]
  },
  {
   "cell_type": "markdown",
   "metadata": {
    "id": "UUTaacjV8S3N"
   },
   "source": [
    "**German Dataset:** The hyperparameter for the highest accuracy (**0.7185714285714286**) is at **C: 0.009**\n"
   ]
  },
  {
   "cell_type": "markdown",
   "metadata": {
    "id": "sIDdV2n-9NHd"
   },
   "source": [
    "## (2) Equality of Opportunity Fairness Metrics\n",
    "\n",
    "Adding Equality of Opportunity into our function, combing accuracy and Equality of Opportunity\n",
    "\n",
    "The fairness metric we use is the Equality of Opportunity \n",
    "- Equality of Opportunity: True Negative Rate (TNR) or True Positive Rate (TPR) should be equal for all groups\n",
    "\n",
    "\n",
    "Ideally we want to satisy all fairness definitions but this is only possible under trivial circumstances."
   ]
  },
  {
   "cell_type": "markdown",
   "metadata": {
    "id": "HVszlrHgZmMa"
   },
   "source": [
    "### Functions"
   ]
  },
  {
   "cell_type": "code",
   "execution_count": 22,
   "metadata": {
    "id": "Wfa180lfVkKg"
   },
   "outputs": [],
   "source": [
    "#function to evaluate the accuracy and the fairness of each hyperparameter and report the best\n",
    "\n",
    "def cv_accuracy_fairness(X_train, y_train, train, cvals):\n",
    "  c_values = cvals\n",
    "  #empty lists\n",
    "  acc_scores = []\n",
    "  equ_opp = []\n",
    "  avg_acc_scores = []\n",
    "\n",
    "  #a loop to evaluate each hyperparameter under 5-fold cross validation\n",
    "  for i in c_values:\n",
    "    #training the model\n",
    "    clf = LogisticRegression(solver='liblinear', C=i, random_state=1)\n",
    "    #using cross val score to find the accuracy, can be used instead of gridsearch\n",
    "    score = cross_val_score(clf, X_train, y_train, cv = 5)\n",
    "    #using cross val predict to generate cross-validated estimates for each input data point \n",
    "    y_fair = cross_val_predict(clf, X_train, y_train, cv = 5)\n",
    "    test_pred = train.copy()\n",
    "    test_pred.labels = y_fair\n",
    "    metric = ClassificationMetric(train, test_pred, unprivileged_groups=unprivileged_groups, privileged_groups=privileged_groups)\n",
    "    equ_opp.append(metric.equal_opportunity_difference())\n",
    "\n",
    "    #print(equ_opp)\n",
    "    avg_acc = np.mean(score)\n",
    "    avg_acc_scores.append(np.mean(score))\n",
    "  \n",
    "  #printing the best of the equal opportunity scores\n",
    "  equal_opp_best = min(equ_opp, key= abs)\n",
    "  #for the best c value\n",
    "  best_c = equ_opp.index(equal_opp_best)\n",
    "  #best average score\n",
    "  #this should be the same as the grid search\n",
    "  best_acc_c = avg_acc_scores.index(max(avg_acc_scores))\n",
    "\n",
    "  #printing off the results and corresponding c value\n",
    "  print('Best Equality of Opportunity score is at C: ', c_values[best_c], 'with Equality of Opportunity score of', equal_opp_best)\n",
    "  print('Best accuracy score is at C: ', c_values[best_acc_c], 'with accuracy score of', max(avg_acc_scores))\n",
    "\n",
    "  #creating a df to show the values\n",
    "  df = pd.DataFrame({'C': c_values, \n",
    "                  'Accuracy' :avg_acc_scores,\n",
    "                  'Equality of Opportunity': equ_opp})\n",
    "  \n",
    "  #plotting the results \n",
    "  xplt = np.array(cvals)\n",
    "  plt.figure(figsize = (10,6))\n",
    "  plt.plot(xplt, df['Equality of Opportunity'], color = 'green')\n",
    "  font1 = {'family':'serif','color':'green','size':13}\n",
    "  font2 = {'family':'serif','color':'green','size':11}\n",
    "  plt.title('Equality of Opportunity Hyperparameter Tuning', fontdict = font1)\n",
    "  plt.xlabel('C Value', fontdict = font2)\n",
    "  plt.ylabel('Equality of Opportunity', fontdict = font2)\n",
    "  plt.show()\n",
    "  return df\n"
   ]
  },
  {
   "cell_type": "markdown",
   "metadata": {
    "id": "ItOeCeTuNqlb"
   },
   "source": [
    "### Adult\n"
   ]
  },
  {
   "cell_type": "code",
   "execution_count": 23,
   "metadata": {
    "colab": {
     "base_uri": "https://localhost:8080/",
     "height": 439
    },
    "id": "fJgOmnr4c6Co",
    "outputId": "0d57cbbb-2e4d-48d7-910c-086055951493"
   },
   "outputs": [
    {
     "name": "stdout",
     "output_type": "stream",
     "text": [
      "Best Equality of Opportunity score is at C:  0.001 with Equality of Opportunity score of -0.4464800923254472\n",
      "Best accuracy score is at C:  0.017 with accuracy score of 0.8043816906811315\n"
     ]
    },
    {
     "data": {
      "image/png": "[encoded data removed]",
      "text/plain": [
       "<Figure size 720x432 with 1 Axes>"
      ]
     },
     "metadata": {
      "needs_background": "light"
     },
     "output_type": "display_data"
    }
   ],
   "source": [
    "dfa = cv_accuracy_fairness(X_train_a, y_train_a, a_train, a)"
   ]
  },
  {
   "cell_type": "code",
   "execution_count": 24,
   "metadata": {
    "colab": {
     "base_uri": "https://localhost:8080/",
     "height": 1000
    },
    "id": "sIImxMLKWMl5",
    "outputId": "38cfc996-91d5-41dd-812a-877f89c9f8e7"
   },
   "outputs": [
    {
     "data": {
      "text/html": [
       "<style type=\"text/css\">\n",
       "#T_74536_row0_col0, #T_74536_row0_col1, #T_74536_row0_col2 {\n",
       "  background-color: lightgreen;\n",
       "}\n",
       "</style>\n",
       "<table id=\"T_74536_\" class=\"dataframe\">\n",
       "  <thead>\n",
       "    <tr>\n",
       "      <th class=\"blank level0\" >&nbsp;</th>\n",
       "      <th class=\"col_heading level0 col0\" >C</th>\n",
       "      <th class=\"col_heading level0 col1\" >Accuracy</th>\n",
       "      <th class=\"col_heading level0 col2\" >Equality of Opportunity</th>\n",
       "    </tr>\n",
       "  </thead>\n",
       "  <tbody>\n",
       "    <tr>\n",
       "      <th id=\"T_74536_level0_row0\" class=\"row_heading level0 row0\" >0</th>\n",
       "      <td id=\"T_74536_row0_col0\" class=\"data row0 col0\" >0.001000</td>\n",
       "      <td id=\"T_74536_row0_col1\" class=\"data row0 col1\" >0.803914</td>\n",
       "      <td id=\"T_74536_row0_col2\" class=\"data row0 col2\" >-0.446480</td>\n",
       "    </tr>\n",
       "    <tr>\n",
       "      <th id=\"T_74536_level0_row1\" class=\"row_heading level0 row1\" >1</th>\n",
       "      <td id=\"T_74536_row1_col0\" class=\"data row1 col0\" >0.003000</td>\n",
       "      <td id=\"T_74536_row1_col1\" class=\"data row1 col1\" >0.804060</td>\n",
       "      <td id=\"T_74536_row1_col2\" class=\"data row1 col2\" >-0.453693</td>\n",
       "    </tr>\n",
       "    <tr>\n",
       "      <th id=\"T_74536_level0_row2\" class=\"row_heading level0 row2\" >2</th>\n",
       "      <td id=\"T_74536_row2_col0\" class=\"data row2 col0\" >0.005000</td>\n",
       "      <td id=\"T_74536_row2_col1\" class=\"data row2 col1\" >0.804323</td>\n",
       "      <td id=\"T_74536_row2_col2\" class=\"data row2 col2\" >-0.457155</td>\n",
       "    </tr>\n",
       "    <tr>\n",
       "      <th id=\"T_74536_level0_row3\" class=\"row_heading level0 row3\" >3</th>\n",
       "      <td id=\"T_74536_row3_col0\" class=\"data row3 col0\" >0.007000</td>\n",
       "      <td id=\"T_74536_row3_col1\" class=\"data row3 col1\" >0.804323</td>\n",
       "      <td id=\"T_74536_row3_col2\" class=\"data row3 col2\" >-0.457155</td>\n",
       "    </tr>\n",
       "    <tr>\n",
       "      <th id=\"T_74536_level0_row4\" class=\"row_heading level0 row4\" >4</th>\n",
       "      <td id=\"T_74536_row4_col0\" class=\"data row4 col0\" >0.009000</td>\n",
       "      <td id=\"T_74536_row4_col1\" class=\"data row4 col1\" >0.804323</td>\n",
       "      <td id=\"T_74536_row4_col2\" class=\"data row4 col2\" >-0.457155</td>\n",
       "    </tr>\n",
       "    <tr>\n",
       "      <th id=\"T_74536_level0_row5\" class=\"row_heading level0 row5\" >5</th>\n",
       "      <td id=\"T_74536_row5_col0\" class=\"data row5 col0\" >0.011000</td>\n",
       "      <td id=\"T_74536_row5_col1\" class=\"data row5 col1\" >0.804323</td>\n",
       "      <td id=\"T_74536_row5_col2\" class=\"data row5 col2\" >-0.457155</td>\n",
       "    </tr>\n",
       "    <tr>\n",
       "      <th id=\"T_74536_level0_row6\" class=\"row_heading level0 row6\" >6</th>\n",
       "      <td id=\"T_74536_row6_col0\" class=\"data row6 col0\" >0.013000</td>\n",
       "      <td id=\"T_74536_row6_col1\" class=\"data row6 col1\" >0.804323</td>\n",
       "      <td id=\"T_74536_row6_col2\" class=\"data row6 col2\" >-0.457155</td>\n",
       "    </tr>\n",
       "    <tr>\n",
       "      <th id=\"T_74536_level0_row7\" class=\"row_heading level0 row7\" >7</th>\n",
       "      <td id=\"T_74536_row7_col0\" class=\"data row7 col0\" >0.015000</td>\n",
       "      <td id=\"T_74536_row7_col1\" class=\"data row7 col1\" >0.804323</td>\n",
       "      <td id=\"T_74536_row7_col2\" class=\"data row7 col2\" >-0.457155</td>\n",
       "    </tr>\n",
       "    <tr>\n",
       "      <th id=\"T_74536_level0_row8\" class=\"row_heading level0 row8\" >8</th>\n",
       "      <td id=\"T_74536_row8_col0\" class=\"data row8 col0\" >0.017000</td>\n",
       "      <td id=\"T_74536_row8_col1\" class=\"data row8 col1\" >0.804382</td>\n",
       "      <td id=\"T_74536_row8_col2\" class=\"data row8 col2\" >-0.457588</td>\n",
       "    </tr>\n",
       "    <tr>\n",
       "      <th id=\"T_74536_level0_row9\" class=\"row_heading level0 row9\" >9</th>\n",
       "      <td id=\"T_74536_row9_col0\" class=\"data row9 col0\" >0.019000</td>\n",
       "      <td id=\"T_74536_row9_col1\" class=\"data row9 col1\" >0.804382</td>\n",
       "      <td id=\"T_74536_row9_col2\" class=\"data row9 col2\" >-0.457588</td>\n",
       "    </tr>\n",
       "    <tr>\n",
       "      <th id=\"T_74536_level0_row10\" class=\"row_heading level0 row10\" >10</th>\n",
       "      <td id=\"T_74536_row10_col0\" class=\"data row10 col0\" >0.021000</td>\n",
       "      <td id=\"T_74536_row10_col1\" class=\"data row10 col1\" >0.804382</td>\n",
       "      <td id=\"T_74536_row10_col2\" class=\"data row10 col2\" >-0.457588</td>\n",
       "    </tr>\n",
       "    <tr>\n",
       "      <th id=\"T_74536_level0_row11\" class=\"row_heading level0 row11\" >11</th>\n",
       "      <td id=\"T_74536_row11_col0\" class=\"data row11 col0\" >0.023000</td>\n",
       "      <td id=\"T_74536_row11_col1\" class=\"data row11 col1\" >0.804382</td>\n",
       "      <td id=\"T_74536_row11_col2\" class=\"data row11 col2\" >-0.457588</td>\n",
       "    </tr>\n",
       "    <tr>\n",
       "      <th id=\"T_74536_level0_row12\" class=\"row_heading level0 row12\" >12</th>\n",
       "      <td id=\"T_74536_row12_col0\" class=\"data row12 col0\" >0.025000</td>\n",
       "      <td id=\"T_74536_row12_col1\" class=\"data row12 col1\" >0.804382</td>\n",
       "      <td id=\"T_74536_row12_col2\" class=\"data row12 col2\" >-0.457588</td>\n",
       "    </tr>\n",
       "    <tr>\n",
       "      <th id=\"T_74536_level0_row13\" class=\"row_heading level0 row13\" >13</th>\n",
       "      <td id=\"T_74536_row13_col0\" class=\"data row13 col0\" >0.027000</td>\n",
       "      <td id=\"T_74536_row13_col1\" class=\"data row13 col1\" >0.804382</td>\n",
       "      <td id=\"T_74536_row13_col2\" class=\"data row13 col2\" >-0.457588</td>\n",
       "    </tr>\n",
       "    <tr>\n",
       "      <th id=\"T_74536_level0_row14\" class=\"row_heading level0 row14\" >14</th>\n",
       "      <td id=\"T_74536_row14_col0\" class=\"data row14 col0\" >0.029000</td>\n",
       "      <td id=\"T_74536_row14_col1\" class=\"data row14 col1\" >0.804382</td>\n",
       "      <td id=\"T_74536_row14_col2\" class=\"data row14 col2\" >-0.457588</td>\n",
       "    </tr>\n",
       "    <tr>\n",
       "      <th id=\"T_74536_level0_row15\" class=\"row_heading level0 row15\" >15</th>\n",
       "      <td id=\"T_74536_row15_col0\" class=\"data row15 col0\" >0.031000</td>\n",
       "      <td id=\"T_74536_row15_col1\" class=\"data row15 col1\" >0.804382</td>\n",
       "      <td id=\"T_74536_row15_col2\" class=\"data row15 col2\" >-0.457588</td>\n",
       "    </tr>\n",
       "    <tr>\n",
       "      <th id=\"T_74536_level0_row16\" class=\"row_heading level0 row16\" >16</th>\n",
       "      <td id=\"T_74536_row16_col0\" class=\"data row16 col0\" >0.033000</td>\n",
       "      <td id=\"T_74536_row16_col1\" class=\"data row16 col1\" >0.804382</td>\n",
       "      <td id=\"T_74536_row16_col2\" class=\"data row16 col2\" >-0.457588</td>\n",
       "    </tr>\n",
       "    <tr>\n",
       "      <th id=\"T_74536_level0_row17\" class=\"row_heading level0 row17\" >17</th>\n",
       "      <td id=\"T_74536_row17_col0\" class=\"data row17 col0\" >0.035000</td>\n",
       "      <td id=\"T_74536_row17_col1\" class=\"data row17 col1\" >0.804382</td>\n",
       "      <td id=\"T_74536_row17_col2\" class=\"data row17 col2\" >-0.457588</td>\n",
       "    </tr>\n",
       "    <tr>\n",
       "      <th id=\"T_74536_level0_row18\" class=\"row_heading level0 row18\" >18</th>\n",
       "      <td id=\"T_74536_row18_col0\" class=\"data row18 col0\" >0.037000</td>\n",
       "      <td id=\"T_74536_row18_col1\" class=\"data row18 col1\" >0.804382</td>\n",
       "      <td id=\"T_74536_row18_col2\" class=\"data row18 col2\" >-0.457588</td>\n",
       "    </tr>\n",
       "    <tr>\n",
       "      <th id=\"T_74536_level0_row19\" class=\"row_heading level0 row19\" >19</th>\n",
       "      <td id=\"T_74536_row19_col0\" class=\"data row19 col0\" >0.039000</td>\n",
       "      <td id=\"T_74536_row19_col1\" class=\"data row19 col1\" >0.804382</td>\n",
       "      <td id=\"T_74536_row19_col2\" class=\"data row19 col2\" >-0.457588</td>\n",
       "    </tr>\n",
       "    <tr>\n",
       "      <th id=\"T_74536_level0_row20\" class=\"row_heading level0 row20\" >20</th>\n",
       "      <td id=\"T_74536_row20_col0\" class=\"data row20 col0\" >0.041000</td>\n",
       "      <td id=\"T_74536_row20_col1\" class=\"data row20 col1\" >0.804382</td>\n",
       "      <td id=\"T_74536_row20_col2\" class=\"data row20 col2\" >-0.457588</td>\n",
       "    </tr>\n",
       "    <tr>\n",
       "      <th id=\"T_74536_level0_row21\" class=\"row_heading level0 row21\" >21</th>\n",
       "      <td id=\"T_74536_row21_col0\" class=\"data row21 col0\" >0.043000</td>\n",
       "      <td id=\"T_74536_row21_col1\" class=\"data row21 col1\" >0.804382</td>\n",
       "      <td id=\"T_74536_row21_col2\" class=\"data row21 col2\" >-0.457588</td>\n",
       "    </tr>\n",
       "    <tr>\n",
       "      <th id=\"T_74536_level0_row22\" class=\"row_heading level0 row22\" >22</th>\n",
       "      <td id=\"T_74536_row22_col0\" class=\"data row22 col0\" >0.045000</td>\n",
       "      <td id=\"T_74536_row22_col1\" class=\"data row22 col1\" >0.804382</td>\n",
       "      <td id=\"T_74536_row22_col2\" class=\"data row22 col2\" >-0.457588</td>\n",
       "    </tr>\n",
       "    <tr>\n",
       "      <th id=\"T_74536_level0_row23\" class=\"row_heading level0 row23\" >23</th>\n",
       "      <td id=\"T_74536_row23_col0\" class=\"data row23 col0\" >0.047000</td>\n",
       "      <td id=\"T_74536_row23_col1\" class=\"data row23 col1\" >0.804382</td>\n",
       "      <td id=\"T_74536_row23_col2\" class=\"data row23 col2\" >-0.457588</td>\n",
       "    </tr>\n",
       "    <tr>\n",
       "      <th id=\"T_74536_level0_row24\" class=\"row_heading level0 row24\" >24</th>\n",
       "      <td id=\"T_74536_row24_col0\" class=\"data row24 col0\" >0.049000</td>\n",
       "      <td id=\"T_74536_row24_col1\" class=\"data row24 col1\" >0.804382</td>\n",
       "      <td id=\"T_74536_row24_col2\" class=\"data row24 col2\" >-0.457588</td>\n",
       "    </tr>\n",
       "    <tr>\n",
       "      <th id=\"T_74536_level0_row25\" class=\"row_heading level0 row25\" >25</th>\n",
       "      <td id=\"T_74536_row25_col0\" class=\"data row25 col0\" >0.051000</td>\n",
       "      <td id=\"T_74536_row25_col1\" class=\"data row25 col1\" >0.804382</td>\n",
       "      <td id=\"T_74536_row25_col2\" class=\"data row25 col2\" >-0.457588</td>\n",
       "    </tr>\n",
       "    <tr>\n",
       "      <th id=\"T_74536_level0_row26\" class=\"row_heading level0 row26\" >26</th>\n",
       "      <td id=\"T_74536_row26_col0\" class=\"data row26 col0\" >0.053000</td>\n",
       "      <td id=\"T_74536_row26_col1\" class=\"data row26 col1\" >0.804382</td>\n",
       "      <td id=\"T_74536_row26_col2\" class=\"data row26 col2\" >-0.457588</td>\n",
       "    </tr>\n",
       "    <tr>\n",
       "      <th id=\"T_74536_level0_row27\" class=\"row_heading level0 row27\" >27</th>\n",
       "      <td id=\"T_74536_row27_col0\" class=\"data row27 col0\" >0.055000</td>\n",
       "      <td id=\"T_74536_row27_col1\" class=\"data row27 col1\" >0.804382</td>\n",
       "      <td id=\"T_74536_row27_col2\" class=\"data row27 col2\" >-0.457588</td>\n",
       "    </tr>\n",
       "    <tr>\n",
       "      <th id=\"T_74536_level0_row28\" class=\"row_heading level0 row28\" >28</th>\n",
       "      <td id=\"T_74536_row28_col0\" class=\"data row28 col0\" >0.057000</td>\n",
       "      <td id=\"T_74536_row28_col1\" class=\"data row28 col1\" >0.804382</td>\n",
       "      <td id=\"T_74536_row28_col2\" class=\"data row28 col2\" >-0.457588</td>\n",
       "    </tr>\n",
       "    <tr>\n",
       "      <th id=\"T_74536_level0_row29\" class=\"row_heading level0 row29\" >29</th>\n",
       "      <td id=\"T_74536_row29_col0\" class=\"data row29 col0\" >0.059000</td>\n",
       "      <td id=\"T_74536_row29_col1\" class=\"data row29 col1\" >0.804382</td>\n",
       "      <td id=\"T_74536_row29_col2\" class=\"data row29 col2\" >-0.457588</td>\n",
       "    </tr>\n",
       "    <tr>\n",
       "      <th id=\"T_74536_level0_row30\" class=\"row_heading level0 row30\" >30</th>\n",
       "      <td id=\"T_74536_row30_col0\" class=\"data row30 col0\" >0.061000</td>\n",
       "      <td id=\"T_74536_row30_col1\" class=\"data row30 col1\" >0.804382</td>\n",
       "      <td id=\"T_74536_row30_col2\" class=\"data row30 col2\" >-0.457588</td>\n",
       "    </tr>\n",
       "    <tr>\n",
       "      <th id=\"T_74536_level0_row31\" class=\"row_heading level0 row31\" >31</th>\n",
       "      <td id=\"T_74536_row31_col0\" class=\"data row31 col0\" >0.063000</td>\n",
       "      <td id=\"T_74536_row31_col1\" class=\"data row31 col1\" >0.804382</td>\n",
       "      <td id=\"T_74536_row31_col2\" class=\"data row31 col2\" >-0.457588</td>\n",
       "    </tr>\n",
       "    <tr>\n",
       "      <th id=\"T_74536_level0_row32\" class=\"row_heading level0 row32\" >32</th>\n",
       "      <td id=\"T_74536_row32_col0\" class=\"data row32 col0\" >0.065000</td>\n",
       "      <td id=\"T_74536_row32_col1\" class=\"data row32 col1\" >0.804382</td>\n",
       "      <td id=\"T_74536_row32_col2\" class=\"data row32 col2\" >-0.457588</td>\n",
       "    </tr>\n",
       "    <tr>\n",
       "      <th id=\"T_74536_level0_row33\" class=\"row_heading level0 row33\" >33</th>\n",
       "      <td id=\"T_74536_row33_col0\" class=\"data row33 col0\" >0.067000</td>\n",
       "      <td id=\"T_74536_row33_col1\" class=\"data row33 col1\" >0.804382</td>\n",
       "      <td id=\"T_74536_row33_col2\" class=\"data row33 col2\" >-0.457588</td>\n",
       "    </tr>\n",
       "    <tr>\n",
       "      <th id=\"T_74536_level0_row34\" class=\"row_heading level0 row34\" >34</th>\n",
       "      <td id=\"T_74536_row34_col0\" class=\"data row34 col0\" >0.069000</td>\n",
       "      <td id=\"T_74536_row34_col1\" class=\"data row34 col1\" >0.804382</td>\n",
       "      <td id=\"T_74536_row34_col2\" class=\"data row34 col2\" >-0.457588</td>\n",
       "    </tr>\n",
       "  </tbody>\n",
       "</table>\n"
      ],
      "text/plain": [
       "<pandas.io.formats.style.Styler at 0x7f32c6e383d0>"
      ]
     },
     "execution_count": 24,
     "metadata": {},
     "output_type": "execute_result"
    }
   ],
   "source": [
    "#highlighting the best c value\n",
    "\n",
    "def yellow(s):\n",
    "  if s['C'] == 0.001:\n",
    "    return ['background-color: lightgreen']*3\n",
    "\n",
    "dfa.style.apply(yellow, axis=1)"
   ]
  },
  {
   "cell_type": "markdown",
   "metadata": {
    "id": "quxTwz1_9Hr8"
   },
   "source": [
    "Refining the C values"
   ]
  },
  {
   "cell_type": "code",
   "execution_count": 25,
   "metadata": {
    "colab": {
     "base_uri": "https://localhost:8080/",
     "height": 439
    },
    "id": "F0fAjusx7sm8",
    "outputId": "2e6962bb-4468-4a0e-e088-52e8a58ee33d"
   },
   "outputs": [
    {
     "name": "stdout",
     "output_type": "stream",
     "text": [
      "Best Equality of Opportunity score is at C:  0.001 with Equality of Opportunity score of -0.4464800923254472\n",
      "Best accuracy score is at C:  0.004 with accuracy score of 0.8043231940446883\n"
     ]
    },
    {
     "data": {
      "image/png": "[encoded data removed]",
      "text/plain": [
       "<Figure size 720x432 with 1 Axes>"
      ]
     },
     "metadata": {
      "needs_background": "light"
     },
     "output_type": "display_data"
    }
   ],
   "source": [
    "#narrowing in and expanding the c values\n",
    "\n",
    "dfa2 = cv_accuracy_fairness(X_train_a, y_train_a, a_train, np.arange(0.001, 0.005, 0.0005))"
   ]
  },
  {
   "cell_type": "markdown",
   "metadata": {
    "id": "c-aqse9G-LvY"
   },
   "source": [
    "**Adult Dataset:** The hyperparameter for the best *Equality of Opportunity* is at **C: 0.001** with a score of **-0.44648009**"
   ]
  },
  {
   "cell_type": "markdown",
   "metadata": {
    "id": "QPzc6swdVgDU"
   },
   "source": [
    "### German\n"
   ]
  },
  {
   "cell_type": "code",
   "execution_count": 26,
   "metadata": {
    "colab": {
     "base_uri": "https://localhost:8080/",
     "height": 439
    },
    "id": "_FU9ql3_WbQu",
    "outputId": "5ab90e1e-e903-492f-839e-86fea9a799cd"
   },
   "outputs": [
    {
     "name": "stdout",
     "output_type": "stream",
     "text": [
      "Best Equality of Opportunity score is at C:  0.051000000000000004 with Equality of Opportunity score of -0.050097847358121395\n",
      "Best accuracy score is at C:  0.009000000000000001 with accuracy score of 0.7185714285714286\n"
     ]
    },
    {
     "data": {
      "image/png": "[encoded data removed]",
      "text/plain": [
       "<Figure size 720x432 with 1 Axes>"
      ]
     },
     "metadata": {
      "needs_background": "light"
     },
     "output_type": "display_data"
    }
   ],
   "source": [
    "#for german\n",
    "\n",
    "dfg = cv_accuracy_fairness(X_train_g, y_train_g, g_train, a)"
   ]
  },
  {
   "cell_type": "markdown",
   "metadata": {
    "id": "GzqpNTUt-_l1"
   },
   "source": [
    "**German Dataset:** The hyperparameter for the best *Equality of Opportunity* is at **C: 0.051** with a score of **-0.050097847358121395**\n",
    "\n"
   ]
  },
  {
   "cell_type": "code",
   "execution_count": 27,
   "metadata": {
    "colab": {
     "base_uri": "https://localhost:8080/",
     "height": 1000
    },
    "id": "f1sBhjCmXAun",
    "outputId": "287d0140-e04c-43b4-9f65-72830b1f878a"
   },
   "outputs": [
    {
     "data": {
      "text/html": [
       "<style type=\"text/css\">\n",
       "#T_78eee_row0_col0, #T_78eee_row0_col1, #T_78eee_row0_col2, #T_78eee_row1_col0, #T_78eee_row1_col1, #T_78eee_row1_col2, #T_78eee_row2_col0, #T_78eee_row2_col1, #T_78eee_row2_col2, #T_78eee_row3_col0, #T_78eee_row3_col1, #T_78eee_row3_col2, #T_78eee_row4_col0, #T_78eee_row4_col1, #T_78eee_row4_col2, #T_78eee_row5_col0, #T_78eee_row5_col1, #T_78eee_row5_col2, #T_78eee_row6_col0, #T_78eee_row6_col1, #T_78eee_row6_col2, #T_78eee_row7_col0, #T_78eee_row7_col1, #T_78eee_row7_col2, #T_78eee_row8_col0, #T_78eee_row8_col1, #T_78eee_row8_col2, #T_78eee_row9_col0, #T_78eee_row9_col1, #T_78eee_row9_col2, #T_78eee_row10_col0, #T_78eee_row10_col1, #T_78eee_row10_col2, #T_78eee_row11_col0, #T_78eee_row11_col1, #T_78eee_row11_col2, #T_78eee_row12_col0, #T_78eee_row12_col1, #T_78eee_row12_col2, #T_78eee_row13_col0, #T_78eee_row13_col1, #T_78eee_row13_col2, #T_78eee_row14_col0, #T_78eee_row14_col1, #T_78eee_row14_col2, #T_78eee_row15_col0, #T_78eee_row15_col1, #T_78eee_row15_col2, #T_78eee_row16_col0, #T_78eee_row16_col1, #T_78eee_row16_col2, #T_78eee_row17_col0, #T_78eee_row17_col1, #T_78eee_row17_col2, #T_78eee_row18_col0, #T_78eee_row18_col1, #T_78eee_row18_col2, #T_78eee_row19_col0, #T_78eee_row19_col1, #T_78eee_row19_col2, #T_78eee_row20_col0, #T_78eee_row20_col1, #T_78eee_row20_col2, #T_78eee_row21_col0, #T_78eee_row21_col1, #T_78eee_row21_col2, #T_78eee_row22_col0, #T_78eee_row22_col1, #T_78eee_row22_col2, #T_78eee_row23_col0, #T_78eee_row23_col1, #T_78eee_row23_col2, #T_78eee_row24_col0, #T_78eee_row24_col1, #T_78eee_row24_col2, #T_78eee_row26_col0, #T_78eee_row26_col1, #T_78eee_row26_col2, #T_78eee_row27_col0, #T_78eee_row27_col1, #T_78eee_row27_col2, #T_78eee_row28_col0, #T_78eee_row28_col1, #T_78eee_row28_col2, #T_78eee_row29_col0, #T_78eee_row29_col1, #T_78eee_row29_col2, #T_78eee_row30_col0, #T_78eee_row30_col1, #T_78eee_row30_col2, #T_78eee_row31_col0, #T_78eee_row31_col1, #T_78eee_row31_col2, #T_78eee_row32_col0, #T_78eee_row32_col1, #T_78eee_row32_col2, #T_78eee_row33_col0, #T_78eee_row33_col1, #T_78eee_row33_col2, #T_78eee_row34_col0, #T_78eee_row34_col1, #T_78eee_row34_col2 {\n",
       "  background-color: white;\n",
       "}\n",
       "#T_78eee_row25_col0, #T_78eee_row25_col1, #T_78eee_row25_col2 {\n",
       "  background-color: lightgreen;\n",
       "}\n",
       "</style>\n",
       "<table id=\"T_78eee_\" class=\"dataframe\">\n",
       "  <thead>\n",
       "    <tr>\n",
       "      <th class=\"blank level0\" >&nbsp;</th>\n",
       "      <th class=\"col_heading level0 col0\" >C</th>\n",
       "      <th class=\"col_heading level0 col1\" >Accuracy</th>\n",
       "      <th class=\"col_heading level0 col2\" >Equality of Opportunity</th>\n",
       "    </tr>\n",
       "  </thead>\n",
       "  <tbody>\n",
       "    <tr>\n",
       "      <th id=\"T_78eee_level0_row0\" class=\"row_heading level0 row0\" >0</th>\n",
       "      <td id=\"T_78eee_row0_col0\" class=\"data row0 col0\" >0.001000</td>\n",
       "      <td id=\"T_78eee_row0_col1\" class=\"data row0 col1\" >0.701429</td>\n",
       "      <td id=\"T_78eee_row0_col2\" class=\"data row0 col2\" >-0.191977</td>\n",
       "    </tr>\n",
       "    <tr>\n",
       "      <th id=\"T_78eee_level0_row1\" class=\"row_heading level0 row1\" >1</th>\n",
       "      <td id=\"T_78eee_row1_col0\" class=\"data row1 col0\" >0.003000</td>\n",
       "      <td id=\"T_78eee_row1_col1\" class=\"data row1 col1\" >0.717143</td>\n",
       "      <td id=\"T_78eee_row1_col2\" class=\"data row1 col2\" >-0.053523</td>\n",
       "    </tr>\n",
       "    <tr>\n",
       "      <th id=\"T_78eee_level0_row2\" class=\"row_heading level0 row2\" >2</th>\n",
       "      <td id=\"T_78eee_row2_col0\" class=\"data row2 col0\" >0.005000</td>\n",
       "      <td id=\"T_78eee_row2_col1\" class=\"data row2 col1\" >0.715714</td>\n",
       "      <td id=\"T_78eee_row2_col2\" class=\"data row2 col2\" >-0.064481</td>\n",
       "    </tr>\n",
       "    <tr>\n",
       "      <th id=\"T_78eee_level0_row3\" class=\"row_heading level0 row3\" >3</th>\n",
       "      <td id=\"T_78eee_row3_col0\" class=\"data row3 col0\" >0.007000</td>\n",
       "      <td id=\"T_78eee_row3_col1\" class=\"data row3 col1\" >0.717143</td>\n",
       "      <td id=\"T_78eee_row3_col2\" class=\"data row3 col2\" >-0.075440</td>\n",
       "    </tr>\n",
       "    <tr>\n",
       "      <th id=\"T_78eee_level0_row4\" class=\"row_heading level0 row4\" >4</th>\n",
       "      <td id=\"T_78eee_row4_col0\" class=\"data row4 col0\" >0.009000</td>\n",
       "      <td id=\"T_78eee_row4_col1\" class=\"data row4 col1\" >0.718571</td>\n",
       "      <td id=\"T_78eee_row4_col2\" class=\"data row4 col2\" >-0.072114</td>\n",
       "    </tr>\n",
       "    <tr>\n",
       "      <th id=\"T_78eee_level0_row5\" class=\"row_heading level0 row5\" >5</th>\n",
       "      <td id=\"T_78eee_row5_col0\" class=\"data row5 col0\" >0.011000</td>\n",
       "      <td id=\"T_78eee_row5_col1\" class=\"data row5 col1\" >0.718571</td>\n",
       "      <td id=\"T_78eee_row5_col2\" class=\"data row5 col2\" >-0.072114</td>\n",
       "    </tr>\n",
       "    <tr>\n",
       "      <th id=\"T_78eee_level0_row6\" class=\"row_heading level0 row6\" >6</th>\n",
       "      <td id=\"T_78eee_row6_col0\" class=\"data row6 col0\" >0.013000</td>\n",
       "      <td id=\"T_78eee_row6_col1\" class=\"data row6 col1\" >0.715714</td>\n",
       "      <td id=\"T_78eee_row6_col2\" class=\"data row6 col2\" >-0.085812</td>\n",
       "    </tr>\n",
       "    <tr>\n",
       "      <th id=\"T_78eee_level0_row7\" class=\"row_heading level0 row7\" >7</th>\n",
       "      <td id=\"T_78eee_row7_col0\" class=\"data row7 col0\" >0.015000</td>\n",
       "      <td id=\"T_78eee_row7_col1\" class=\"data row7 col1\" >0.715714</td>\n",
       "      <td id=\"T_78eee_row7_col2\" class=\"data row7 col2\" >-0.085812</td>\n",
       "    </tr>\n",
       "    <tr>\n",
       "      <th id=\"T_78eee_level0_row8\" class=\"row_heading level0 row8\" >8</th>\n",
       "      <td id=\"T_78eee_row8_col0\" class=\"data row8 col0\" >0.017000</td>\n",
       "      <td id=\"T_78eee_row8_col1\" class=\"data row8 col1\" >0.717143</td>\n",
       "      <td id=\"T_78eee_row8_col2\" class=\"data row8 col2\" >-0.078669</td>\n",
       "    </tr>\n",
       "    <tr>\n",
       "      <th id=\"T_78eee_level0_row9\" class=\"row_heading level0 row9\" >9</th>\n",
       "      <td id=\"T_78eee_row9_col0\" class=\"data row9 col0\" >0.019000</td>\n",
       "      <td id=\"T_78eee_row9_col1\" class=\"data row9 col1\" >0.717143</td>\n",
       "      <td id=\"T_78eee_row9_col2\" class=\"data row9 col2\" >-0.078669</td>\n",
       "    </tr>\n",
       "    <tr>\n",
       "      <th id=\"T_78eee_level0_row10\" class=\"row_heading level0 row10\" >10</th>\n",
       "      <td id=\"T_78eee_row10_col0\" class=\"data row10 col0\" >0.021000</td>\n",
       "      <td id=\"T_78eee_row10_col1\" class=\"data row10 col1\" >0.715714</td>\n",
       "      <td id=\"T_78eee_row10_col2\" class=\"data row10 col2\" >-0.071526</td>\n",
       "    </tr>\n",
       "    <tr>\n",
       "      <th id=\"T_78eee_level0_row11\" class=\"row_heading level0 row11\" >11</th>\n",
       "      <td id=\"T_78eee_row11_col0\" class=\"data row11 col0\" >0.023000</td>\n",
       "      <td id=\"T_78eee_row11_col1\" class=\"data row11 col1\" >0.715714</td>\n",
       "      <td id=\"T_78eee_row11_col2\" class=\"data row11 col2\" >-0.071526</td>\n",
       "    </tr>\n",
       "    <tr>\n",
       "      <th id=\"T_78eee_level0_row12\" class=\"row_heading level0 row12\" >12</th>\n",
       "      <td id=\"T_78eee_row12_col0\" class=\"data row12 col0\" >0.025000</td>\n",
       "      <td id=\"T_78eee_row12_col1\" class=\"data row12 col1\" >0.715714</td>\n",
       "      <td id=\"T_78eee_row12_col2\" class=\"data row12 col2\" >-0.071526</td>\n",
       "    </tr>\n",
       "    <tr>\n",
       "      <th id=\"T_78eee_level0_row13\" class=\"row_heading level0 row13\" >13</th>\n",
       "      <td id=\"T_78eee_row13_col0\" class=\"data row13 col0\" >0.027000</td>\n",
       "      <td id=\"T_78eee_row13_col1\" class=\"data row13 col1\" >0.715714</td>\n",
       "      <td id=\"T_78eee_row13_col2\" class=\"data row13 col2\" >-0.071526</td>\n",
       "    </tr>\n",
       "    <tr>\n",
       "      <th id=\"T_78eee_level0_row14\" class=\"row_heading level0 row14\" >14</th>\n",
       "      <td id=\"T_78eee_row14_col0\" class=\"data row14 col0\" >0.029000</td>\n",
       "      <td id=\"T_78eee_row14_col1\" class=\"data row14 col1\" >0.715714</td>\n",
       "      <td id=\"T_78eee_row14_col2\" class=\"data row14 col2\" >-0.071526</td>\n",
       "    </tr>\n",
       "    <tr>\n",
       "      <th id=\"T_78eee_level0_row15\" class=\"row_heading level0 row15\" >15</th>\n",
       "      <td id=\"T_78eee_row15_col0\" class=\"data row15 col0\" >0.031000</td>\n",
       "      <td id=\"T_78eee_row15_col1\" class=\"data row15 col1\" >0.715714</td>\n",
       "      <td id=\"T_78eee_row15_col2\" class=\"data row15 col2\" >-0.071526</td>\n",
       "    </tr>\n",
       "    <tr>\n",
       "      <th id=\"T_78eee_level0_row16\" class=\"row_heading level0 row16\" >16</th>\n",
       "      <td id=\"T_78eee_row16_col0\" class=\"data row16 col0\" >0.033000</td>\n",
       "      <td id=\"T_78eee_row16_col1\" class=\"data row16 col1\" >0.715714</td>\n",
       "      <td id=\"T_78eee_row16_col2\" class=\"data row16 col2\" >-0.071526</td>\n",
       "    </tr>\n",
       "    <tr>\n",
       "      <th id=\"T_78eee_level0_row17\" class=\"row_heading level0 row17\" >17</th>\n",
       "      <td id=\"T_78eee_row17_col0\" class=\"data row17 col0\" >0.035000</td>\n",
       "      <td id=\"T_78eee_row17_col1\" class=\"data row17 col1\" >0.715714</td>\n",
       "      <td id=\"T_78eee_row17_col2\" class=\"data row17 col2\" >-0.071526</td>\n",
       "    </tr>\n",
       "    <tr>\n",
       "      <th id=\"T_78eee_level0_row18\" class=\"row_heading level0 row18\" >18</th>\n",
       "      <td id=\"T_78eee_row18_col0\" class=\"data row18 col0\" >0.037000</td>\n",
       "      <td id=\"T_78eee_row18_col1\" class=\"data row18 col1\" >0.715714</td>\n",
       "      <td id=\"T_78eee_row18_col2\" class=\"data row18 col2\" >-0.071526</td>\n",
       "    </tr>\n",
       "    <tr>\n",
       "      <th id=\"T_78eee_level0_row19\" class=\"row_heading level0 row19\" >19</th>\n",
       "      <td id=\"T_78eee_row19_col0\" class=\"data row19 col0\" >0.039000</td>\n",
       "      <td id=\"T_78eee_row19_col1\" class=\"data row19 col1\" >0.715714</td>\n",
       "      <td id=\"T_78eee_row19_col2\" class=\"data row19 col2\" >-0.071526</td>\n",
       "    </tr>\n",
       "    <tr>\n",
       "      <th id=\"T_78eee_level0_row20\" class=\"row_heading level0 row20\" >20</th>\n",
       "      <td id=\"T_78eee_row20_col0\" class=\"data row20 col0\" >0.041000</td>\n",
       "      <td id=\"T_78eee_row20_col1\" class=\"data row20 col1\" >0.715714</td>\n",
       "      <td id=\"T_78eee_row20_col2\" class=\"data row20 col2\" >-0.071526</td>\n",
       "    </tr>\n",
       "    <tr>\n",
       "      <th id=\"T_78eee_level0_row21\" class=\"row_heading level0 row21\" >21</th>\n",
       "      <td id=\"T_78eee_row21_col0\" class=\"data row21 col0\" >0.043000</td>\n",
       "      <td id=\"T_78eee_row21_col1\" class=\"data row21 col1\" >0.715714</td>\n",
       "      <td id=\"T_78eee_row21_col2\" class=\"data row21 col2\" >-0.071526</td>\n",
       "    </tr>\n",
       "    <tr>\n",
       "      <th id=\"T_78eee_level0_row22\" class=\"row_heading level0 row22\" >22</th>\n",
       "      <td id=\"T_78eee_row22_col0\" class=\"data row22 col0\" >0.045000</td>\n",
       "      <td id=\"T_78eee_row22_col1\" class=\"data row22 col1\" >0.715714</td>\n",
       "      <td id=\"T_78eee_row22_col2\" class=\"data row22 col2\" >-0.071526</td>\n",
       "    </tr>\n",
       "    <tr>\n",
       "      <th id=\"T_78eee_level0_row23\" class=\"row_heading level0 row23\" >23</th>\n",
       "      <td id=\"T_78eee_row23_col0\" class=\"data row23 col0\" >0.047000</td>\n",
       "      <td id=\"T_78eee_row23_col1\" class=\"data row23 col1\" >0.715714</td>\n",
       "      <td id=\"T_78eee_row23_col2\" class=\"data row23 col2\" >-0.071526</td>\n",
       "    </tr>\n",
       "    <tr>\n",
       "      <th id=\"T_78eee_level0_row24\" class=\"row_heading level0 row24\" >24</th>\n",
       "      <td id=\"T_78eee_row24_col0\" class=\"data row24 col0\" >0.049000</td>\n",
       "      <td id=\"T_78eee_row24_col1\" class=\"data row24 col1\" >0.715714</td>\n",
       "      <td id=\"T_78eee_row24_col2\" class=\"data row24 col2\" >-0.071526</td>\n",
       "    </tr>\n",
       "    <tr>\n",
       "      <th id=\"T_78eee_level0_row25\" class=\"row_heading level0 row25\" >25</th>\n",
       "      <td id=\"T_78eee_row25_col0\" class=\"data row25 col0\" >0.051000</td>\n",
       "      <td id=\"T_78eee_row25_col1\" class=\"data row25 col1\" >0.715714</td>\n",
       "      <td id=\"T_78eee_row25_col2\" class=\"data row25 col2\" >-0.050098</td>\n",
       "    </tr>\n",
       "    <tr>\n",
       "      <th id=\"T_78eee_level0_row26\" class=\"row_heading level0 row26\" >26</th>\n",
       "      <td id=\"T_78eee_row26_col0\" class=\"data row26 col0\" >0.053000</td>\n",
       "      <td id=\"T_78eee_row26_col1\" class=\"data row26 col1\" >0.715714</td>\n",
       "      <td id=\"T_78eee_row26_col2\" class=\"data row26 col2\" >-0.050098</td>\n",
       "    </tr>\n",
       "    <tr>\n",
       "      <th id=\"T_78eee_level0_row27\" class=\"row_heading level0 row27\" >27</th>\n",
       "      <td id=\"T_78eee_row27_col0\" class=\"data row27 col0\" >0.055000</td>\n",
       "      <td id=\"T_78eee_row27_col1\" class=\"data row27 col1\" >0.715714</td>\n",
       "      <td id=\"T_78eee_row27_col2\" class=\"data row27 col2\" >-0.050098</td>\n",
       "    </tr>\n",
       "    <tr>\n",
       "      <th id=\"T_78eee_level0_row28\" class=\"row_heading level0 row28\" >28</th>\n",
       "      <td id=\"T_78eee_row28_col0\" class=\"data row28 col0\" >0.057000</td>\n",
       "      <td id=\"T_78eee_row28_col1\" class=\"data row28 col1\" >0.715714</td>\n",
       "      <td id=\"T_78eee_row28_col2\" class=\"data row28 col2\" >-0.050098</td>\n",
       "    </tr>\n",
       "    <tr>\n",
       "      <th id=\"T_78eee_level0_row29\" class=\"row_heading level0 row29\" >29</th>\n",
       "      <td id=\"T_78eee_row29_col0\" class=\"data row29 col0\" >0.059000</td>\n",
       "      <td id=\"T_78eee_row29_col1\" class=\"data row29 col1\" >0.715714</td>\n",
       "      <td id=\"T_78eee_row29_col2\" class=\"data row29 col2\" >-0.050098</td>\n",
       "    </tr>\n",
       "    <tr>\n",
       "      <th id=\"T_78eee_level0_row30\" class=\"row_heading level0 row30\" >30</th>\n",
       "      <td id=\"T_78eee_row30_col0\" class=\"data row30 col0\" >0.061000</td>\n",
       "      <td id=\"T_78eee_row30_col1\" class=\"data row30 col1\" >0.715714</td>\n",
       "      <td id=\"T_78eee_row30_col2\" class=\"data row30 col2\" >-0.050098</td>\n",
       "    </tr>\n",
       "    <tr>\n",
       "      <th id=\"T_78eee_level0_row31\" class=\"row_heading level0 row31\" >31</th>\n",
       "      <td id=\"T_78eee_row31_col0\" class=\"data row31 col0\" >0.063000</td>\n",
       "      <td id=\"T_78eee_row31_col1\" class=\"data row31 col1\" >0.715714</td>\n",
       "      <td id=\"T_78eee_row31_col2\" class=\"data row31 col2\" >-0.050098</td>\n",
       "    </tr>\n",
       "    <tr>\n",
       "      <th id=\"T_78eee_level0_row32\" class=\"row_heading level0 row32\" >32</th>\n",
       "      <td id=\"T_78eee_row32_col0\" class=\"data row32 col0\" >0.065000</td>\n",
       "      <td id=\"T_78eee_row32_col1\" class=\"data row32 col1\" >0.715714</td>\n",
       "      <td id=\"T_78eee_row32_col2\" class=\"data row32 col2\" >-0.050098</td>\n",
       "    </tr>\n",
       "    <tr>\n",
       "      <th id=\"T_78eee_level0_row33\" class=\"row_heading level0 row33\" >33</th>\n",
       "      <td id=\"T_78eee_row33_col0\" class=\"data row33 col0\" >0.067000</td>\n",
       "      <td id=\"T_78eee_row33_col1\" class=\"data row33 col1\" >0.715714</td>\n",
       "      <td id=\"T_78eee_row33_col2\" class=\"data row33 col2\" >-0.050098</td>\n",
       "    </tr>\n",
       "    <tr>\n",
       "      <th id=\"T_78eee_level0_row34\" class=\"row_heading level0 row34\" >34</th>\n",
       "      <td id=\"T_78eee_row34_col0\" class=\"data row34 col0\" >0.069000</td>\n",
       "      <td id=\"T_78eee_row34_col1\" class=\"data row34 col1\" >0.715714</td>\n",
       "      <td id=\"T_78eee_row34_col2\" class=\"data row34 col2\" >-0.050098</td>\n",
       "    </tr>\n",
       "  </tbody>\n",
       "</table>\n"
      ],
      "text/plain": [
       "<pandas.io.formats.style.Styler at 0x7f32c69b0390>"
      ]
     },
     "execution_count": 27,
     "metadata": {},
     "output_type": "execute_result"
    }
   ],
   "source": [
    "#highlighting the best c value for fairness\n",
    "def syling(s):\n",
    "  if s['C'] == 0.051000000000000004:\n",
    "    return ['background-color: lightgreen']*3\n",
    "  else:\n",
    "    return ['background-color: white']*3\n",
    "\n",
    "dfg.style.apply(syling, axis = 1)\n"
   ]
  },
  {
   "cell_type": "markdown",
   "metadata": {
    "id": "sePZ1ypXUN4G"
   },
   "source": [
    "## Compute and Report Final Accuracy and Fairness Metric"
   ]
  },
  {
   "cell_type": "markdown",
   "metadata": {
    "id": "HVlVQysC_o4Y"
   },
   "source": [
    "\n",
    "### Task 1: Table of Results from Training Data\n",
    "\n",
    "| Dataset | C Value for Highest Accuracy (1) | C Value for Best Fairness Metrics (2) |\n",
    "| --- | :---: | ---: |\n",
    "| **Adult** | 0.017 | 0.001 |\n",
    "| **German** | 0.009 | 0.051 |"
   ]
  },
  {
   "cell_type": "markdown",
   "metadata": {
    "id": "VKAc2UXlIr0-"
   },
   "source": [
    "### Functions"
   ]
  },
  {
   "cell_type": "code",
   "execution_count": 28,
   "metadata": {
    "id": "fphMNOv6ALE1"
   },
   "outputs": [],
   "source": [
    "#function for final scores\n",
    "\n",
    "def finalscores(X_train, y_train, X_test, y_test, test, c):\n",
    "\n",
    "  #empty lists\n",
    "  equ_opp_list = []\n",
    "  acc = []\n",
    "  disparate = []\n",
    "\n",
    "  #tarining the log red model\n",
    "  clf = LogisticRegression(solver='liblinear', C=c, random_state=1)\n",
    "  #fitting to the train values\n",
    "  clf.fit(X_train,y_train)\n",
    "  #predicting on the test set\n",
    "  y_pred = clf.predict(X_test)\n",
    "  test_pred = test.copy()\n",
    "  test_pred.labels = y_pred\n",
    "  \n",
    "  #appending the lists with accuracy scores\n",
    "  acc.append(sum(y_pred==y_test)/len(y_test))\n",
    "\n",
    "  #classifcation metric\n",
    "  metric = ClassificationMetric(test, test_pred, unprivileged_groups=unprivileged_groups, privileged_groups=privileged_groups)\n",
    "  #appending the lists with equ of opp and disparate impact\n",
    "  equ_opp_list.append(metric.equal_opportunity_difference()) #would like it to be close to 0\n",
    "  disparate.append(metric.disparate_impact()) #value close to 0 indicates strong bias\n",
    "\n",
    "  print('The final Accuracy score on the test data with hyperparameter C:', c, 'is', clf.score(X_test, y_test))\n",
    "  print('The final Equality of Opportunity score at C:', c, 'is', equ_opp_list)\n",
    "  print('The disparate impact score is', disparate)\n",
    "  "
   ]
  },
  {
   "cell_type": "markdown",
   "metadata": {
    "id": "eK_jzKbh9xoX"
   },
   "source": [
    "### Adult\n"
   ]
  },
  {
   "cell_type": "markdown",
   "metadata": {
    "id": "djsyyXv4-pP_"
   },
   "source": [
    "**Adult Dataset:** \n",
    "\n",
    "<font color='blue'>**(1)**</font> The hyperparameter for the highest accuracy on training data is at **C: 0.017**\n",
    "\n",
    "\n"
   ]
  },
  {
   "cell_type": "code",
   "execution_count": 29,
   "metadata": {
    "colab": {
     "base_uri": "https://localhost:8080/"
    },
    "id": "9bzbmQvu-UnG",
    "outputId": "68abd462-66c1-450b-8ab7-99fde820f8fc"
   },
   "outputs": [
    {
     "name": "stdout",
     "output_type": "stream",
     "text": [
      "The final Accuracy score on the test data with hyperparameter C: 0.017 is 0.8039991810550741\n",
      "The final Equality of Opportunity score at C: 0.017 is [-0.4581379772270596]\n",
      "The disparate impact score is [0.0]\n"
     ]
    }
   ],
   "source": [
    "#final scores for the adult test set, with hyperparameter 0.17\n",
    "\n",
    "finalscores(X_train_a, y_train_a, X_test_a, y_test_a, a_test, 0.017)"
   ]
  },
  {
   "cell_type": "markdown",
   "metadata": {
    "id": "DpaTCIeKGM09"
   },
   "source": [
    "> The <font color='blue'>**final *accuracy* score**</font> in testing data at hyperparameter C: 0.017 is <font color='blue'>**0.804**</font>"
   ]
  },
  {
   "cell_type": "markdown",
   "metadata": {
    "id": "T3LDvteTFeoK"
   },
   "source": [
    "<font color='green'>**(2)**</font> The hyperparameter for the best fairness metric on training data is at **C: 0.001**"
   ]
  },
  {
   "cell_type": "code",
   "execution_count": 30,
   "metadata": {
    "colab": {
     "base_uri": "https://localhost:8080/"
    },
    "id": "ACCxVmHECiNx",
    "outputId": "874d93e6-7791-4361-d856-1207058afe36"
   },
   "outputs": [
    {
     "name": "stdout",
     "output_type": "stream",
     "text": [
      "The final Accuracy score on the test data with hyperparameter C: 0.001 is 0.8042721626970586\n",
      "The final Equality of Opportunity score at C: 0.001 is [-0.4511051574012056]\n",
      "The disparate impact score is [0.0]\n"
     ]
    }
   ],
   "source": [
    "#final scores for the adult test set, with hyperparameter 0.001\n",
    "\n",
    "finalscores(X_train_a, y_train_a, X_test_a, y_test_a, a_test, 0.001)"
   ]
  },
  {
   "cell_type": "markdown",
   "metadata": {
    "id": "f7TBSAKJKl0t"
   },
   "source": [
    "> The <font color='green'>**final *Equality of Opportunity* score**</font> in testing data at hyperparameter C: 0.001 is <font color='green'>**-0.45110**</font>\n"
   ]
  },
  {
   "cell_type": "markdown",
   "metadata": {
    "id": "baH6dfQ-90e9"
   },
   "source": [
    "### German\n",
    "\n",
    "**German Dataset:** \n",
    "\n",
    "<font color='blue'>**(1)**</font>  The hyperparameter for the highest accuracy on training data is at **C: 0.009**\n",
    "\n",
    "\n"
   ]
  },
  {
   "cell_type": "code",
   "execution_count": 31,
   "metadata": {
    "colab": {
     "base_uri": "https://localhost:8080/"
    },
    "id": "O-KLy0Rm_lJg",
    "outputId": "e3006d43-c67c-4c4e-922f-e9265b25c014"
   },
   "outputs": [
    {
     "name": "stdout",
     "output_type": "stream",
     "text": [
      "The final Accuracy score on the test data with hyperparameter C: 0.009 is 0.6466666666666666\n",
      "The final Equality of Opportunity score at C: 0.009 is [-0.1504771225838023]\n",
      "The disparate impact score is [0.7754407051282051]\n"
     ]
    }
   ],
   "source": [
    "#final scores for the german test set, with hyperparameter 0.009\n",
    "\n",
    "finalscores(X_train_g, y_train_g, X_test_g, y_test_g, g_test, 0.009)"
   ]
  },
  {
   "cell_type": "markdown",
   "metadata": {
    "id": "4Fr2jFn0Fuc7"
   },
   "source": [
    "> The <font color='blue'>**final *accuracy* score**</font> in testing data at hyperparameter C: 0.009 is <font color='blue'>**0.6467**</font>"
   ]
  },
  {
   "cell_type": "markdown",
   "metadata": {
    "id": "tDWdM4dZFbyF"
   },
   "source": [
    "<font color='green'>**(2)**</font> The hyperparameter for best fairness metricon training data is at **C: 0.051**"
   ]
  },
  {
   "cell_type": "code",
   "execution_count": 32,
   "metadata": {
    "colab": {
     "base_uri": "https://localhost:8080/"
    },
    "id": "2sOzk3qTEOTj",
    "outputId": "37943835-553e-4d84-9e11-cc6f2e555e59"
   },
   "outputs": [
    {
     "name": "stdout",
     "output_type": "stream",
     "text": [
      "The final Accuracy score on the test data with hyperparameter C: 0.051 is 0.6466666666666666\n",
      "The final Equality of Opportunity score at C: 0.051 is [-0.1504771225838023]\n",
      "The disparate impact score is [0.7754407051282051]\n"
     ]
    }
   ],
   "source": [
    "#final scores for the german test set, with hyperparameter 0.051\n",
    "\n",
    "finalscores(X_train_g, y_train_g, X_test_g, y_test_g, g_test, 0.051)"
   ]
  },
  {
   "cell_type": "markdown",
   "metadata": {
    "id": "GNZDgwFDLCgK"
   },
   "source": [
    "\n",
    "> The <font color='green'>**final *Equality of Opportunity* score**</font> on testing data at hyperparameter C: 0.051 is <font color='green'>**-0.1505**</font>\n"
   ]
  },
  {
   "cell_type": "markdown",
   "metadata": {
    "id": "MxIABBhN0E4s"
   },
   "source": [
    "___"
   ]
  },
  {
   "cell_type": "markdown",
   "metadata": {
    "id": "XduX0Sc1Gs4y"
   },
   "source": [
    "# **Task 2** \n",
    "\n",
    "Now choose an algorithmic fairness method, e.g. reweighing (Lecture 7), and perform\n",
    "the same analysis, i.e. how varying the hyperparameter(s) impacts accuracy and fairness metrics\n",
    "during model selection.\n",
    "Specifically, using the same 5-fold cross validation as in Task 1, perform validation by varying\n",
    "the trade-off hyperparameter and select (3) the model with the highest accuracy, and (4) the\n",
    "model with the best fairness metric across 5 folds. After model selection, compute and report\n",
    "final accuracy and fairness for both models (3) and (4) on the test set."
   ]
  },
  {
   "cell_type": "markdown",
   "metadata": {
    "id": "fjmbewXAdrsb"
   },
   "source": [
    "## (3) Hyperparameter tuning using GridSearch: Re-weighing "
   ]
  },
  {
   "cell_type": "markdown",
   "metadata": {
    "id": "grgkMwxoeFt7"
   },
   "source": [
    "### Functions"
   ]
  },
  {
   "cell_type": "code",
   "execution_count": 33,
   "metadata": {
    "id": "z-eJPtt8ALlb"
   },
   "outputs": [],
   "source": [
    "#reweighing gridsearch function\n",
    "\n",
    "def rw_gridsearch (X, y, train,cvals):\n",
    "  #mitgating the bias\n",
    "  #assigning the new weights to the unprivileged and privileged groups, transform the dataset with reweighing\n",
    "  RW = Reweighing(unprivileged_groups=unprivileged_groups,\n",
    "                privileged_groups=privileged_groups)\n",
    "  #obtaining a set of weights for the training set\n",
    "  train = RW.fit_transform(train)\n",
    "  #training the model and using gridsearch, 5-fold cross validation\n",
    "  clf= GridSearchCV(LogisticRegression(solver = 'liblinear', random_state = 1), {'C':cvals}, cv=5)\n",
    "  #fitting to new weights\n",
    "  clf.fit(X,y,sample_weight=train.instance_weights)\n",
    "\n",
    "  #displaying the results\n",
    "  clf.cv_results_\n",
    "  print('Tuned hyperparameters : ',clf.best_params_, 'with accuracy of', clf.best_score_)\n",
    "\n",
    "  #showing the dataframe\n",
    "  df = pd.DataFrame(clf.cv_results_)\n",
    "  display(df[['params','mean_test_score' ]])\n",
    "\n",
    "  #plotting the results\n",
    "  xplt = np.array(cvals)\n",
    "  plt.figure(figsize = (10,6))\n",
    "  plt.plot(xplt, df['mean_test_score' ], color = 'purple')\n",
    "  font1 = {'family':'serif','color':'purple','size':13}\n",
    "  font2 = {'family':'serif','color':'purple','size':11}\n",
    "  plt.title('C Value vs Average', fontdict = font1)\n",
    "  plt.xlabel('C Value', fontdict = font2)\n",
    "  plt.ylabel('Average', fontdict = font2)\n",
    "  plt.show()"
   ]
  },
  {
   "cell_type": "markdown",
   "metadata": {
    "id": "IHKnYWH8d8S6"
   },
   "source": [
    "### Adult"
   ]
  },
  {
   "cell_type": "code",
   "execution_count": 34,
   "metadata": {
    "colab": {
     "base_uri": "https://localhost:8080/",
     "height": 642
    },
    "id": "eRTaFPT6Rhl3",
    "outputId": "dd167719-c457-4e2a-dba0-7575fbeea266"
   },
   "outputs": [
    {
     "name": "stdout",
     "output_type": "stream",
     "text": [
      "Tuned hyperparameters :  {'C': 0.05} with accuracy of 0.7884409465674679\n"
     ]
    },
    {
     "data": {
      "text/html": [
       "\n",
       "  <div id=\"df-79c820ba-2617-42df-8848-38f9816c13f8\">\n",
       "    <div class=\"colab-df-container\">\n",
       "      <div>\n",
       "<style scoped>\n",
       "    .dataframe tbody tr th:only-of-type {\n",
       "        vertical-align: middle;\n",
       "    }\n",
       "\n",
       "    .dataframe tbody tr th {\n",
       "        vertical-align: top;\n",
       "    }\n",
       "\n",
       "    .dataframe thead th {\n",
       "        text-align: right;\n",
       "    }\n",
       "</style>\n",
       "<table border=\"1\" class=\"dataframe\">\n",
       "  <thead>\n",
       "    <tr style=\"text-align: right;\">\n",
       "      <th></th>\n",
       "      <th>params</th>\n",
       "      <th>mean_test_score</th>\n",
       "    </tr>\n",
       "  </thead>\n",
       "  <tbody>\n",
       "    <tr>\n",
       "      <th>0</th>\n",
       "      <td>{'C': 0.005}</td>\n",
       "      <td>0.788382</td>\n",
       "    </tr>\n",
       "    <tr>\n",
       "      <th>1</th>\n",
       "      <td>{'C': 0.01}</td>\n",
       "      <td>0.787944</td>\n",
       "    </tr>\n",
       "    <tr>\n",
       "      <th>2</th>\n",
       "      <td>{'C': 0.05}</td>\n",
       "      <td>0.788441</td>\n",
       "    </tr>\n",
       "    <tr>\n",
       "      <th>3</th>\n",
       "      <td>{'C': 0.1}</td>\n",
       "      <td>0.788441</td>\n",
       "    </tr>\n",
       "    <tr>\n",
       "      <th>4</th>\n",
       "      <td>{'C': 0.5}</td>\n",
       "      <td>0.788441</td>\n",
       "    </tr>\n",
       "    <tr>\n",
       "      <th>5</th>\n",
       "      <td>{'C': 1}</td>\n",
       "      <td>0.788441</td>\n",
       "    </tr>\n",
       "  </tbody>\n",
       "</table>\n",
       "</div>\n",
       "      <button class=\"colab-df-convert\" onclick=\"convertToInteractive('df-79c820ba-2617-42df-8848-38f9816c13f8')\"\n",
       "              title=\"Convert this dataframe to an interactive table.\"\n",
       "              style=\"display:none;\">\n",
       "        \n",
       "  <svg xmlns=\"http://www.w3.org/2000/svg\" height=\"24px\"viewBox=\"0 0 24 24\"\n",
       "       width=\"24px\">\n",
       "    <path d=\"M0 0h24v24H0V0z\" fill=\"none\"/>\n",
       "    <path d=\"M18.56 5.44l.94 2.06.94-2.06 2.06-.94-2.06-.94-.94-2.06-.94 2.06-2.06.94zm-11 1L8.5 8.5l.94-2.06 2.06-.94-2.06-.94L8.5 2.5l-.94 2.06-2.06.94zm10 10l.94 2.06.94-2.06 2.06-.94-2.06-.94-.94-2.06-.94 2.06-2.06.94z\"/><path d=\"M17.41 7.96l-1.37-1.37c-.4-.4-.92-.59-1.43-.59-.52 0-1.04.2-1.43.59L10.3 9.45l-7.72 7.72c-.78.78-.78 2.05 0 2.83L4 21.41c.39.39.9.59 1.41.59.51 0 1.02-.2 1.41-.59l7.78-7.78 2.81-2.81c.8-.78.8-2.07 0-2.86zM5.41 20L4 18.59l7.72-7.72 1.47 1.35L5.41 20z\"/>\n",
       "  </svg>\n",
       "      </button>\n",
       "      \n",
       "  <style>\n",
       "    .colab-df-container {\n",
       "      display:flex;\n",
       "      flex-wrap:wrap;\n",
       "      gap: 12px;\n",
       "    }\n",
       "\n",
       "    .colab-df-convert {\n",
       "      background-color: #E8F0FE;\n",
       "      border: none;\n",
       "      border-radius: 50%;\n",
       "      cursor: pointer;\n",
       "      display: none;\n",
       "      fill: #1967D2;\n",
       "      height: 32px;\n",
       "      padding: 0 0 0 0;\n",
       "      width: 32px;\n",
       "    }\n",
       "\n",
       "    .colab-df-convert:hover {\n",
       "      background-color: #E2EBFA;\n",
       "      box-shadow: 0px 1px 2px rgba(60, 64, 67, 0.3), 0px 1px 3px 1px rgba(60, 64, 67, 0.15);\n",
       "      fill: #174EA6;\n",
       "    }\n",
       "\n",
       "    [theme=dark] .colab-df-convert {\n",
       "      background-color: #3B4455;\n",
       "      fill: #D2E3FC;\n",
       "    }\n",
       "\n",
       "    [theme=dark] .colab-df-convert:hover {\n",
       "      background-color: #434B5C;\n",
       "      box-shadow: 0px 1px 3px 1px rgba(0, 0, 0, 0.15);\n",
       "      filter: drop-shadow(0px 1px 2px rgba(0, 0, 0, 0.3));\n",
       "      fill: #FFFFFF;\n",
       "    }\n",
       "  </style>\n",
       "\n",
       "      <script>\n",
       "        const buttonEl =\n",
       "          document.querySelector('#df-79c820ba-2617-42df-8848-38f9816c13f8 button.colab-df-convert');\n",
       "        buttonEl.style.display =\n",
       "          google.colab.kernel.accessAllowed ? 'block' : 'none';\n",
       "\n",
       "        async function convertToInteractive(key) {\n",
       "          const element = document.querySelector('#df-79c820ba-2617-42df-8848-38f9816c13f8');\n",
       "          const dataTable =\n",
       "            await google.colab.kernel.invokeFunction('convertToInteractive',\n",
       "                                                     [key], {});\n",
       "          if (!dataTable) return;\n",
       "\n",
       "          const docLinkHtml = 'Like what you see? Visit the ' +\n",
       "            '<a target=\"_blank\" href=https://colab.research.google.com/notebooks/data_table.ipynb>data table notebook</a>'\n",
       "            + ' to learn more about interactive tables.';\n",
       "          element.innerHTML = '';\n",
       "          dataTable['output_type'] = 'display_data';\n",
       "          await google.colab.output.renderOutput(dataTable, element);\n",
       "          const docLink = document.createElement('div');\n",
       "          docLink.innerHTML = docLinkHtml;\n",
       "          element.appendChild(docLink);\n",
       "        }\n",
       "      </script>\n",
       "    </div>\n",
       "  </div>\n",
       "  "
      ],
      "text/plain": [
       "         params  mean_test_score\n",
       "0  {'C': 0.005}         0.788382\n",
       "1   {'C': 0.01}         0.787944\n",
       "2   {'C': 0.05}         0.788441\n",
       "3    {'C': 0.1}         0.788441\n",
       "4    {'C': 0.5}         0.788441\n",
       "5      {'C': 1}         0.788441"
      ]
     },
     "metadata": {},
     "output_type": "display_data"
    },
    {
     "data": {
      "image/png": "[encoded data removed]",
      "text/plain": [
       "<Figure size 720x432 with 1 Axes>"
      ]
     },
     "metadata": {
      "needs_background": "light"
     },
     "output_type": "display_data"
    }
   ],
   "source": [
    "#reweigh the adult dataset and perfrom gridsearch\n",
    "#on a broad range of c\n",
    "\n",
    "rw_gridsearch (X_train_a, y_train_a, a_train, c)"
   ]
  },
  {
   "cell_type": "code",
   "execution_count": 35,
   "metadata": {
    "colab": {
     "base_uri": "https://localhost:8080/",
     "height": 1000
    },
    "id": "r4Y24snGHph5",
    "outputId": "f7d24149-dd42-4ef1-d9d6-30d9ebe2699d"
   },
   "outputs": [
    {
     "name": "stdout",
     "output_type": "stream",
     "text": [
      "Tuned hyperparameters :  {'C': 0.001} with accuracy of 0.7891137006660291\n"
     ]
    },
    {
     "data": {
      "text/html": [
       "\n",
       "  <div id=\"df-a170ff64-f457-4315-b6a9-8b64720e9dbd\">\n",
       "    <div class=\"colab-df-container\">\n",
       "      <div>\n",
       "<style scoped>\n",
       "    .dataframe tbody tr th:only-of-type {\n",
       "        vertical-align: middle;\n",
       "    }\n",
       "\n",
       "    .dataframe tbody tr th {\n",
       "        vertical-align: top;\n",
       "    }\n",
       "\n",
       "    .dataframe thead th {\n",
       "        text-align: right;\n",
       "    }\n",
       "</style>\n",
       "<table border=\"1\" class=\"dataframe\">\n",
       "  <thead>\n",
       "    <tr style=\"text-align: right;\">\n",
       "      <th></th>\n",
       "      <th>params</th>\n",
       "      <th>mean_test_score</th>\n",
       "    </tr>\n",
       "  </thead>\n",
       "  <tbody>\n",
       "    <tr>\n",
       "      <th>0</th>\n",
       "      <td>{'C': 0.001}</td>\n",
       "      <td>0.789114</td>\n",
       "    </tr>\n",
       "    <tr>\n",
       "      <th>1</th>\n",
       "      <td>{'C': 0.003}</td>\n",
       "      <td>0.788704</td>\n",
       "    </tr>\n",
       "    <tr>\n",
       "      <th>2</th>\n",
       "      <td>{'C': 0.005}</td>\n",
       "      <td>0.788382</td>\n",
       "    </tr>\n",
       "    <tr>\n",
       "      <th>3</th>\n",
       "      <td>{'C': 0.007}</td>\n",
       "      <td>0.788382</td>\n",
       "    </tr>\n",
       "    <tr>\n",
       "      <th>4</th>\n",
       "      <td>{'C': 0.009000000000000001}</td>\n",
       "      <td>0.787944</td>\n",
       "    </tr>\n",
       "    <tr>\n",
       "      <th>5</th>\n",
       "      <td>{'C': 0.011}</td>\n",
       "      <td>0.788002</td>\n",
       "    </tr>\n",
       "    <tr>\n",
       "      <th>6</th>\n",
       "      <td>{'C': 0.013000000000000001}</td>\n",
       "      <td>0.788002</td>\n",
       "    </tr>\n",
       "    <tr>\n",
       "      <th>7</th>\n",
       "      <td>{'C': 0.015}</td>\n",
       "      <td>0.788441</td>\n",
       "    </tr>\n",
       "    <tr>\n",
       "      <th>8</th>\n",
       "      <td>{'C': 0.017}</td>\n",
       "      <td>0.788441</td>\n",
       "    </tr>\n",
       "    <tr>\n",
       "      <th>9</th>\n",
       "      <td>{'C': 0.019000000000000003}</td>\n",
       "      <td>0.788441</td>\n",
       "    </tr>\n",
       "    <tr>\n",
       "      <th>10</th>\n",
       "      <td>{'C': 0.021}</td>\n",
       "      <td>0.788441</td>\n",
       "    </tr>\n",
       "    <tr>\n",
       "      <th>11</th>\n",
       "      <td>{'C': 0.023}</td>\n",
       "      <td>0.788441</td>\n",
       "    </tr>\n",
       "    <tr>\n",
       "      <th>12</th>\n",
       "      <td>{'C': 0.025}</td>\n",
       "      <td>0.788441</td>\n",
       "    </tr>\n",
       "    <tr>\n",
       "      <th>13</th>\n",
       "      <td>{'C': 0.027000000000000003}</td>\n",
       "      <td>0.788441</td>\n",
       "    </tr>\n",
       "    <tr>\n",
       "      <th>14</th>\n",
       "      <td>{'C': 0.029}</td>\n",
       "      <td>0.788441</td>\n",
       "    </tr>\n",
       "    <tr>\n",
       "      <th>15</th>\n",
       "      <td>{'C': 0.031}</td>\n",
       "      <td>0.788441</td>\n",
       "    </tr>\n",
       "    <tr>\n",
       "      <th>16</th>\n",
       "      <td>{'C': 0.033}</td>\n",
       "      <td>0.788441</td>\n",
       "    </tr>\n",
       "    <tr>\n",
       "      <th>17</th>\n",
       "      <td>{'C': 0.035}</td>\n",
       "      <td>0.788441</td>\n",
       "    </tr>\n",
       "    <tr>\n",
       "      <th>18</th>\n",
       "      <td>{'C': 0.037000000000000005}</td>\n",
       "      <td>0.788441</td>\n",
       "    </tr>\n",
       "    <tr>\n",
       "      <th>19</th>\n",
       "      <td>{'C': 0.039}</td>\n",
       "      <td>0.788441</td>\n",
       "    </tr>\n",
       "    <tr>\n",
       "      <th>20</th>\n",
       "      <td>{'C': 0.041}</td>\n",
       "      <td>0.788441</td>\n",
       "    </tr>\n",
       "    <tr>\n",
       "      <th>21</th>\n",
       "      <td>{'C': 0.043000000000000003}</td>\n",
       "      <td>0.788441</td>\n",
       "    </tr>\n",
       "    <tr>\n",
       "      <th>22</th>\n",
       "      <td>{'C': 0.045}</td>\n",
       "      <td>0.788441</td>\n",
       "    </tr>\n",
       "    <tr>\n",
       "      <th>23</th>\n",
       "      <td>{'C': 0.047}</td>\n",
       "      <td>0.788441</td>\n",
       "    </tr>\n",
       "    <tr>\n",
       "      <th>24</th>\n",
       "      <td>{'C': 0.049}</td>\n",
       "      <td>0.788441</td>\n",
       "    </tr>\n",
       "    <tr>\n",
       "      <th>25</th>\n",
       "      <td>{'C': 0.051000000000000004}</td>\n",
       "      <td>0.788441</td>\n",
       "    </tr>\n",
       "    <tr>\n",
       "      <th>26</th>\n",
       "      <td>{'C': 0.053000000000000005}</td>\n",
       "      <td>0.788441</td>\n",
       "    </tr>\n",
       "    <tr>\n",
       "      <th>27</th>\n",
       "      <td>{'C': 0.055}</td>\n",
       "      <td>0.788441</td>\n",
       "    </tr>\n",
       "    <tr>\n",
       "      <th>28</th>\n",
       "      <td>{'C': 0.057}</td>\n",
       "      <td>0.788441</td>\n",
       "    </tr>\n",
       "    <tr>\n",
       "      <th>29</th>\n",
       "      <td>{'C': 0.059000000000000004}</td>\n",
       "      <td>0.788441</td>\n",
       "    </tr>\n",
       "    <tr>\n",
       "      <th>30</th>\n",
       "      <td>{'C': 0.061}</td>\n",
       "      <td>0.788441</td>\n",
       "    </tr>\n",
       "    <tr>\n",
       "      <th>31</th>\n",
       "      <td>{'C': 0.063}</td>\n",
       "      <td>0.788441</td>\n",
       "    </tr>\n",
       "    <tr>\n",
       "      <th>32</th>\n",
       "      <td>{'C': 0.065}</td>\n",
       "      <td>0.788441</td>\n",
       "    </tr>\n",
       "    <tr>\n",
       "      <th>33</th>\n",
       "      <td>{'C': 0.067}</td>\n",
       "      <td>0.788441</td>\n",
       "    </tr>\n",
       "    <tr>\n",
       "      <th>34</th>\n",
       "      <td>{'C': 0.069}</td>\n",
       "      <td>0.788441</td>\n",
       "    </tr>\n",
       "  </tbody>\n",
       "</table>\n",
       "</div>\n",
       "      <button class=\"colab-df-convert\" onclick=\"convertToInteractive('df-a170ff64-f457-4315-b6a9-8b64720e9dbd')\"\n",
       "              title=\"Convert this dataframe to an interactive table.\"\n",
       "              style=\"display:none;\">\n",
       "        \n",
       "  <svg xmlns=\"http://www.w3.org/2000/svg\" height=\"24px\"viewBox=\"0 0 24 24\"\n",
       "       width=\"24px\">\n",
       "    <path d=\"M0 0h24v24H0V0z\" fill=\"none\"/>\n",
       "    <path d=\"M18.56 5.44l.94 2.06.94-2.06 2.06-.94-2.06-.94-.94-2.06-.94 2.06-2.06.94zm-11 1L8.5 8.5l.94-2.06 2.06-.94-2.06-.94L8.5 2.5l-.94 2.06-2.06.94zm10 10l.94 2.06.94-2.06 2.06-.94-2.06-.94-.94-2.06-.94 2.06-2.06.94z\"/><path d=\"M17.41 7.96l-1.37-1.37c-.4-.4-.92-.59-1.43-.59-.52 0-1.04.2-1.43.59L10.3 9.45l-7.72 7.72c-.78.78-.78 2.05 0 2.83L4 21.41c.39.39.9.59 1.41.59.51 0 1.02-.2 1.41-.59l7.78-7.78 2.81-2.81c.8-.78.8-2.07 0-2.86zM5.41 20L4 18.59l7.72-7.72 1.47 1.35L5.41 20z\"/>\n",
       "  </svg>\n",
       "      </button>\n",
       "      \n",
       "  <style>\n",
       "    .colab-df-container {\n",
       "      display:flex;\n",
       "      flex-wrap:wrap;\n",
       "      gap: 12px;\n",
       "    }\n",
       "\n",
       "    .colab-df-convert {\n",
       "      background-color: #E8F0FE;\n",
       "      border: none;\n",
       "      border-radius: 50%;\n",
       "      cursor: pointer;\n",
       "      display: none;\n",
       "      fill: #1967D2;\n",
       "      height: 32px;\n",
       "      padding: 0 0 0 0;\n",
       "      width: 32px;\n",
       "    }\n",
       "\n",
       "    .colab-df-convert:hover {\n",
       "      background-color: #E2EBFA;\n",
       "      box-shadow: 0px 1px 2px rgba(60, 64, 67, 0.3), 0px 1px 3px 1px rgba(60, 64, 67, 0.15);\n",
       "      fill: #174EA6;\n",
       "    }\n",
       "\n",
       "    [theme=dark] .colab-df-convert {\n",
       "      background-color: #3B4455;\n",
       "      fill: #D2E3FC;\n",
       "    }\n",
       "\n",
       "    [theme=dark] .colab-df-convert:hover {\n",
       "      background-color: #434B5C;\n",
       "      box-shadow: 0px 1px 3px 1px rgba(0, 0, 0, 0.15);\n",
       "      filter: drop-shadow(0px 1px 2px rgba(0, 0, 0, 0.3));\n",
       "      fill: #FFFFFF;\n",
       "    }\n",
       "  </style>\n",
       "\n",
       "      <script>\n",
       "        const buttonEl =\n",
       "          document.querySelector('#df-a170ff64-f457-4315-b6a9-8b64720e9dbd button.colab-df-convert');\n",
       "        buttonEl.style.display =\n",
       "          google.colab.kernel.accessAllowed ? 'block' : 'none';\n",
       "\n",
       "        async function convertToInteractive(key) {\n",
       "          const element = document.querySelector('#df-a170ff64-f457-4315-b6a9-8b64720e9dbd');\n",
       "          const dataTable =\n",
       "            await google.colab.kernel.invokeFunction('convertToInteractive',\n",
       "                                                     [key], {});\n",
       "          if (!dataTable) return;\n",
       "\n",
       "          const docLinkHtml = 'Like what you see? Visit the ' +\n",
       "            '<a target=\"_blank\" href=https://colab.research.google.com/notebooks/data_table.ipynb>data table notebook</a>'\n",
       "            + ' to learn more about interactive tables.';\n",
       "          element.innerHTML = '';\n",
       "          dataTable['output_type'] = 'display_data';\n",
       "          await google.colab.output.renderOutput(dataTable, element);\n",
       "          const docLink = document.createElement('div');\n",
       "          docLink.innerHTML = docLinkHtml;\n",
       "          element.appendChild(docLink);\n",
       "        }\n",
       "      </script>\n",
       "    </div>\n",
       "  </div>\n",
       "  "
      ],
      "text/plain": [
       "                         params  mean_test_score\n",
       "0                  {'C': 0.001}         0.789114\n",
       "1                  {'C': 0.003}         0.788704\n",
       "2                  {'C': 0.005}         0.788382\n",
       "3                  {'C': 0.007}         0.788382\n",
       "4   {'C': 0.009000000000000001}         0.787944\n",
       "5                  {'C': 0.011}         0.788002\n",
       "6   {'C': 0.013000000000000001}         0.788002\n",
       "7                  {'C': 0.015}         0.788441\n",
       "8                  {'C': 0.017}         0.788441\n",
       "9   {'C': 0.019000000000000003}         0.788441\n",
       "10                 {'C': 0.021}         0.788441\n",
       "11                 {'C': 0.023}         0.788441\n",
       "12                 {'C': 0.025}         0.788441\n",
       "13  {'C': 0.027000000000000003}         0.788441\n",
       "14                 {'C': 0.029}         0.788441\n",
       "15                 {'C': 0.031}         0.788441\n",
       "16                 {'C': 0.033}         0.788441\n",
       "17                 {'C': 0.035}         0.788441\n",
       "18  {'C': 0.037000000000000005}         0.788441\n",
       "19                 {'C': 0.039}         0.788441\n",
       "20                 {'C': 0.041}         0.788441\n",
       "21  {'C': 0.043000000000000003}         0.788441\n",
       "22                 {'C': 0.045}         0.788441\n",
       "23                 {'C': 0.047}         0.788441\n",
       "24                 {'C': 0.049}         0.788441\n",
       "25  {'C': 0.051000000000000004}         0.788441\n",
       "26  {'C': 0.053000000000000005}         0.788441\n",
       "27                 {'C': 0.055}         0.788441\n",
       "28                 {'C': 0.057}         0.788441\n",
       "29  {'C': 0.059000000000000004}         0.788441\n",
       "30                 {'C': 0.061}         0.788441\n",
       "31                 {'C': 0.063}         0.788441\n",
       "32                 {'C': 0.065}         0.788441\n",
       "33                 {'C': 0.067}         0.788441\n",
       "34                 {'C': 0.069}         0.788441"
      ]
     },
     "metadata": {},
     "output_type": "display_data"
    },
    {
     "data": {
      "image/png": "[encoded data removed]",
      "text/plain": [
       "<Figure size 720x432 with 1 Axes>"
      ]
     },
     "metadata": {
      "needs_background": "light"
     },
     "output_type": "display_data"
    }
   ],
   "source": [
    "#refining into c more\n",
    "\n",
    "rw_gridsearch(X_train_a, y_train_a, a_train, np.arange(0.001, 0.07, 0.002))"
   ]
  },
  {
   "cell_type": "markdown",
   "metadata": {
    "id": "e3hEJaxNNitN"
   },
   "source": [
    "**Adult Dataset:** The hyperparameter for the highest accuracy (**0.7891**) is at **C: 0.001**\n"
   ]
  },
  {
   "cell_type": "markdown",
   "metadata": {
    "id": "xcf39qpqd-l7"
   },
   "source": [
    "### German"
   ]
  },
  {
   "cell_type": "code",
   "execution_count": 36,
   "metadata": {
    "colab": {
     "base_uri": "https://localhost:8080/",
     "height": 642
    },
    "id": "taQZAxknMY3q",
    "outputId": "1f468ec2-7dc4-4033-c50e-d6b1f8fb3c98"
   },
   "outputs": [
    {
     "name": "stdout",
     "output_type": "stream",
     "text": [
      "Tuned hyperparameters :  {'C': 0.5} with accuracy of 0.7128571428571429\n"
     ]
    },
    {
     "data": {
      "text/html": [
       "\n",
       "  <div id=\"df-68c735ef-f1ca-4edb-b921-72c67a47c2fe\">\n",
       "    <div class=\"colab-df-container\">\n",
       "      <div>\n",
       "<style scoped>\n",
       "    .dataframe tbody tr th:only-of-type {\n",
       "        vertical-align: middle;\n",
       "    }\n",
       "\n",
       "    .dataframe tbody tr th {\n",
       "        vertical-align: top;\n",
       "    }\n",
       "\n",
       "    .dataframe thead th {\n",
       "        text-align: right;\n",
       "    }\n",
       "</style>\n",
       "<table border=\"1\" class=\"dataframe\">\n",
       "  <thead>\n",
       "    <tr style=\"text-align: right;\">\n",
       "      <th></th>\n",
       "      <th>params</th>\n",
       "      <th>mean_test_score</th>\n",
       "    </tr>\n",
       "  </thead>\n",
       "  <tbody>\n",
       "    <tr>\n",
       "      <th>0</th>\n",
       "      <td>{'C': 0.005}</td>\n",
       "      <td>0.711429</td>\n",
       "    </tr>\n",
       "    <tr>\n",
       "      <th>1</th>\n",
       "      <td>{'C': 0.01}</td>\n",
       "      <td>0.705714</td>\n",
       "    </tr>\n",
       "    <tr>\n",
       "      <th>2</th>\n",
       "      <td>{'C': 0.05}</td>\n",
       "      <td>0.708571</td>\n",
       "    </tr>\n",
       "    <tr>\n",
       "      <th>3</th>\n",
       "      <td>{'C': 0.1}</td>\n",
       "      <td>0.710000</td>\n",
       "    </tr>\n",
       "    <tr>\n",
       "      <th>4</th>\n",
       "      <td>{'C': 0.5}</td>\n",
       "      <td>0.712857</td>\n",
       "    </tr>\n",
       "    <tr>\n",
       "      <th>5</th>\n",
       "      <td>{'C': 1}</td>\n",
       "      <td>0.712857</td>\n",
       "    </tr>\n",
       "  </tbody>\n",
       "</table>\n",
       "</div>\n",
       "      <button class=\"colab-df-convert\" onclick=\"convertToInteractive('df-68c735ef-f1ca-4edb-b921-72c67a47c2fe')\"\n",
       "              title=\"Convert this dataframe to an interactive table.\"\n",
       "              style=\"display:none;\">\n",
       "        \n",
       "  <svg xmlns=\"http://www.w3.org/2000/svg\" height=\"24px\"viewBox=\"0 0 24 24\"\n",
       "       width=\"24px\">\n",
       "    <path d=\"M0 0h24v24H0V0z\" fill=\"none\"/>\n",
       "    <path d=\"M18.56 5.44l.94 2.06.94-2.06 2.06-.94-2.06-.94-.94-2.06-.94 2.06-2.06.94zm-11 1L8.5 8.5l.94-2.06 2.06-.94-2.06-.94L8.5 2.5l-.94 2.06-2.06.94zm10 10l.94 2.06.94-2.06 2.06-.94-2.06-.94-.94-2.06-.94 2.06-2.06.94z\"/><path d=\"M17.41 7.96l-1.37-1.37c-.4-.4-.92-.59-1.43-.59-.52 0-1.04.2-1.43.59L10.3 9.45l-7.72 7.72c-.78.78-.78 2.05 0 2.83L4 21.41c.39.39.9.59 1.41.59.51 0 1.02-.2 1.41-.59l7.78-7.78 2.81-2.81c.8-.78.8-2.07 0-2.86zM5.41 20L4 18.59l7.72-7.72 1.47 1.35L5.41 20z\"/>\n",
       "  </svg>\n",
       "      </button>\n",
       "      \n",
       "  <style>\n",
       "    .colab-df-container {\n",
       "      display:flex;\n",
       "      flex-wrap:wrap;\n",
       "      gap: 12px;\n",
       "    }\n",
       "\n",
       "    .colab-df-convert {\n",
       "      background-color: #E8F0FE;\n",
       "      border: none;\n",
       "      border-radius: 50%;\n",
       "      cursor: pointer;\n",
       "      display: none;\n",
       "      fill: #1967D2;\n",
       "      height: 32px;\n",
       "      padding: 0 0 0 0;\n",
       "      width: 32px;\n",
       "    }\n",
       "\n",
       "    .colab-df-convert:hover {\n",
       "      background-color: #E2EBFA;\n",
       "      box-shadow: 0px 1px 2px rgba(60, 64, 67, 0.3), 0px 1px 3px 1px rgba(60, 64, 67, 0.15);\n",
       "      fill: #174EA6;\n",
       "    }\n",
       "\n",
       "    [theme=dark] .colab-df-convert {\n",
       "      background-color: #3B4455;\n",
       "      fill: #D2E3FC;\n",
       "    }\n",
       "\n",
       "    [theme=dark] .colab-df-convert:hover {\n",
       "      background-color: #434B5C;\n",
       "      box-shadow: 0px 1px 3px 1px rgba(0, 0, 0, 0.15);\n",
       "      filter: drop-shadow(0px 1px 2px rgba(0, 0, 0, 0.3));\n",
       "      fill: #FFFFFF;\n",
       "    }\n",
       "  </style>\n",
       "\n",
       "      <script>\n",
       "        const buttonEl =\n",
       "          document.querySelector('#df-68c735ef-f1ca-4edb-b921-72c67a47c2fe button.colab-df-convert');\n",
       "        buttonEl.style.display =\n",
       "          google.colab.kernel.accessAllowed ? 'block' : 'none';\n",
       "\n",
       "        async function convertToInteractive(key) {\n",
       "          const element = document.querySelector('#df-68c735ef-f1ca-4edb-b921-72c67a47c2fe');\n",
       "          const dataTable =\n",
       "            await google.colab.kernel.invokeFunction('convertToInteractive',\n",
       "                                                     [key], {});\n",
       "          if (!dataTable) return;\n",
       "\n",
       "          const docLinkHtml = 'Like what you see? Visit the ' +\n",
       "            '<a target=\"_blank\" href=https://colab.research.google.com/notebooks/data_table.ipynb>data table notebook</a>'\n",
       "            + ' to learn more about interactive tables.';\n",
       "          element.innerHTML = '';\n",
       "          dataTable['output_type'] = 'display_data';\n",
       "          await google.colab.output.renderOutput(dataTable, element);\n",
       "          const docLink = document.createElement('div');\n",
       "          docLink.innerHTML = docLinkHtml;\n",
       "          element.appendChild(docLink);\n",
       "        }\n",
       "      </script>\n",
       "    </div>\n",
       "  </div>\n",
       "  "
      ],
      "text/plain": [
       "         params  mean_test_score\n",
       "0  {'C': 0.005}         0.711429\n",
       "1   {'C': 0.01}         0.705714\n",
       "2   {'C': 0.05}         0.708571\n",
       "3    {'C': 0.1}         0.710000\n",
       "4    {'C': 0.5}         0.712857\n",
       "5      {'C': 1}         0.712857"
      ]
     },
     "metadata": {},
     "output_type": "display_data"
    },
    {
     "data": {
      "image/png": "[encoded data removed]",
      "text/plain": [
       "<Figure size 720x432 with 1 Axes>"
      ]
     },
     "metadata": {
      "needs_background": "light"
     },
     "output_type": "display_data"
    }
   ],
   "source": [
    "#reweigh the german dataset and perfrom gridsearch\n",
    "#on a broad range of c\n",
    "\n",
    "rw_gridsearch (X_train_g, y_train_g, g_train, c)"
   ]
  },
  {
   "cell_type": "markdown",
   "metadata": {
    "id": "jpDXl2YKI9Ul"
   },
   "source": [
    "Expanding the C values"
   ]
  },
  {
   "cell_type": "code",
   "execution_count": 37,
   "metadata": {
    "colab": {
     "base_uri": "https://localhost:8080/",
     "height": 828
    },
    "id": "6p6PSGjlMTbj",
    "outputId": "f09c33b6-2bc3-4e7d-f90a-f86615e3fc35"
   },
   "outputs": [
    {
     "name": "stdout",
     "output_type": "stream",
     "text": [
      "Tuned hyperparameters :  {'C': 0.10999999999999997} with accuracy of 0.7128571428571429\n"
     ]
    },
    {
     "data": {
      "text/html": [
       "\n",
       "  <div id=\"df-dd27ad51-a3de-4bd7-826f-3e07a73dda16\">\n",
       "    <div class=\"colab-df-container\">\n",
       "      <div>\n",
       "<style scoped>\n",
       "    .dataframe tbody tr th:only-of-type {\n",
       "        vertical-align: middle;\n",
       "    }\n",
       "\n",
       "    .dataframe tbody tr th {\n",
       "        vertical-align: top;\n",
       "    }\n",
       "\n",
       "    .dataframe thead th {\n",
       "        text-align: right;\n",
       "    }\n",
       "</style>\n",
       "<table border=\"1\" class=\"dataframe\">\n",
       "  <thead>\n",
       "    <tr style=\"text-align: right;\">\n",
       "      <th></th>\n",
       "      <th>params</th>\n",
       "      <th>mean_test_score</th>\n",
       "    </tr>\n",
       "  </thead>\n",
       "  <tbody>\n",
       "    <tr>\n",
       "      <th>0</th>\n",
       "      <td>{'C': 0.01}</td>\n",
       "      <td>0.705714</td>\n",
       "    </tr>\n",
       "    <tr>\n",
       "      <th>1</th>\n",
       "      <td>{'C': 0.015}</td>\n",
       "      <td>0.710000</td>\n",
       "    </tr>\n",
       "    <tr>\n",
       "      <th>2</th>\n",
       "      <td>{'C': 0.019999999999999997}</td>\n",
       "      <td>0.710000</td>\n",
       "    </tr>\n",
       "    <tr>\n",
       "      <th>3</th>\n",
       "      <td>{'C': 0.024999999999999998}</td>\n",
       "      <td>0.707143</td>\n",
       "    </tr>\n",
       "    <tr>\n",
       "      <th>4</th>\n",
       "      <td>{'C': 0.03}</td>\n",
       "      <td>0.704286</td>\n",
       "    </tr>\n",
       "    <tr>\n",
       "      <th>...</th>\n",
       "      <td>...</td>\n",
       "      <td>...</td>\n",
       "    </tr>\n",
       "    <tr>\n",
       "      <th>193</th>\n",
       "      <td>{'C': 0.9749999999999999}</td>\n",
       "      <td>0.712857</td>\n",
       "    </tr>\n",
       "    <tr>\n",
       "      <th>194</th>\n",
       "      <td>{'C': 0.9799999999999999}</td>\n",
       "      <td>0.712857</td>\n",
       "    </tr>\n",
       "    <tr>\n",
       "      <th>195</th>\n",
       "      <td>{'C': 0.9849999999999999}</td>\n",
       "      <td>0.712857</td>\n",
       "    </tr>\n",
       "    <tr>\n",
       "      <th>196</th>\n",
       "      <td>{'C': 0.9899999999999999}</td>\n",
       "      <td>0.712857</td>\n",
       "    </tr>\n",
       "    <tr>\n",
       "      <th>197</th>\n",
       "      <td>{'C': 0.9949999999999999}</td>\n",
       "      <td>0.712857</td>\n",
       "    </tr>\n",
       "  </tbody>\n",
       "</table>\n",
       "<p>198 rows × 2 columns</p>\n",
       "</div>\n",
       "      <button class=\"colab-df-convert\" onclick=\"convertToInteractive('df-dd27ad51-a3de-4bd7-826f-3e07a73dda16')\"\n",
       "              title=\"Convert this dataframe to an interactive table.\"\n",
       "              style=\"display:none;\">\n",
       "        \n",
       "  <svg xmlns=\"http://www.w3.org/2000/svg\" height=\"24px\"viewBox=\"0 0 24 24\"\n",
       "       width=\"24px\">\n",
       "    <path d=\"M0 0h24v24H0V0z\" fill=\"none\"/>\n",
       "    <path d=\"M18.56 5.44l.94 2.06.94-2.06 2.06-.94-2.06-.94-.94-2.06-.94 2.06-2.06.94zm-11 1L8.5 8.5l.94-2.06 2.06-.94-2.06-.94L8.5 2.5l-.94 2.06-2.06.94zm10 10l.94 2.06.94-2.06 2.06-.94-2.06-.94-.94-2.06-.94 2.06-2.06.94z\"/><path d=\"M17.41 7.96l-1.37-1.37c-.4-.4-.92-.59-1.43-.59-.52 0-1.04.2-1.43.59L10.3 9.45l-7.72 7.72c-.78.78-.78 2.05 0 2.83L4 21.41c.39.39.9.59 1.41.59.51 0 1.02-.2 1.41-.59l7.78-7.78 2.81-2.81c.8-.78.8-2.07 0-2.86zM5.41 20L4 18.59l7.72-7.72 1.47 1.35L5.41 20z\"/>\n",
       "  </svg>\n",
       "      </button>\n",
       "      \n",
       "  <style>\n",
       "    .colab-df-container {\n",
       "      display:flex;\n",
       "      flex-wrap:wrap;\n",
       "      gap: 12px;\n",
       "    }\n",
       "\n",
       "    .colab-df-convert {\n",
       "      background-color: #E8F0FE;\n",
       "      border: none;\n",
       "      border-radius: 50%;\n",
       "      cursor: pointer;\n",
       "      display: none;\n",
       "      fill: #1967D2;\n",
       "      height: 32px;\n",
       "      padding: 0 0 0 0;\n",
       "      width: 32px;\n",
       "    }\n",
       "\n",
       "    .colab-df-convert:hover {\n",
       "      background-color: #E2EBFA;\n",
       "      box-shadow: 0px 1px 2px rgba(60, 64, 67, 0.3), 0px 1px 3px 1px rgba(60, 64, 67, 0.15);\n",
       "      fill: #174EA6;\n",
       "    }\n",
       "\n",
       "    [theme=dark] .colab-df-convert {\n",
       "      background-color: #3B4455;\n",
       "      fill: #D2E3FC;\n",
       "    }\n",
       "\n",
       "    [theme=dark] .colab-df-convert:hover {\n",
       "      background-color: #434B5C;\n",
       "      box-shadow: 0px 1px 3px 1px rgba(0, 0, 0, 0.15);\n",
       "      filter: drop-shadow(0px 1px 2px rgba(0, 0, 0, 0.3));\n",
       "      fill: #FFFFFF;\n",
       "    }\n",
       "  </style>\n",
       "\n",
       "      <script>\n",
       "        const buttonEl =\n",
       "          document.querySelector('#df-dd27ad51-a3de-4bd7-826f-3e07a73dda16 button.colab-df-convert');\n",
       "        buttonEl.style.display =\n",
       "          google.colab.kernel.accessAllowed ? 'block' : 'none';\n",
       "\n",
       "        async function convertToInteractive(key) {\n",
       "          const element = document.querySelector('#df-dd27ad51-a3de-4bd7-826f-3e07a73dda16');\n",
       "          const dataTable =\n",
       "            await google.colab.kernel.invokeFunction('convertToInteractive',\n",
       "                                                     [key], {});\n",
       "          if (!dataTable) return;\n",
       "\n",
       "          const docLinkHtml = 'Like what you see? Visit the ' +\n",
       "            '<a target=\"_blank\" href=https://colab.research.google.com/notebooks/data_table.ipynb>data table notebook</a>'\n",
       "            + ' to learn more about interactive tables.';\n",
       "          element.innerHTML = '';\n",
       "          dataTable['output_type'] = 'display_data';\n",
       "          await google.colab.output.renderOutput(dataTable, element);\n",
       "          const docLink = document.createElement('div');\n",
       "          docLink.innerHTML = docLinkHtml;\n",
       "          element.appendChild(docLink);\n",
       "        }\n",
       "      </script>\n",
       "    </div>\n",
       "  </div>\n",
       "  "
      ],
      "text/plain": [
       "                          params  mean_test_score\n",
       "0                    {'C': 0.01}         0.705714\n",
       "1                   {'C': 0.015}         0.710000\n",
       "2    {'C': 0.019999999999999997}         0.710000\n",
       "3    {'C': 0.024999999999999998}         0.707143\n",
       "4                    {'C': 0.03}         0.704286\n",
       "..                           ...              ...\n",
       "193    {'C': 0.9749999999999999}         0.712857\n",
       "194    {'C': 0.9799999999999999}         0.712857\n",
       "195    {'C': 0.9849999999999999}         0.712857\n",
       "196    {'C': 0.9899999999999999}         0.712857\n",
       "197    {'C': 0.9949999999999999}         0.712857\n",
       "\n",
       "[198 rows x 2 columns]"
      ]
     },
     "metadata": {},
     "output_type": "display_data"
    },
    {
     "data": {
      "image/png": "[encoded data removed]",
      "text/plain": [
       "<Figure size 720x432 with 1 Axes>"
      ]
     },
     "metadata": {
      "needs_background": "light"
     },
     "output_type": "display_data"
    }
   ],
   "source": [
    "#refining into c more\n",
    "\n",
    "rw_gridsearch (X_train_g, y_train_g, g_train, np.arange(0.01, 1, 0.005))"
   ]
  },
  {
   "cell_type": "markdown",
   "metadata": {
    "id": "tQICGNV_Ow8z"
   },
   "source": [
    "**German Dataset:** The hyperparameter for the highest accuracy (**0.7129**) is at **C: 0.12**"
   ]
  },
  {
   "cell_type": "markdown",
   "metadata": {
    "id": "JaIUVlgweh6M"
   },
   "source": [
    "## (4) Equality of Opportunity Fairness Metrics: Re-weighing "
   ]
  },
  {
   "cell_type": "markdown",
   "metadata": {
    "id": "vjHus-3de7-L"
   },
   "source": [
    "### Functions"
   ]
  },
  {
   "cell_type": "code",
   "execution_count": 38,
   "metadata": {
    "id": "XDJwWwEdRN1_"
   },
   "outputs": [],
   "source": [
    "def cv_rw_fairness(X_train, y_train, train, cval):\n",
    "  c_values = cval\n",
    "  #empty lists\n",
    "  acc_scores = []\n",
    "  fairness = []\n",
    "  equ_opp = []\n",
    "  avg_acc_scores = []\n",
    "\n",
    "  #mitgating the bias\n",
    "  #assigning the new weights to the unprivileged and privileged groups, transform the dataset with reweighing\n",
    "  RW = Reweighing(unprivileged_groups=unprivileged_groups,\n",
    "                privileged_groups=privileged_groups)\n",
    "  #obtaining a set of weights for the training set\n",
    "  train = RW.fit_transform(train)\n",
    "\n",
    "  \n",
    "  for i in c_values:\n",
    "    clf = LogisticRegression(solver = 'liblinear', C=i, random_state = 1)\n",
    "\n",
    "    #accuracy score with cross val score\n",
    "    #as reweighed, set params to 'sample weight': train.instance_weights\n",
    "    score = cross_val_score(clf, X_train, y_train, cv = 5, fit_params={'sample_weight': train.instance_weights}) #cv = 5 means 5 fold cross validation\n",
    "    #fairness predictions with cross val predict\n",
    "    #generates cross-validated estimates for each input data point\n",
    "    fairness = cross_val_predict(clf, X_train, y_train, cv = 5, fit_params={'sample_weight': train.instance_weights}) #cv = 5 means 5 fold cross validation\n",
    "    test_pred = train.copy()\n",
    "    #get the fair prediction labels\n",
    "    test_pred.labels = fairness\n",
    "\n",
    "    #defining our metric\n",
    "    metric = ClassificationMetric(train, test_pred, unprivileged_groups=unprivileged_groups, privileged_groups=privileged_groups)\n",
    "\n",
    "    #equality of opportunity score\n",
    "    equ_opp.append(metric.equal_opportunity_difference())\n",
    "\n",
    "    #average score\n",
    "    avg_acc = np.mean(score)\n",
    "    avg_acc_scores.append(np.mean(score))\n",
    "\n",
    "  \n",
    "  #defining the best \n",
    "  equal_opp_best = min(equ_opp, key= abs)\n",
    "  best_c = equ_opp.index(equal_opp_best)\n",
    "\n",
    "  #best average score\n",
    "  best_acc_c = avg_acc_scores.index(max(avg_acc_scores))\n",
    "  \n",
    "  #reporting the results with the best c value\n",
    "  print('Best accuracy score is at C: ', c_values[best_acc_c], 'with accuracy score of', max(avg_acc_scores))\n",
    "  print('Best Equality of Opportunity score is at C:',c_values[best_c],  'with score' ,equal_opp_best)\n",
    "\n",
    "  #reporting the results in a dataframe\n",
    "  df = pd.DataFrame({'C': c_values, \n",
    "                  'Accuracy' :avg_acc_scores,\n",
    "                  'Equality of Opportunity': equ_opp})\n",
    "  \n",
    "  #plotting results\n",
    "  xplt = np.array(cval)\n",
    "  plt.figure(figsize = (10,6))\n",
    "  plt.plot(xplt, df['Equality of Opportunity'], color = 'darkorange')\n",
    "  font1 = {'family':'serif','color':'darkorange','size':13}\n",
    "  font2 = {'family':'serif','color':'darkorange','size':11}\n",
    "  plt.title('Reweighing: Equality of Opportunity Hyperparameter tuning', fontdict = font1)\n",
    "  plt.xlabel('C Value', fontdict = font2)\n",
    "  plt.ylabel('Equality of Opportunity', fontdict = font2)\n",
    "  plt.show()\n",
    "  return(df)\n",
    "\n",
    "\n"
   ]
  },
  {
   "cell_type": "markdown",
   "metadata": {
    "id": "96XCFv51fAEb"
   },
   "source": [
    "### Adult"
   ]
  },
  {
   "cell_type": "code",
   "execution_count": 39,
   "metadata": {
    "colab": {
     "base_uri": "https://localhost:8080/",
     "height": 439
    },
    "id": "p5tM6IFJUrUK",
    "outputId": "99af223b-b147-43a4-c74e-0f6e881a5c4f"
   },
   "outputs": [
    {
     "name": "stdout",
     "output_type": "stream",
     "text": [
      "Best accuracy score is at C:  0.001 with accuracy score of 0.7891137006660291\n",
      "Best Equality of Opportunity score is at C: 0.003 with score -0.008177456922513315\n"
     ]
    },
    {
     "data": {
      "image/png": "[encoded data removed]",
      "text/plain": [
       "<Figure size 720x432 with 1 Axes>"
      ]
     },
     "metadata": {
      "needs_background": "light"
     },
     "output_type": "display_data"
    }
   ],
   "source": [
    "#reweighted cross fold on adults dataset with refined c\n",
    "\n",
    "dfa3 = cv_rw_fairness(X_train_a, y_train_a, a_train, a)"
   ]
  },
  {
   "cell_type": "markdown",
   "metadata": {
    "id": "EfFY5dWbT9-E"
   },
   "source": [
    "**Adult Dataset:** (Re-weighing) The hyperparameter for the best *Equality of Opportunity* is at **C: 0.003** with a score of **-0.008017**"
   ]
  },
  {
   "cell_type": "code",
   "execution_count": 40,
   "metadata": {
    "colab": {
     "base_uri": "https://localhost:8080/",
     "height": 1000
    },
    "id": "s9I6XbzyR80W",
    "outputId": "6d72aed7-7923-4425-8f98-78a49b6a9d0d"
   },
   "outputs": [
    {
     "data": {
      "text/html": [
       "<style type=\"text/css\">\n",
       "#T_672bb_row0_col0, #T_672bb_row0_col1, #T_672bb_row0_col2, #T_672bb_row2_col0, #T_672bb_row2_col1, #T_672bb_row2_col2, #T_672bb_row3_col0, #T_672bb_row3_col1, #T_672bb_row3_col2, #T_672bb_row4_col0, #T_672bb_row4_col1, #T_672bb_row4_col2, #T_672bb_row5_col0, #T_672bb_row5_col1, #T_672bb_row5_col2, #T_672bb_row6_col0, #T_672bb_row6_col1, #T_672bb_row6_col2, #T_672bb_row7_col0, #T_672bb_row7_col1, #T_672bb_row7_col2, #T_672bb_row8_col0, #T_672bb_row8_col1, #T_672bb_row8_col2, #T_672bb_row9_col0, #T_672bb_row9_col1, #T_672bb_row9_col2, #T_672bb_row10_col0, #T_672bb_row10_col1, #T_672bb_row10_col2, #T_672bb_row11_col0, #T_672bb_row11_col1, #T_672bb_row11_col2, #T_672bb_row12_col0, #T_672bb_row12_col1, #T_672bb_row12_col2, #T_672bb_row13_col0, #T_672bb_row13_col1, #T_672bb_row13_col2, #T_672bb_row14_col0, #T_672bb_row14_col1, #T_672bb_row14_col2, #T_672bb_row15_col0, #T_672bb_row15_col1, #T_672bb_row15_col2, #T_672bb_row16_col0, #T_672bb_row16_col1, #T_672bb_row16_col2, #T_672bb_row17_col0, #T_672bb_row17_col1, #T_672bb_row17_col2, #T_672bb_row18_col0, #T_672bb_row18_col1, #T_672bb_row18_col2, #T_672bb_row19_col0, #T_672bb_row19_col1, #T_672bb_row19_col2, #T_672bb_row20_col0, #T_672bb_row20_col1, #T_672bb_row20_col2, #T_672bb_row21_col0, #T_672bb_row21_col1, #T_672bb_row21_col2, #T_672bb_row22_col0, #T_672bb_row22_col1, #T_672bb_row22_col2, #T_672bb_row23_col0, #T_672bb_row23_col1, #T_672bb_row23_col2, #T_672bb_row24_col0, #T_672bb_row24_col1, #T_672bb_row24_col2, #T_672bb_row25_col0, #T_672bb_row25_col1, #T_672bb_row25_col2, #T_672bb_row26_col0, #T_672bb_row26_col1, #T_672bb_row26_col2, #T_672bb_row27_col0, #T_672bb_row27_col1, #T_672bb_row27_col2, #T_672bb_row28_col0, #T_672bb_row28_col1, #T_672bb_row28_col2, #T_672bb_row29_col0, #T_672bb_row29_col1, #T_672bb_row29_col2, #T_672bb_row30_col0, #T_672bb_row30_col1, #T_672bb_row30_col2, #T_672bb_row31_col0, #T_672bb_row31_col1, #T_672bb_row31_col2, #T_672bb_row32_col0, #T_672bb_row32_col1, #T_672bb_row32_col2, #T_672bb_row33_col0, #T_672bb_row33_col1, #T_672bb_row33_col2, #T_672bb_row34_col0, #T_672bb_row34_col1, #T_672bb_row34_col2 {\n",
       "  background-color: white;\n",
       "}\n",
       "#T_672bb_row1_col0, #T_672bb_row1_col1, #T_672bb_row1_col2 {\n",
       "  background-color: orange;\n",
       "}\n",
       "</style>\n",
       "<table id=\"T_672bb_\" class=\"dataframe\">\n",
       "  <thead>\n",
       "    <tr>\n",
       "      <th class=\"blank level0\" >&nbsp;</th>\n",
       "      <th class=\"col_heading level0 col0\" >C</th>\n",
       "      <th class=\"col_heading level0 col1\" >Accuracy</th>\n",
       "      <th class=\"col_heading level0 col2\" >Equality of Opportunity</th>\n",
       "    </tr>\n",
       "  </thead>\n",
       "  <tbody>\n",
       "    <tr>\n",
       "      <th id=\"T_672bb_level0_row0\" class=\"row_heading level0 row0\" >0</th>\n",
       "      <td id=\"T_672bb_row0_col0\" class=\"data row0 col0\" >0.001000</td>\n",
       "      <td id=\"T_672bb_row0_col1\" class=\"data row0 col1\" >0.789114</td>\n",
       "      <td id=\"T_672bb_row0_col2\" class=\"data row0 col2\" >-0.012217</td>\n",
       "    </tr>\n",
       "    <tr>\n",
       "      <th id=\"T_672bb_level0_row1\" class=\"row_heading level0 row1\" >1</th>\n",
       "      <td id=\"T_672bb_row1_col0\" class=\"data row1 col0\" >0.003000</td>\n",
       "      <td id=\"T_672bb_row1_col1\" class=\"data row1 col1\" >0.788704</td>\n",
       "      <td id=\"T_672bb_row1_col2\" class=\"data row1 col2\" >-0.008177</td>\n",
       "    </tr>\n",
       "    <tr>\n",
       "      <th id=\"T_672bb_level0_row2\" class=\"row_heading level0 row2\" >2</th>\n",
       "      <td id=\"T_672bb_row2_col0\" class=\"data row2 col0\" >0.005000</td>\n",
       "      <td id=\"T_672bb_row2_col1\" class=\"data row2 col1\" >0.788382</td>\n",
       "      <td id=\"T_672bb_row2_col2\" class=\"data row2 col2\" >-0.017528</td>\n",
       "    </tr>\n",
       "    <tr>\n",
       "      <th id=\"T_672bb_level0_row3\" class=\"row_heading level0 row3\" >3</th>\n",
       "      <td id=\"T_672bb_row3_col0\" class=\"data row3 col0\" >0.007000</td>\n",
       "      <td id=\"T_672bb_row3_col1\" class=\"data row3 col1\" >0.788382</td>\n",
       "      <td id=\"T_672bb_row3_col2\" class=\"data row3 col2\" >-0.017528</td>\n",
       "    </tr>\n",
       "    <tr>\n",
       "      <th id=\"T_672bb_level0_row4\" class=\"row_heading level0 row4\" >4</th>\n",
       "      <td id=\"T_672bb_row4_col0\" class=\"data row4 col0\" >0.009000</td>\n",
       "      <td id=\"T_672bb_row4_col1\" class=\"data row4 col1\" >0.787944</td>\n",
       "      <td id=\"T_672bb_row4_col2\" class=\"data row4 col2\" >-0.011181</td>\n",
       "    </tr>\n",
       "    <tr>\n",
       "      <th id=\"T_672bb_level0_row5\" class=\"row_heading level0 row5\" >5</th>\n",
       "      <td id=\"T_672bb_row5_col0\" class=\"data row5 col0\" >0.011000</td>\n",
       "      <td id=\"T_672bb_row5_col1\" class=\"data row5 col1\" >0.788002</td>\n",
       "      <td id=\"T_672bb_row5_col2\" class=\"data row5 col2\" >-0.018480</td>\n",
       "    </tr>\n",
       "    <tr>\n",
       "      <th id=\"T_672bb_level0_row6\" class=\"row_heading level0 row6\" >6</th>\n",
       "      <td id=\"T_672bb_row6_col0\" class=\"data row6 col0\" >0.013000</td>\n",
       "      <td id=\"T_672bb_row6_col1\" class=\"data row6 col1\" >0.788002</td>\n",
       "      <td id=\"T_672bb_row6_col2\" class=\"data row6 col2\" >-0.018480</td>\n",
       "    </tr>\n",
       "    <tr>\n",
       "      <th id=\"T_672bb_level0_row7\" class=\"row_heading level0 row7\" >7</th>\n",
       "      <td id=\"T_672bb_row7_col0\" class=\"data row7 col0\" >0.015000</td>\n",
       "      <td id=\"T_672bb_row7_col1\" class=\"data row7 col1\" >0.788441</td>\n",
       "      <td id=\"T_672bb_row7_col2\" class=\"data row7 col2\" >-0.024968</td>\n",
       "    </tr>\n",
       "    <tr>\n",
       "      <th id=\"T_672bb_level0_row8\" class=\"row_heading level0 row8\" >8</th>\n",
       "      <td id=\"T_672bb_row8_col0\" class=\"data row8 col0\" >0.017000</td>\n",
       "      <td id=\"T_672bb_row8_col1\" class=\"data row8 col1\" >0.788441</td>\n",
       "      <td id=\"T_672bb_row8_col2\" class=\"data row8 col2\" >-0.024968</td>\n",
       "    </tr>\n",
       "    <tr>\n",
       "      <th id=\"T_672bb_level0_row9\" class=\"row_heading level0 row9\" >9</th>\n",
       "      <td id=\"T_672bb_row9_col0\" class=\"data row9 col0\" >0.019000</td>\n",
       "      <td id=\"T_672bb_row9_col1\" class=\"data row9 col1\" >0.788441</td>\n",
       "      <td id=\"T_672bb_row9_col2\" class=\"data row9 col2\" >-0.024968</td>\n",
       "    </tr>\n",
       "    <tr>\n",
       "      <th id=\"T_672bb_level0_row10\" class=\"row_heading level0 row10\" >10</th>\n",
       "      <td id=\"T_672bb_row10_col0\" class=\"data row10 col0\" >0.021000</td>\n",
       "      <td id=\"T_672bb_row10_col1\" class=\"data row10 col1\" >0.788441</td>\n",
       "      <td id=\"T_672bb_row10_col2\" class=\"data row10 col2\" >-0.024968</td>\n",
       "    </tr>\n",
       "    <tr>\n",
       "      <th id=\"T_672bb_level0_row11\" class=\"row_heading level0 row11\" >11</th>\n",
       "      <td id=\"T_672bb_row11_col0\" class=\"data row11 col0\" >0.023000</td>\n",
       "      <td id=\"T_672bb_row11_col1\" class=\"data row11 col1\" >0.788441</td>\n",
       "      <td id=\"T_672bb_row11_col2\" class=\"data row11 col2\" >-0.024968</td>\n",
       "    </tr>\n",
       "    <tr>\n",
       "      <th id=\"T_672bb_level0_row12\" class=\"row_heading level0 row12\" >12</th>\n",
       "      <td id=\"T_672bb_row12_col0\" class=\"data row12 col0\" >0.025000</td>\n",
       "      <td id=\"T_672bb_row12_col1\" class=\"data row12 col1\" >0.788441</td>\n",
       "      <td id=\"T_672bb_row12_col2\" class=\"data row12 col2\" >-0.024968</td>\n",
       "    </tr>\n",
       "    <tr>\n",
       "      <th id=\"T_672bb_level0_row13\" class=\"row_heading level0 row13\" >13</th>\n",
       "      <td id=\"T_672bb_row13_col0\" class=\"data row13 col0\" >0.027000</td>\n",
       "      <td id=\"T_672bb_row13_col1\" class=\"data row13 col1\" >0.788441</td>\n",
       "      <td id=\"T_672bb_row13_col2\" class=\"data row13 col2\" >-0.024968</td>\n",
       "    </tr>\n",
       "    <tr>\n",
       "      <th id=\"T_672bb_level0_row14\" class=\"row_heading level0 row14\" >14</th>\n",
       "      <td id=\"T_672bb_row14_col0\" class=\"data row14 col0\" >0.029000</td>\n",
       "      <td id=\"T_672bb_row14_col1\" class=\"data row14 col1\" >0.788441</td>\n",
       "      <td id=\"T_672bb_row14_col2\" class=\"data row14 col2\" >-0.024968</td>\n",
       "    </tr>\n",
       "    <tr>\n",
       "      <th id=\"T_672bb_level0_row15\" class=\"row_heading level0 row15\" >15</th>\n",
       "      <td id=\"T_672bb_row15_col0\" class=\"data row15 col0\" >0.031000</td>\n",
       "      <td id=\"T_672bb_row15_col1\" class=\"data row15 col1\" >0.788441</td>\n",
       "      <td id=\"T_672bb_row15_col2\" class=\"data row15 col2\" >-0.024968</td>\n",
       "    </tr>\n",
       "    <tr>\n",
       "      <th id=\"T_672bb_level0_row16\" class=\"row_heading level0 row16\" >16</th>\n",
       "      <td id=\"T_672bb_row16_col0\" class=\"data row16 col0\" >0.033000</td>\n",
       "      <td id=\"T_672bb_row16_col1\" class=\"data row16 col1\" >0.788441</td>\n",
       "      <td id=\"T_672bb_row16_col2\" class=\"data row16 col2\" >-0.024968</td>\n",
       "    </tr>\n",
       "    <tr>\n",
       "      <th id=\"T_672bb_level0_row17\" class=\"row_heading level0 row17\" >17</th>\n",
       "      <td id=\"T_672bb_row17_col0\" class=\"data row17 col0\" >0.035000</td>\n",
       "      <td id=\"T_672bb_row17_col1\" class=\"data row17 col1\" >0.788441</td>\n",
       "      <td id=\"T_672bb_row17_col2\" class=\"data row17 col2\" >-0.024968</td>\n",
       "    </tr>\n",
       "    <tr>\n",
       "      <th id=\"T_672bb_level0_row18\" class=\"row_heading level0 row18\" >18</th>\n",
       "      <td id=\"T_672bb_row18_col0\" class=\"data row18 col0\" >0.037000</td>\n",
       "      <td id=\"T_672bb_row18_col1\" class=\"data row18 col1\" >0.788441</td>\n",
       "      <td id=\"T_672bb_row18_col2\" class=\"data row18 col2\" >-0.024968</td>\n",
       "    </tr>\n",
       "    <tr>\n",
       "      <th id=\"T_672bb_level0_row19\" class=\"row_heading level0 row19\" >19</th>\n",
       "      <td id=\"T_672bb_row19_col0\" class=\"data row19 col0\" >0.039000</td>\n",
       "      <td id=\"T_672bb_row19_col1\" class=\"data row19 col1\" >0.788441</td>\n",
       "      <td id=\"T_672bb_row19_col2\" class=\"data row19 col2\" >-0.024968</td>\n",
       "    </tr>\n",
       "    <tr>\n",
       "      <th id=\"T_672bb_level0_row20\" class=\"row_heading level0 row20\" >20</th>\n",
       "      <td id=\"T_672bb_row20_col0\" class=\"data row20 col0\" >0.041000</td>\n",
       "      <td id=\"T_672bb_row20_col1\" class=\"data row20 col1\" >0.788441</td>\n",
       "      <td id=\"T_672bb_row20_col2\" class=\"data row20 col2\" >-0.024968</td>\n",
       "    </tr>\n",
       "    <tr>\n",
       "      <th id=\"T_672bb_level0_row21\" class=\"row_heading level0 row21\" >21</th>\n",
       "      <td id=\"T_672bb_row21_col0\" class=\"data row21 col0\" >0.043000</td>\n",
       "      <td id=\"T_672bb_row21_col1\" class=\"data row21 col1\" >0.788441</td>\n",
       "      <td id=\"T_672bb_row21_col2\" class=\"data row21 col2\" >-0.024968</td>\n",
       "    </tr>\n",
       "    <tr>\n",
       "      <th id=\"T_672bb_level0_row22\" class=\"row_heading level0 row22\" >22</th>\n",
       "      <td id=\"T_672bb_row22_col0\" class=\"data row22 col0\" >0.045000</td>\n",
       "      <td id=\"T_672bb_row22_col1\" class=\"data row22 col1\" >0.788441</td>\n",
       "      <td id=\"T_672bb_row22_col2\" class=\"data row22 col2\" >-0.024968</td>\n",
       "    </tr>\n",
       "    <tr>\n",
       "      <th id=\"T_672bb_level0_row23\" class=\"row_heading level0 row23\" >23</th>\n",
       "      <td id=\"T_672bb_row23_col0\" class=\"data row23 col0\" >0.047000</td>\n",
       "      <td id=\"T_672bb_row23_col1\" class=\"data row23 col1\" >0.788441</td>\n",
       "      <td id=\"T_672bb_row23_col2\" class=\"data row23 col2\" >-0.024968</td>\n",
       "    </tr>\n",
       "    <tr>\n",
       "      <th id=\"T_672bb_level0_row24\" class=\"row_heading level0 row24\" >24</th>\n",
       "      <td id=\"T_672bb_row24_col0\" class=\"data row24 col0\" >0.049000</td>\n",
       "      <td id=\"T_672bb_row24_col1\" class=\"data row24 col1\" >0.788441</td>\n",
       "      <td id=\"T_672bb_row24_col2\" class=\"data row24 col2\" >-0.024968</td>\n",
       "    </tr>\n",
       "    <tr>\n",
       "      <th id=\"T_672bb_level0_row25\" class=\"row_heading level0 row25\" >25</th>\n",
       "      <td id=\"T_672bb_row25_col0\" class=\"data row25 col0\" >0.051000</td>\n",
       "      <td id=\"T_672bb_row25_col1\" class=\"data row25 col1\" >0.788441</td>\n",
       "      <td id=\"T_672bb_row25_col2\" class=\"data row25 col2\" >-0.024968</td>\n",
       "    </tr>\n",
       "    <tr>\n",
       "      <th id=\"T_672bb_level0_row26\" class=\"row_heading level0 row26\" >26</th>\n",
       "      <td id=\"T_672bb_row26_col0\" class=\"data row26 col0\" >0.053000</td>\n",
       "      <td id=\"T_672bb_row26_col1\" class=\"data row26 col1\" >0.788441</td>\n",
       "      <td id=\"T_672bb_row26_col2\" class=\"data row26 col2\" >-0.024968</td>\n",
       "    </tr>\n",
       "    <tr>\n",
       "      <th id=\"T_672bb_level0_row27\" class=\"row_heading level0 row27\" >27</th>\n",
       "      <td id=\"T_672bb_row27_col0\" class=\"data row27 col0\" >0.055000</td>\n",
       "      <td id=\"T_672bb_row27_col1\" class=\"data row27 col1\" >0.788441</td>\n",
       "      <td id=\"T_672bb_row27_col2\" class=\"data row27 col2\" >-0.024968</td>\n",
       "    </tr>\n",
       "    <tr>\n",
       "      <th id=\"T_672bb_level0_row28\" class=\"row_heading level0 row28\" >28</th>\n",
       "      <td id=\"T_672bb_row28_col0\" class=\"data row28 col0\" >0.057000</td>\n",
       "      <td id=\"T_672bb_row28_col1\" class=\"data row28 col1\" >0.788441</td>\n",
       "      <td id=\"T_672bb_row28_col2\" class=\"data row28 col2\" >-0.024968</td>\n",
       "    </tr>\n",
       "    <tr>\n",
       "      <th id=\"T_672bb_level0_row29\" class=\"row_heading level0 row29\" >29</th>\n",
       "      <td id=\"T_672bb_row29_col0\" class=\"data row29 col0\" >0.059000</td>\n",
       "      <td id=\"T_672bb_row29_col1\" class=\"data row29 col1\" >0.788441</td>\n",
       "      <td id=\"T_672bb_row29_col2\" class=\"data row29 col2\" >-0.024968</td>\n",
       "    </tr>\n",
       "    <tr>\n",
       "      <th id=\"T_672bb_level0_row30\" class=\"row_heading level0 row30\" >30</th>\n",
       "      <td id=\"T_672bb_row30_col0\" class=\"data row30 col0\" >0.061000</td>\n",
       "      <td id=\"T_672bb_row30_col1\" class=\"data row30 col1\" >0.788441</td>\n",
       "      <td id=\"T_672bb_row30_col2\" class=\"data row30 col2\" >-0.024968</td>\n",
       "    </tr>\n",
       "    <tr>\n",
       "      <th id=\"T_672bb_level0_row31\" class=\"row_heading level0 row31\" >31</th>\n",
       "      <td id=\"T_672bb_row31_col0\" class=\"data row31 col0\" >0.063000</td>\n",
       "      <td id=\"T_672bb_row31_col1\" class=\"data row31 col1\" >0.788441</td>\n",
       "      <td id=\"T_672bb_row31_col2\" class=\"data row31 col2\" >-0.024968</td>\n",
       "    </tr>\n",
       "    <tr>\n",
       "      <th id=\"T_672bb_level0_row32\" class=\"row_heading level0 row32\" >32</th>\n",
       "      <td id=\"T_672bb_row32_col0\" class=\"data row32 col0\" >0.065000</td>\n",
       "      <td id=\"T_672bb_row32_col1\" class=\"data row32 col1\" >0.788441</td>\n",
       "      <td id=\"T_672bb_row32_col2\" class=\"data row32 col2\" >-0.024968</td>\n",
       "    </tr>\n",
       "    <tr>\n",
       "      <th id=\"T_672bb_level0_row33\" class=\"row_heading level0 row33\" >33</th>\n",
       "      <td id=\"T_672bb_row33_col0\" class=\"data row33 col0\" >0.067000</td>\n",
       "      <td id=\"T_672bb_row33_col1\" class=\"data row33 col1\" >0.788441</td>\n",
       "      <td id=\"T_672bb_row33_col2\" class=\"data row33 col2\" >-0.024968</td>\n",
       "    </tr>\n",
       "    <tr>\n",
       "      <th id=\"T_672bb_level0_row34\" class=\"row_heading level0 row34\" >34</th>\n",
       "      <td id=\"T_672bb_row34_col0\" class=\"data row34 col0\" >0.069000</td>\n",
       "      <td id=\"T_672bb_row34_col1\" class=\"data row34 col1\" >0.788441</td>\n",
       "      <td id=\"T_672bb_row34_col2\" class=\"data row34 col2\" >-0.024968</td>\n",
       "    </tr>\n",
       "  </tbody>\n",
       "</table>\n"
      ],
      "text/plain": [
       "<pandas.io.formats.style.Styler at 0x7f32c6752e50>"
      ]
     },
     "execution_count": 40,
     "metadata": {},
     "output_type": "execute_result"
    }
   ],
   "source": [
    "def syling(s):\n",
    "  if s['C'] == 0.003:\n",
    "    return ['background-color: orange']*3\n",
    "  else:\n",
    "    return ['background-color: white']*3\n",
    "\n",
    "dfa3.style.apply(syling, axis = 1)"
   ]
  },
  {
   "cell_type": "markdown",
   "metadata": {
    "id": "A5yRrsiBfDFb"
   },
   "source": [
    "### German"
   ]
  },
  {
   "cell_type": "code",
   "execution_count": 41,
   "metadata": {
    "colab": {
     "base_uri": "https://localhost:8080/",
     "height": 439
    },
    "id": "V8OeOEvzaQJ1",
    "outputId": "3c62173b-a708-4788-d967-4103c1b09bce"
   },
   "outputs": [
    {
     "name": "stdout",
     "output_type": "stream",
     "text": [
      "Best accuracy score is at C:  0.001 with accuracy score of 0.72\n",
      "Best Equality of Opportunity score is at C: 0.027000000000000003 with score -0.000684931506849451\n"
     ]
    },
    {
     "data": {
      "image/png": "[encoded data removed]",
      "text/plain": [
       "<Figure size 720x432 with 1 Axes>"
      ]
     },
     "metadata": {
      "needs_background": "light"
     },
     "output_type": "display_data"
    }
   ],
   "source": [
    "#reweighted cross fold on german dataset with refined c\n",
    "\n",
    "dfg3 = cv_rw_fairness(X_train_g, y_train_g, g_train, a)"
   ]
  },
  {
   "cell_type": "markdown",
   "metadata": {
    "id": "w0FTHxfkUJuI"
   },
   "source": [
    "**German Dataset:** (Re-weighing) The hyperparameter for *Equality of Opportunity* is at **C: 0.027** with a score of **-0.0006849**\n"
   ]
  },
  {
   "cell_type": "code",
   "execution_count": 42,
   "metadata": {
    "colab": {
     "base_uri": "https://localhost:8080/",
     "height": 1000
    },
    "id": "HgF3ZuGgSiic",
    "outputId": "353804c5-405c-48c2-9674-b851d0209b92"
   },
   "outputs": [
    {
     "data": {
      "text/html": [
       "<style type=\"text/css\">\n",
       "#T_f30ce_row0_col0, #T_f30ce_row0_col1, #T_f30ce_row0_col2, #T_f30ce_row1_col0, #T_f30ce_row1_col1, #T_f30ce_row1_col2, #T_f30ce_row2_col0, #T_f30ce_row2_col1, #T_f30ce_row2_col2, #T_f30ce_row3_col0, #T_f30ce_row3_col1, #T_f30ce_row3_col2, #T_f30ce_row4_col0, #T_f30ce_row4_col1, #T_f30ce_row4_col2, #T_f30ce_row5_col0, #T_f30ce_row5_col1, #T_f30ce_row5_col2, #T_f30ce_row6_col0, #T_f30ce_row6_col1, #T_f30ce_row6_col2, #T_f30ce_row7_col0, #T_f30ce_row7_col1, #T_f30ce_row7_col2, #T_f30ce_row8_col0, #T_f30ce_row8_col1, #T_f30ce_row8_col2, #T_f30ce_row9_col0, #T_f30ce_row9_col1, #T_f30ce_row9_col2, #T_f30ce_row10_col0, #T_f30ce_row10_col1, #T_f30ce_row10_col2, #T_f30ce_row11_col0, #T_f30ce_row11_col1, #T_f30ce_row11_col2, #T_f30ce_row12_col0, #T_f30ce_row12_col1, #T_f30ce_row12_col2, #T_f30ce_row14_col0, #T_f30ce_row14_col1, #T_f30ce_row14_col2, #T_f30ce_row15_col0, #T_f30ce_row15_col1, #T_f30ce_row15_col2, #T_f30ce_row16_col0, #T_f30ce_row16_col1, #T_f30ce_row16_col2, #T_f30ce_row17_col0, #T_f30ce_row17_col1, #T_f30ce_row17_col2, #T_f30ce_row18_col0, #T_f30ce_row18_col1, #T_f30ce_row18_col2, #T_f30ce_row19_col0, #T_f30ce_row19_col1, #T_f30ce_row19_col2, #T_f30ce_row20_col0, #T_f30ce_row20_col1, #T_f30ce_row20_col2, #T_f30ce_row21_col0, #T_f30ce_row21_col1, #T_f30ce_row21_col2, #T_f30ce_row22_col0, #T_f30ce_row22_col1, #T_f30ce_row22_col2, #T_f30ce_row23_col0, #T_f30ce_row23_col1, #T_f30ce_row23_col2, #T_f30ce_row24_col0, #T_f30ce_row24_col1, #T_f30ce_row24_col2, #T_f30ce_row25_col0, #T_f30ce_row25_col1, #T_f30ce_row25_col2, #T_f30ce_row26_col0, #T_f30ce_row26_col1, #T_f30ce_row26_col2, #T_f30ce_row27_col0, #T_f30ce_row27_col1, #T_f30ce_row27_col2, #T_f30ce_row28_col0, #T_f30ce_row28_col1, #T_f30ce_row28_col2, #T_f30ce_row29_col0, #T_f30ce_row29_col1, #T_f30ce_row29_col2, #T_f30ce_row30_col0, #T_f30ce_row30_col1, #T_f30ce_row30_col2, #T_f30ce_row31_col0, #T_f30ce_row31_col1, #T_f30ce_row31_col2, #T_f30ce_row32_col0, #T_f30ce_row32_col1, #T_f30ce_row32_col2, #T_f30ce_row33_col0, #T_f30ce_row33_col1, #T_f30ce_row33_col2, #T_f30ce_row34_col0, #T_f30ce_row34_col1, #T_f30ce_row34_col2 {\n",
       "  background-color: white;\n",
       "}\n",
       "#T_f30ce_row13_col0, #T_f30ce_row13_col1, #T_f30ce_row13_col2 {\n",
       "  background-color: orange;\n",
       "}\n",
       "</style>\n",
       "<table id=\"T_f30ce_\" class=\"dataframe\">\n",
       "  <thead>\n",
       "    <tr>\n",
       "      <th class=\"blank level0\" >&nbsp;</th>\n",
       "      <th class=\"col_heading level0 col0\" >C</th>\n",
       "      <th class=\"col_heading level0 col1\" >Accuracy</th>\n",
       "      <th class=\"col_heading level0 col2\" >Equality of Opportunity</th>\n",
       "    </tr>\n",
       "  </thead>\n",
       "  <tbody>\n",
       "    <tr>\n",
       "      <th id=\"T_f30ce_level0_row0\" class=\"row_heading level0 row0\" >0</th>\n",
       "      <td id=\"T_f30ce_row0_col0\" class=\"data row0 col0\" >0.001000</td>\n",
       "      <td id=\"T_f30ce_row0_col1\" class=\"data row0 col1\" >0.720000</td>\n",
       "      <td id=\"T_f30ce_row0_col2\" class=\"data row0 col2\" >-0.039237</td>\n",
       "    </tr>\n",
       "    <tr>\n",
       "      <th id=\"T_f30ce_level0_row1\" class=\"row_heading level0 row1\" >1</th>\n",
       "      <td id=\"T_f30ce_row1_col0\" class=\"data row1 col0\" >0.003000</td>\n",
       "      <td id=\"T_f30ce_row1_col1\" class=\"data row1 col1\" >0.718571</td>\n",
       "      <td id=\"T_f30ce_row1_col2\" class=\"data row1 col2\" >-0.032094</td>\n",
       "    </tr>\n",
       "    <tr>\n",
       "      <th id=\"T_f30ce_level0_row2\" class=\"row_heading level0 row2\" >2</th>\n",
       "      <td id=\"T_f30ce_row2_col0\" class=\"data row2 col0\" >0.005000</td>\n",
       "      <td id=\"T_f30ce_row2_col1\" class=\"data row2 col1\" >0.711429</td>\n",
       "      <td id=\"T_f30ce_row2_col2\" class=\"data row2 col2\" >-0.007339</td>\n",
       "    </tr>\n",
       "    <tr>\n",
       "      <th id=\"T_f30ce_level0_row3\" class=\"row_heading level0 row3\" >3</th>\n",
       "      <td id=\"T_f30ce_row3_col0\" class=\"data row3 col0\" >0.007000</td>\n",
       "      <td id=\"T_f30ce_row3_col1\" class=\"data row3 col1\" >0.710000</td>\n",
       "      <td id=\"T_f30ce_row3_col2\" class=\"data row3 col2\" >-0.018297</td>\n",
       "    </tr>\n",
       "    <tr>\n",
       "      <th id=\"T_f30ce_level0_row4\" class=\"row_heading level0 row4\" >4</th>\n",
       "      <td id=\"T_f30ce_row4_col0\" class=\"data row4 col0\" >0.009000</td>\n",
       "      <td id=\"T_f30ce_row4_col1\" class=\"data row4 col1\" >0.705714</td>\n",
       "      <td id=\"T_f30ce_row4_col2\" class=\"data row4 col2\" >0.003131</td>\n",
       "    </tr>\n",
       "    <tr>\n",
       "      <th id=\"T_f30ce_level0_row5\" class=\"row_heading level0 row5\" >5</th>\n",
       "      <td id=\"T_f30ce_row5_col0\" class=\"data row5 col0\" >0.011000</td>\n",
       "      <td id=\"T_f30ce_row5_col1\" class=\"data row5 col1\" >0.710000</td>\n",
       "      <td id=\"T_f30ce_row5_col2\" class=\"data row5 col2\" >-0.007828</td>\n",
       "    </tr>\n",
       "    <tr>\n",
       "      <th id=\"T_f30ce_level0_row6\" class=\"row_heading level0 row6\" >6</th>\n",
       "      <td id=\"T_f30ce_row6_col0\" class=\"data row6 col0\" >0.013000</td>\n",
       "      <td id=\"T_f30ce_row6_col1\" class=\"data row6 col1\" >0.710000</td>\n",
       "      <td id=\"T_f30ce_row6_col2\" class=\"data row6 col2\" >-0.007828</td>\n",
       "    </tr>\n",
       "    <tr>\n",
       "      <th id=\"T_f30ce_level0_row7\" class=\"row_heading level0 row7\" >7</th>\n",
       "      <td id=\"T_f30ce_row7_col0\" class=\"data row7 col0\" >0.015000</td>\n",
       "      <td id=\"T_f30ce_row7_col1\" class=\"data row7 col1\" >0.710000</td>\n",
       "      <td id=\"T_f30ce_row7_col2\" class=\"data row7 col2\" >-0.007828</td>\n",
       "    </tr>\n",
       "    <tr>\n",
       "      <th id=\"T_f30ce_level0_row8\" class=\"row_heading level0 row8\" >8</th>\n",
       "      <td id=\"T_f30ce_row8_col0\" class=\"data row8 col0\" >0.017000</td>\n",
       "      <td id=\"T_f30ce_row8_col1\" class=\"data row8 col1\" >0.710000</td>\n",
       "      <td id=\"T_f30ce_row8_col2\" class=\"data row8 col2\" >-0.007828</td>\n",
       "    </tr>\n",
       "    <tr>\n",
       "      <th id=\"T_f30ce_level0_row9\" class=\"row_heading level0 row9\" >9</th>\n",
       "      <td id=\"T_f30ce_row9_col0\" class=\"data row9 col0\" >0.019000</td>\n",
       "      <td id=\"T_f30ce_row9_col1\" class=\"data row9 col1\" >0.710000</td>\n",
       "      <td id=\"T_f30ce_row9_col2\" class=\"data row9 col2\" >-0.007828</td>\n",
       "    </tr>\n",
       "    <tr>\n",
       "      <th id=\"T_f30ce_level0_row10\" class=\"row_heading level0 row10\" >10</th>\n",
       "      <td id=\"T_f30ce_row10_col0\" class=\"data row10 col0\" >0.021000</td>\n",
       "      <td id=\"T_f30ce_row10_col1\" class=\"data row10 col1\" >0.710000</td>\n",
       "      <td id=\"T_f30ce_row10_col2\" class=\"data row10 col2\" >-0.007828</td>\n",
       "    </tr>\n",
       "    <tr>\n",
       "      <th id=\"T_f30ce_level0_row11\" class=\"row_heading level0 row11\" >11</th>\n",
       "      <td id=\"T_f30ce_row11_col0\" class=\"data row11 col0\" >0.023000</td>\n",
       "      <td id=\"T_f30ce_row11_col1\" class=\"data row11 col1\" >0.707143</td>\n",
       "      <td id=\"T_f30ce_row11_col2\" class=\"data row11 col2\" >-0.007828</td>\n",
       "    </tr>\n",
       "    <tr>\n",
       "      <th id=\"T_f30ce_level0_row12\" class=\"row_heading level0 row12\" >12</th>\n",
       "      <td id=\"T_f30ce_row12_col0\" class=\"data row12 col0\" >0.025000</td>\n",
       "      <td id=\"T_f30ce_row12_col1\" class=\"data row12 col1\" >0.707143</td>\n",
       "      <td id=\"T_f30ce_row12_col2\" class=\"data row12 col2\" >-0.007828</td>\n",
       "    </tr>\n",
       "    <tr>\n",
       "      <th id=\"T_f30ce_level0_row13\" class=\"row_heading level0 row13\" >13</th>\n",
       "      <td id=\"T_f30ce_row13_col0\" class=\"data row13 col0\" >0.027000</td>\n",
       "      <td id=\"T_f30ce_row13_col1\" class=\"data row13 col1\" >0.704286</td>\n",
       "      <td id=\"T_f30ce_row13_col2\" class=\"data row13 col2\" >-0.000685</td>\n",
       "    </tr>\n",
       "    <tr>\n",
       "      <th id=\"T_f30ce_level0_row14\" class=\"row_heading level0 row14\" >14</th>\n",
       "      <td id=\"T_f30ce_row14_col0\" class=\"data row14 col0\" >0.029000</td>\n",
       "      <td id=\"T_f30ce_row14_col1\" class=\"data row14 col1\" >0.704286</td>\n",
       "      <td id=\"T_f30ce_row14_col2\" class=\"data row14 col2\" >-0.000685</td>\n",
       "    </tr>\n",
       "    <tr>\n",
       "      <th id=\"T_f30ce_level0_row15\" class=\"row_heading level0 row15\" >15</th>\n",
       "      <td id=\"T_f30ce_row15_col0\" class=\"data row15 col0\" >0.031000</td>\n",
       "      <td id=\"T_f30ce_row15_col1\" class=\"data row15 col1\" >0.704286</td>\n",
       "      <td id=\"T_f30ce_row15_col2\" class=\"data row15 col2\" >-0.000685</td>\n",
       "    </tr>\n",
       "    <tr>\n",
       "      <th id=\"T_f30ce_level0_row16\" class=\"row_heading level0 row16\" >16</th>\n",
       "      <td id=\"T_f30ce_row16_col0\" class=\"data row16 col0\" >0.033000</td>\n",
       "      <td id=\"T_f30ce_row16_col1\" class=\"data row16 col1\" >0.705714</td>\n",
       "      <td id=\"T_f30ce_row16_col2\" class=\"data row16 col2\" >-0.000685</td>\n",
       "    </tr>\n",
       "    <tr>\n",
       "      <th id=\"T_f30ce_level0_row17\" class=\"row_heading level0 row17\" >17</th>\n",
       "      <td id=\"T_f30ce_row17_col0\" class=\"data row17 col0\" >0.035000</td>\n",
       "      <td id=\"T_f30ce_row17_col1\" class=\"data row17 col1\" >0.705714</td>\n",
       "      <td id=\"T_f30ce_row17_col2\" class=\"data row17 col2\" >-0.000685</td>\n",
       "    </tr>\n",
       "    <tr>\n",
       "      <th id=\"T_f30ce_level0_row18\" class=\"row_heading level0 row18\" >18</th>\n",
       "      <td id=\"T_f30ce_row18_col0\" class=\"data row18 col0\" >0.037000</td>\n",
       "      <td id=\"T_f30ce_row18_col1\" class=\"data row18 col1\" >0.708571</td>\n",
       "      <td id=\"T_f30ce_row18_col2\" class=\"data row18 col2\" >0.013601</td>\n",
       "    </tr>\n",
       "    <tr>\n",
       "      <th id=\"T_f30ce_level0_row19\" class=\"row_heading level0 row19\" >19</th>\n",
       "      <td id=\"T_f30ce_row19_col0\" class=\"data row19 col0\" >0.039000</td>\n",
       "      <td id=\"T_f30ce_row19_col1\" class=\"data row19 col1\" >0.708571</td>\n",
       "      <td id=\"T_f30ce_row19_col2\" class=\"data row19 col2\" >0.013601</td>\n",
       "    </tr>\n",
       "    <tr>\n",
       "      <th id=\"T_f30ce_level0_row20\" class=\"row_heading level0 row20\" >20</th>\n",
       "      <td id=\"T_f30ce_row20_col0\" class=\"data row20 col0\" >0.041000</td>\n",
       "      <td id=\"T_f30ce_row20_col1\" class=\"data row20 col1\" >0.708571</td>\n",
       "      <td id=\"T_f30ce_row20_col2\" class=\"data row20 col2\" >0.013601</td>\n",
       "    </tr>\n",
       "    <tr>\n",
       "      <th id=\"T_f30ce_level0_row21\" class=\"row_heading level0 row21\" >21</th>\n",
       "      <td id=\"T_f30ce_row21_col0\" class=\"data row21 col0\" >0.043000</td>\n",
       "      <td id=\"T_f30ce_row21_col1\" class=\"data row21 col1\" >0.708571</td>\n",
       "      <td id=\"T_f30ce_row21_col2\" class=\"data row21 col2\" >0.013601</td>\n",
       "    </tr>\n",
       "    <tr>\n",
       "      <th id=\"T_f30ce_level0_row22\" class=\"row_heading level0 row22\" >22</th>\n",
       "      <td id=\"T_f30ce_row22_col0\" class=\"data row22 col0\" >0.045000</td>\n",
       "      <td id=\"T_f30ce_row22_col1\" class=\"data row22 col1\" >0.708571</td>\n",
       "      <td id=\"T_f30ce_row22_col2\" class=\"data row22 col2\" >0.013601</td>\n",
       "    </tr>\n",
       "    <tr>\n",
       "      <th id=\"T_f30ce_level0_row23\" class=\"row_heading level0 row23\" >23</th>\n",
       "      <td id=\"T_f30ce_row23_col0\" class=\"data row23 col0\" >0.047000</td>\n",
       "      <td id=\"T_f30ce_row23_col1\" class=\"data row23 col1\" >0.708571</td>\n",
       "      <td id=\"T_f30ce_row23_col2\" class=\"data row23 col2\" >0.013601</td>\n",
       "    </tr>\n",
       "    <tr>\n",
       "      <th id=\"T_f30ce_level0_row24\" class=\"row_heading level0 row24\" >24</th>\n",
       "      <td id=\"T_f30ce_row24_col0\" class=\"data row24 col0\" >0.049000</td>\n",
       "      <td id=\"T_f30ce_row24_col1\" class=\"data row24 col1\" >0.708571</td>\n",
       "      <td id=\"T_f30ce_row24_col2\" class=\"data row24 col2\" >0.013601</td>\n",
       "    </tr>\n",
       "    <tr>\n",
       "      <th id=\"T_f30ce_level0_row25\" class=\"row_heading level0 row25\" >25</th>\n",
       "      <td id=\"T_f30ce_row25_col0\" class=\"data row25 col0\" >0.051000</td>\n",
       "      <td id=\"T_f30ce_row25_col1\" class=\"data row25 col1\" >0.708571</td>\n",
       "      <td id=\"T_f30ce_row25_col2\" class=\"data row25 col2\" >0.013601</td>\n",
       "    </tr>\n",
       "    <tr>\n",
       "      <th id=\"T_f30ce_level0_row26\" class=\"row_heading level0 row26\" >26</th>\n",
       "      <td id=\"T_f30ce_row26_col0\" class=\"data row26 col0\" >0.053000</td>\n",
       "      <td id=\"T_f30ce_row26_col1\" class=\"data row26 col1\" >0.708571</td>\n",
       "      <td id=\"T_f30ce_row26_col2\" class=\"data row26 col2\" >0.013601</td>\n",
       "    </tr>\n",
       "    <tr>\n",
       "      <th id=\"T_f30ce_level0_row27\" class=\"row_heading level0 row27\" >27</th>\n",
       "      <td id=\"T_f30ce_row27_col0\" class=\"data row27 col0\" >0.055000</td>\n",
       "      <td id=\"T_f30ce_row27_col1\" class=\"data row27 col1\" >0.710000</td>\n",
       "      <td id=\"T_f30ce_row27_col2\" class=\"data row27 col2\" >0.013601</td>\n",
       "    </tr>\n",
       "    <tr>\n",
       "      <th id=\"T_f30ce_level0_row28\" class=\"row_heading level0 row28\" >28</th>\n",
       "      <td id=\"T_f30ce_row28_col0\" class=\"data row28 col0\" >0.057000</td>\n",
       "      <td id=\"T_f30ce_row28_col1\" class=\"data row28 col1\" >0.710000</td>\n",
       "      <td id=\"T_f30ce_row28_col2\" class=\"data row28 col2\" >0.013601</td>\n",
       "    </tr>\n",
       "    <tr>\n",
       "      <th id=\"T_f30ce_level0_row29\" class=\"row_heading level0 row29\" >29</th>\n",
       "      <td id=\"T_f30ce_row29_col0\" class=\"data row29 col0\" >0.059000</td>\n",
       "      <td id=\"T_f30ce_row29_col1\" class=\"data row29 col1\" >0.710000</td>\n",
       "      <td id=\"T_f30ce_row29_col2\" class=\"data row29 col2\" >0.013601</td>\n",
       "    </tr>\n",
       "    <tr>\n",
       "      <th id=\"T_f30ce_level0_row30\" class=\"row_heading level0 row30\" >30</th>\n",
       "      <td id=\"T_f30ce_row30_col0\" class=\"data row30 col0\" >0.061000</td>\n",
       "      <td id=\"T_f30ce_row30_col1\" class=\"data row30 col1\" >0.710000</td>\n",
       "      <td id=\"T_f30ce_row30_col2\" class=\"data row30 col2\" >0.013601</td>\n",
       "    </tr>\n",
       "    <tr>\n",
       "      <th id=\"T_f30ce_level0_row31\" class=\"row_heading level0 row31\" >31</th>\n",
       "      <td id=\"T_f30ce_row31_col0\" class=\"data row31 col0\" >0.063000</td>\n",
       "      <td id=\"T_f30ce_row31_col1\" class=\"data row31 col1\" >0.710000</td>\n",
       "      <td id=\"T_f30ce_row31_col2\" class=\"data row31 col2\" >0.013601</td>\n",
       "    </tr>\n",
       "    <tr>\n",
       "      <th id=\"T_f30ce_level0_row32\" class=\"row_heading level0 row32\" >32</th>\n",
       "      <td id=\"T_f30ce_row32_col0\" class=\"data row32 col0\" >0.065000</td>\n",
       "      <td id=\"T_f30ce_row32_col1\" class=\"data row32 col1\" >0.710000</td>\n",
       "      <td id=\"T_f30ce_row32_col2\" class=\"data row32 col2\" >0.013601</td>\n",
       "    </tr>\n",
       "    <tr>\n",
       "      <th id=\"T_f30ce_level0_row33\" class=\"row_heading level0 row33\" >33</th>\n",
       "      <td id=\"T_f30ce_row33_col0\" class=\"data row33 col0\" >0.067000</td>\n",
       "      <td id=\"T_f30ce_row33_col1\" class=\"data row33 col1\" >0.710000</td>\n",
       "      <td id=\"T_f30ce_row33_col2\" class=\"data row33 col2\" >0.013601</td>\n",
       "    </tr>\n",
       "    <tr>\n",
       "      <th id=\"T_f30ce_level0_row34\" class=\"row_heading level0 row34\" >34</th>\n",
       "      <td id=\"T_f30ce_row34_col0\" class=\"data row34 col0\" >0.069000</td>\n",
       "      <td id=\"T_f30ce_row34_col1\" class=\"data row34 col1\" >0.710000</td>\n",
       "      <td id=\"T_f30ce_row34_col2\" class=\"data row34 col2\" >0.013601</td>\n",
       "    </tr>\n",
       "  </tbody>\n",
       "</table>\n"
      ],
      "text/plain": [
       "<pandas.io.formats.style.Styler at 0x7f32c66a1990>"
      ]
     },
     "execution_count": 42,
     "metadata": {},
     "output_type": "execute_result"
    }
   ],
   "source": [
    "def syling(s):\n",
    "  if s['C'] == 0.027000000000000003:\n",
    "    return ['background-color: orange']*3\n",
    "  else:\n",
    "    return ['background-color: white']*3\n",
    "\n",
    "dfg3.style.apply(syling, axis = 1)"
   ]
  },
  {
   "cell_type": "markdown",
   "metadata": {
    "id": "WjO9ArX1ftjK"
   },
   "source": [
    "## Compute and Report the Final Accuracy: Re-weighing\n"
   ]
  },
  {
   "cell_type": "markdown",
   "metadata": {
    "id": "JooES0AqQ9lF"
   },
   "source": [
    "### Task 2: Table of Results from Training Data\n",
    "\n",
    "| Dataset | C Value for Highest Accuracy (3) | C Value for Best Fairness Metrics (4) |\n",
    "| --- | :---: | ---: |\n",
    "| **Adult** | 0.001 | 0.003 |\n",
    "| **German** | 0.12 | 0.027 |"
   ]
  },
  {
   "cell_type": "markdown",
   "metadata": {
    "id": "sU850GtIgZ8w"
   },
   "source": [
    "### Functions"
   ]
  },
  {
   "cell_type": "code",
   "execution_count": 43,
   "metadata": {
    "id": "LT9kLFPQhmIe"
   },
   "outputs": [],
   "source": [
    "#reweighing final scores\n",
    "\n",
    "def rw_finalscores(X_train, y_train, X_test, y_test,train, test, c):\n",
    "  equ_opp_list = []\n",
    "  acc = []\n",
    "  disparate = []\n",
    "  #mitgating the bias\n",
    "  #assigning the new weights to the unprivileged and privileged groups, transform the dataset with reweighing\n",
    "  RW = Reweighing(unprivileged_groups=unprivileged_groups,\n",
    "                privileged_groups=privileged_groups)\n",
    "  #obtaining a set of weights for the training set\n",
    "  train = RW.fit_transform(train)\n",
    "  clf = LogisticRegression(solver='liblinear', C=c, random_state=1)\n",
    "  clf.fit(X_train,y_train,sample_weight=train.instance_weights)\n",
    "  y_pred = clf.predict(X_test)\n",
    "  test_pred = test.copy()\n",
    "  test_pred.labels = y_pred\n",
    "  metric = ClassificationMetric(test, test_pred, unprivileged_groups=unprivileged_groups, privileged_groups=privileged_groups)\n",
    "  \n",
    "  #storing the results\n",
    "  acc.append(sum(y_pred==y_test)/len(y_test))\n",
    "  equ_opp_list.append(metric.equal_opportunity_difference()) #would like it to be close to 0\n",
    "  disparate.append(metric.disparate_impact()) #value close to 0 indicates strong bias, would like to be close to 1\n",
    "\n",
    "  #printing the results\n",
    "  print('After reweighing, the final accuracy score on the test data with hyperparameter C:', c, 'is', clf.score(X_test, y_test))\n",
    "  print('The Equality of Opportunity score at C:', c, 'is', equ_opp_list)\n",
    "  print('The disparate impact score is', disparate)\n"
   ]
  },
  {
   "cell_type": "markdown",
   "metadata": {
    "id": "fUrg1AT_iEHv"
   },
   "source": [
    "### Adult"
   ]
  },
  {
   "cell_type": "markdown",
   "metadata": {
    "id": "i7dWK1ErSBiO"
   },
   "source": [
    "<font color='purple'>**(3)**</font> The hyperparameter for the highest accuracy on training data is at **C: 0.001**\n",
    "\n"
   ]
  },
  {
   "cell_type": "code",
   "execution_count": 44,
   "metadata": {
    "colab": {
     "base_uri": "https://localhost:8080/"
    },
    "id": "jN1W72q9iGbG",
    "outputId": "f42672f7-f980-429d-95b6-08bcf3b7af9b"
   },
   "outputs": [
    {
     "name": "stdout",
     "output_type": "stream",
     "text": [
      "After reweighing, the final accuracy score on the test data with hyperparameter C: 0.001 is 0.7919197433972566\n",
      "The Equality of Opportunity score at C: 0.001 is [0.03607506672931393]\n",
      "The disparate impact score is [0.7025889736823336]\n"
     ]
    }
   ],
   "source": [
    "#adult final scores at hyperparameter 0.001\n",
    "\n",
    "rw_finalscores(X_train_a, y_train_a, X_test_a, y_test_a,a_train, a_test, 0.001)"
   ]
  },
  {
   "cell_type": "markdown",
   "metadata": {
    "id": "2_QduZpYVi9N"
   },
   "source": [
    "> After reweighing, the <font color='purple'>**final *accuracy* score**</font> in testing data at hyperparameter C: 0.001 is <font color='purple'>**0.79192**</font>"
   ]
  },
  {
   "cell_type": "markdown",
   "metadata": {
    "id": "ur1eHuD8SrCd"
   },
   "source": [
    "<font color='darkorange'>**(4)**</font> The hyperparameter for the best Equality of Opportunity score on training data is at **C: 0.003**"
   ]
  },
  {
   "cell_type": "code",
   "execution_count": 45,
   "metadata": {
    "colab": {
     "base_uri": "https://localhost:8080/"
    },
    "id": "GacEA20aS5X4",
    "outputId": "4253cbd5-72ee-4666-c9da-fc7cc638727a"
   },
   "outputs": [
    {
     "name": "stdout",
     "output_type": "stream",
     "text": [
      "After reweighing, the final accuracy score on the test data with hyperparameter C: 0.003 is 0.7904183443663414\n",
      "The Equality of Opportunity score at C: 0.003 is [0.050140706381021916]\n",
      "The disparate impact score is [0.7250312798999043]\n"
     ]
    }
   ],
   "source": [
    "#adult final scores at hyperparameter 0.003\n",
    "\n",
    "rw_finalscores(X_train_a, y_train_a, X_test_a, y_test_a,a_train, a_test, 0.003)"
   ]
  },
  {
   "cell_type": "markdown",
   "metadata": {
    "id": "UoLamsl-V64w"
   },
   "source": [
    "> After reweighing, the <font color='orange'>**final *Equality of Opportunity* score**</font> on testing data at hyperparameter C: 0.003 is <font color='orange'>**0.05014**</font>"
   ]
  },
  {
   "cell_type": "markdown",
   "metadata": {
    "id": "m6PzBie4idbO"
   },
   "source": [
    "### German"
   ]
  },
  {
   "cell_type": "markdown",
   "metadata": {
    "id": "VMTIjL_TTP9Z"
   },
   "source": [
    "<font color='purple'>**(3)**</font> The hyperparameter for the highest accuracy on training data is at **C: 0.12**\n",
    "\n"
   ]
  },
  {
   "cell_type": "code",
   "execution_count": 46,
   "metadata": {
    "colab": {
     "base_uri": "https://localhost:8080/"
    },
    "id": "xew1qWa9TTEd",
    "outputId": "5049f1f9-6791-4d74-d3c6-4879d26e1a6b"
   },
   "outputs": [
    {
     "name": "stdout",
     "output_type": "stream",
     "text": [
      "After reweighing, the final accuracy score on the test data with hyperparameter C: 0.12 is 0.6366666666666667\n",
      "The Equality of Opportunity score at C: 0.12 is [-0.002936138977244984]\n",
      "The disparate impact score is [0.9815705128205129]\n"
     ]
    }
   ],
   "source": [
    "#german final scores at hyperparameter 0.012\n",
    "\n",
    "rw_finalscores(X_train_g, y_train_g, X_test_g, y_test_g,g_train, g_test, 0.12)"
   ]
  },
  {
   "cell_type": "markdown",
   "metadata": {
    "id": "uzjZCnYxVul8"
   },
   "source": [
    "> After reweighing, the <font color='purple'>**final *accuracy* score**</font> in testing data at hyperparameter C: 0.12 is <font color='purple'>**0.6566**</font>"
   ]
  },
  {
   "cell_type": "markdown",
   "metadata": {
    "id": "cqYBcWIW-FA1"
   },
   "source": [
    "<font color='darkorange'>**(4)**</font> The hyperparameter for the best Equality of Opportunity score on training data is at **C: 0.027**"
   ]
  },
  {
   "cell_type": "code",
   "execution_count": 47,
   "metadata": {
    "colab": {
     "base_uri": "https://localhost:8080/"
    },
    "id": "2gw68wJ9ie1a",
    "outputId": "d45a5eb7-5e1c-4849-c94a-697ddd7ae0e4"
   },
   "outputs": [
    {
     "name": "stdout",
     "output_type": "stream",
     "text": [
      "After reweighing, the final accuracy score on the test data with hyperparameter C: 0.027 is 0.6366666666666667\n",
      "The Equality of Opportunity score at C: 0.027 is [-0.002936138977244984]\n",
      "The disparate impact score is [0.9815705128205129]\n"
     ]
    }
   ],
   "source": [
    "#german final scores at hyperparameter 0.027\n",
    "\n",
    "rw_finalscores(X_train_g, y_train_g, X_test_g, y_test_g,g_train, g_test, 0.027)"
   ]
  },
  {
   "cell_type": "markdown",
   "metadata": {
    "id": "_ugc1OiqWFsi"
   },
   "source": [
    "> After reweighing, the <font color='orange'>**final *Equality of Opportunity* score**</font> on testing data at hyperparameter C: 0.027 is <font color='orange'>**-0.0029**</font>"
   ]
  },
  {
   "cell_type": "markdown",
   "metadata": {
    "id": "TxzClL920H7U"
   },
   "source": [
    "---"
   ]
  },
  {
   "cell_type": "markdown",
   "metadata": {
    "id": "SOYQG-zqDA5b"
   },
   "source": [
    "# **Task 3a (Extra)**\n",
    "\n",
    "Based on your observations, suggest a model selection strategy (criterion)\n",
    "that accounts for both, accuracy and fairness. Compare the standard machine learning model\n",
    "versus the fairness-based machine learning model using the proposed criterion - what is the effect\n",
    "(if any)?\n",
    "Specifically, using the same 5-fold cross validation as before, select (5) the standard machine\n",
    "learning model (studied in Task 1), and (6) the fairness-based model (studied in Task 2) based\n",
    "on the proposed accuracy+fairness criterion. After model selection, compute and report final\n",
    "accuracy and fairness for both models (5) and (6) on the test set."
   ]
  },
  {
   "cell_type": "markdown",
   "metadata": {
    "id": "q5xTwi9vNPxQ"
   },
   "source": [
    "What will I be looking at?\n",
    "\n",
    "For part (a) I shall be observing the combination of accuracy and fairness and comparing this with a standard machine learning model and a fairness based machine learning model. "
   ]
  },
  {
   "cell_type": "markdown",
   "metadata": {
    "id": "W1jcZ6c76hSQ"
   },
   "source": [
    "## (5a) Standard Machine Learning Model"
   ]
  },
  {
   "cell_type": "markdown",
   "metadata": {
    "id": "GzAlbTtUVwjc"
   },
   "source": [
    "### Functions"
   ]
  },
  {
   "cell_type": "code",
   "execution_count": 48,
   "metadata": {
    "id": "piXYuKXbFmjY"
   },
   "outputs": [],
   "source": [
    "#need to find a sweetspot between the fairness and accuracy\n",
    "#we want high accuracy and low equal opp \n",
    "#we would then want high 1-(low equal opp)\n",
    "#add (accuracy and high 1-(low equal opp)) - 1 would be the best combined score\n",
    "\n",
    "#looking into the f1 score \n",
    "\n",
    "def fairaccuracyf1(X_train, y_train, train, cvals):\n",
    "  #empty lists for our scores\n",
    "  acc_scores = []\n",
    "  fairness = []\n",
    "  equ_opp = []\n",
    "  avg_acc_scores = []\n",
    "  f1score = []\n",
    "\n",
    "#looping through each C value\n",
    "  for i in cvals:\n",
    "    #our model\n",
    "    clf = LogisticRegression(solver='liblinear', C=i, random_state=1)\n",
    "    #accuracy score\n",
    "    score = cross_val_score(clf, X_train, y_train, cv = 5)\n",
    "    #prediction labels for fairness\n",
    "    fair_pred = cross_val_predict(clf, X_train, y_train, cv = 5)\n",
    "    test_pred = train.copy()\n",
    "    test_pred.labels = fair_pred\n",
    "\n",
    "    #defining our metric\n",
    "    metric = ClassificationMetric(train, test_pred, unprivileged_groups=unprivileged_groups, privileged_groups=privileged_groups)\n",
    "\n",
    "    #recording the scores\n",
    "    equ_opp.append(metric.equal_opportunity_difference())\n",
    "    f1score.append(f1_score(y_train, fair_pred, average = 'macro'))\n",
    "    avg_acc = np.mean(score)\n",
    "    avg_acc_scores.append(np.mean(score))\n",
    "\n",
    "  #taking the absolute value for the Equality of Opportunity scores\n",
    "  absol_equ_opp = []\n",
    "  for value in equ_opp:\n",
    "    absolute = abs(value)\n",
    "    absol_equ_opp.append(absolute)\n",
    "\n",
    "  #combining the values of accuracy and Equality of Opportunity\n",
    "  combined = [i + (1-j) for (i, j) in zip(avg_acc_scores , absol_equ_opp)]\n",
    "\n",
    "\n",
    "  #re-scaling the combined value to be out of 1, closer to 1 is better\n",
    "  rescaledcombined = []\n",
    "  for value in combined:\n",
    "    rescaled = value - 1\n",
    "    rescaledcombined.append(rescaled)\n",
    "  \n",
    "  #the best scores\n",
    "  best_c = equ_opp.index(min(equ_opp, key= abs))\n",
    "  best_acc_c = avg_acc_scores.index(max(avg_acc_scores)) # we want this to be close to 1\n",
    "  best_combined = rescaledcombined.index(max(rescaledcombined)) # we want this to be close to 1\n",
    "  best_f1 = f1score.index(max(f1score)) #we want f1 score to be 1\n",
    "\n",
    "  print('Best accuracy score is at C: ', cvals[best_acc_c], 'with accuracy score of', max(avg_acc_scores))\n",
    "  print('Best Equality of Opportunity score is at C: ', cvals[best_c], 'with an equality of opportunity score of', min(equ_opp, key= abs))\n",
    "  print('Best f1 score is at C: ', cvals[best_f1], 'with a score of', max(f1score))\n",
    "  print('Best combined score is at C: ', cvals[best_combined], 'with a score of', max(rescaledcombined))\n",
    "  \n",
    "\n",
    "  #plotting the results\n",
    "  xplt = cvals\n",
    "  plt.figure(figsize = (10,6))\n",
    "  plt.scatter(xplt, rescaledcombined, color = 'darkviolet', label = 'Combined: Average and Equality of Opportunity')\n",
    "  plt.scatter(xplt, f1score, color = 'red', label = 'F1 Score')\n",
    "  plt.legend(loc='upper center', bbox_to_anchor=(0.5, -0.10),\n",
    "          fancybox=True, shadow=True)\n",
    "\n",
    "  font1 = {'family':'serif','color':'darkviolet','size':13}\n",
    "  font2 = {'family':'serif','color':'darkviolet','size':11}\n",
    "  plt.title('Sweet Spot', fontdict = font1, color = 'darkviolet')\n",
    "  plt.xlabel('C Value', fontdict = font2)\n",
    "  plt.ylabel('Score', fontdict = font2)\n",
    "  plt.show()\n",
    "  \n",
    "\n",
    "  #return(df) "
   ]
  },
  {
   "cell_type": "markdown",
   "metadata": {
    "id": "ffXCK43u6JFT"
   },
   "source": [
    "### Adult"
   ]
  },
  {
   "cell_type": "code",
   "execution_count": 49,
   "metadata": {
    "colab": {
     "base_uri": "https://localhost:8080/",
     "height": 513
    },
    "id": "24YtVZhlCVMC",
    "outputId": "2e386ef9-f0be-4d66-f212-38a2c72173c7"
   },
   "outputs": [
    {
     "name": "stdout",
     "output_type": "stream",
     "text": [
      "Best accuracy score is at C:  0.05 with accuracy score of 0.8043816906811315\n",
      "Best Equality of Opportunity score is at C:  0.005 with an equality of opportunity score of -0.45715522215810733\n",
      "Best f1 score is at C:  0.05 with a score of 0.6829809555455333\n",
      "Best combined score is at C:  0.005 with a score of 0.347167971886581\n"
     ]
    },
    {
     "data": {
      "image/png": "[encoded data removed]",
      "text/plain": [
       "<Figure size 720x432 with 1 Axes>"
      ]
     },
     "metadata": {
      "needs_background": "light"
     },
     "output_type": "display_data"
    }
   ],
   "source": [
    "#plotting results for a broud c\n",
    "\n",
    "fairaccuracyf1(X_train_a, y_train_a, a_train, c)"
   ]
  },
  {
   "cell_type": "markdown",
   "metadata": {
    "id": "-7qH1C1NCnRW"
   },
   "source": [
    "Exploring around 0.05"
   ]
  },
  {
   "cell_type": "code",
   "execution_count": 50,
   "metadata": {
    "colab": {
     "base_uri": "https://localhost:8080/",
     "height": 513
    },
    "id": "Sw-mtlTvGB4z",
    "outputId": "58f29c39-6018-44d5-fbb3-c33c84abadd7"
   },
   "outputs": [
    {
     "name": "stdout",
     "output_type": "stream",
     "text": [
      "Best accuracy score is at C:  0.021 with accuracy score of 0.8043816906811315\n",
      "Best Equality of Opportunity score is at C:  0.001 with an equality of opportunity score of -0.4464800923254472\n",
      "Best f1 score is at C:  0.021 with a score of 0.6829809555455333\n",
      "Best combined score is at C:  0.001 with a score of 0.3574336252641368\n"
     ]
    },
    {
     "data": {
      "image/png": "[encoded data removed]",
      "text/plain": [
       "<Figure size 720x432 with 1 Axes>"
      ]
     },
     "metadata": {
      "needs_background": "light"
     },
     "output_type": "display_data"
    }
   ],
   "source": [
    "#plotting results for a more refined c\n",
    "\n",
    "fairaccuracyf1(X_train_a, y_train_a, a_train, np.arange(0.001, 0.08, 0.005))"
   ]
  },
  {
   "cell_type": "markdown",
   "metadata": {
    "id": "ojet9Pt6C4WF"
   },
   "source": [
    "Exploring around 0.021"
   ]
  },
  {
   "cell_type": "code",
   "execution_count": 51,
   "metadata": {
    "colab": {
     "base_uri": "https://localhost:8080/",
     "height": 513
    },
    "id": "HovmFcpE-b8C",
    "outputId": "0d31a2c3-f0cb-4c79-fe1b-f3e38d35ddfd"
   },
   "outputs": [
    {
     "name": "stdout",
     "output_type": "stream",
     "text": [
      "Best accuracy score is at C:  0.016999999999999994 with accuracy score of 0.8043816906811315\n",
      "Best Equality of Opportunity score is at C:  0.01 with an equality of opportunity score of -0.45715522215810733\n",
      "Best f1 score is at C:  0.016999999999999994 with a score of 0.6829809555455333\n",
      "Best combined score is at C:  0.01 with a score of 0.347167971886581\n"
     ]
    },
    {
     "data": {
      "image/png": "[encoded data removed]",
      "text/plain": [
       "<Figure size 720x432 with 1 Axes>"
      ]
     },
     "metadata": {
      "needs_background": "light"
     },
     "output_type": "display_data"
    }
   ],
   "source": [
    "#plotting results for a more refined c\n",
    "\n",
    "fairaccuracyf1(X_train_a, y_train_a, a_train, np.arange(0.01, 0.03, 0.001))"
   ]
  },
  {
   "cell_type": "markdown",
   "metadata": {
    "id": "mNsGlREi7Pjl"
   },
   "source": [
    "### German"
   ]
  },
  {
   "cell_type": "code",
   "execution_count": 52,
   "metadata": {
    "colab": {
     "base_uri": "https://localhost:8080/",
     "height": 513
    },
    "id": "iMpu3HkNEBCF",
    "outputId": "156223f6-75c2-467c-cd44-cb36dc75dc71"
   },
   "outputs": [
    {
     "name": "stdout",
     "output_type": "stream",
     "text": [
      "Best accuracy score is at C:  0.01 with accuracy score of 0.7185714285714286\n",
      "Best Equality of Opportunity score is at C:  0.05 with an equality of opportunity score of -0.050097847358121395\n",
      "Best f1 score is at C:  0.005 with a score of 0.5569887959190813\n",
      "Best combined score is at C:  0.05 with a score of 0.6656164383561642\n"
     ]
    },
    {
     "data": {
      "image/png": "[encoded data removed]",
      "text/plain": [
       "<Figure size 720x432 with 1 Axes>"
      ]
     },
     "metadata": {
      "needs_background": "light"
     },
     "output_type": "display_data"
    }
   ],
   "source": [
    "#plotting results for a broud c\n",
    "\n",
    "fairaccuracyf1(X_train_g, y_train_g, g_train, c)"
   ]
  },
  {
   "cell_type": "code",
   "execution_count": 53,
   "metadata": {
    "colab": {
     "base_uri": "https://localhost:8080/",
     "height": 513
    },
    "id": "-A-PffasDmtf",
    "outputId": "edc70b2e-433b-4d66-8542-2d4f096669dc"
   },
   "outputs": [
    {
     "name": "stdout",
     "output_type": "stream",
     "text": [
      "Best accuracy score is at C:  0.009000000000000001 with accuracy score of 0.7185714285714286\n",
      "Best Equality of Opportunity score is at C:  0.05 with an equality of opportunity score of -0.050097847358121395\n",
      "Best f1 score is at C:  0.001 with a score of 0.5719406041986688\n",
      "Best combined score is at C:  0.05 with a score of 0.6656164383561642\n"
     ]
    },
    {
     "data": {
      "image/png": "[encoded data removed]",
      "text/plain": [
       "<Figure size 720x432 with 1 Axes>"
      ]
     },
     "metadata": {
      "needs_background": "light"
     },
     "output_type": "display_data"
    }
   ],
   "source": [
    "#plotting results for a more refined c around 0.005\n",
    "\n",
    "fairaccuracyf1(X_train_g, y_train_g, g_train,  np.arange(0.001, 0.08, 0.001))"
   ]
  },
  {
   "cell_type": "code",
   "execution_count": 54,
   "metadata": {
    "colab": {
     "base_uri": "https://localhost:8080/",
     "height": 513
    },
    "id": "Hyuso29WD4ky",
    "outputId": "1f7f4e23-759d-4976-8d99-32d94b9ee3a1"
   },
   "outputs": [
    {
     "name": "stdout",
     "output_type": "stream",
     "text": [
      "Best accuracy score is at C:  0.008199999999999999 with accuracy score of 0.7185714285714286\n",
      "Best Equality of Opportunity score is at C:  0.0028 with an equality of opportunity score of -0.05352250489236787\n",
      "Best f1 score is at C:  0.001 with a score of 0.5719406041986688\n",
      "Best combined score is at C:  0.0028 with a score of 0.6636203522504893\n"
     ]
    },
    {
     "data": {
      "image/png": "[encoded data removed]",
      "text/plain": [
       "<Figure size 720x432 with 1 Axes>"
      ]
     },
     "metadata": {
      "needs_background": "light"
     },
     "output_type": "display_data"
    }
   ],
   "source": [
    "#plotting results for a more refined c around 0.005\n",
    "\n",
    "fairaccuracyf1(X_train_g, y_train_g, g_train,  np.arange(0.001, 0.03, 0.0009))"
   ]
  },
  {
   "cell_type": "code",
   "execution_count": 55,
   "metadata": {
    "colab": {
     "base_uri": "https://localhost:8080/",
     "height": 513
    },
    "id": "mt9YLpooehzO",
    "outputId": "cf3072ac-4499-4baa-85a6-907616405e19"
   },
   "outputs": [
    {
     "name": "stdout",
     "output_type": "stream",
     "text": [
      "Best accuracy score is at C:  0.011 with accuracy score of 0.7185714285714286\n",
      "Best Equality of Opportunity score is at C:  0.051000000000000004 with an equality of opportunity score of -0.050097847358121395\n",
      "Best f1 score is at C:  0.001 with a score of 0.5719406041986688\n",
      "Best combined score is at C:  0.051000000000000004 with a score of 0.6656164383561642\n"
     ]
    },
    {
     "data": {
      "image/png": "[encoded data removed]",
      "text/plain": [
       "<Figure size 720x432 with 1 Axes>"
      ]
     },
     "metadata": {
      "needs_background": "light"
     },
     "output_type": "display_data"
    }
   ],
   "source": [
    "#plotting results for a more refined c around 0.0028\n",
    "\n",
    "fairaccuracyf1(X_train_g, y_train_g, g_train,  np.arange(0.001, 0.08, 0.005))"
   ]
  },
  {
   "cell_type": "markdown",
   "metadata": {
    "id": "iUGqKHPnDE69"
   },
   "source": [
    "## (6a) Fairness-based Machine Learning Model"
   ]
  },
  {
   "cell_type": "markdown",
   "metadata": {
    "id": "U3wADwyW7S9p"
   },
   "source": [
    "### Functions"
   ]
  },
  {
   "cell_type": "code",
   "execution_count": 56,
   "metadata": {
    "id": "jjix1AKWvvVi"
   },
   "outputs": [],
   "source": [
    "#need to find a sweetspot between the fairness and accuracy\n",
    "#we want high accuracy and low equal opp \n",
    "#we would then want high 1-(low equal opp)\n",
    "#add (accuracy and high 1-(low equal opp)) - 1 would be the best combined score\n",
    "\n",
    "#looking into the f1 score \n",
    "\n",
    "def rw_fairaccuracyf1(X_train, y_train, train, cvals):\n",
    "  #empty lists for our scores\n",
    "  acc_scores = []\n",
    "  fairness = []\n",
    "  equ_opp = []\n",
    "  avg_acc_scores = []\n",
    "  f1score = []\n",
    "  #mitgating the bias\n",
    "  #assigning the new weights to the unprivileged and privileged groups, transform the dataset with reweighing\n",
    "  RW = Reweighing(unprivileged_groups=unprivileged_groups,\n",
    "                privileged_groups=privileged_groups)\n",
    "  #obtaining a set of weights for the training set\n",
    "  train = RW.fit_transform(train)\n",
    "\n",
    "\n",
    "#looping through each C value\n",
    "  for i in cvals:\n",
    "    #our model\n",
    "    clf = LogisticRegression(solver='liblinear', C=i, random_state=1)\n",
    "    #accuracy score\n",
    "    score = cross_val_score(clf, X_train, y_train, fit_params={'sample_weight': train.instance_weights}, cv = 5)\n",
    "    #prediction labels for fairness\n",
    "    fair_pred = cross_val_predict(clf, X_train, y_train, fit_params={'sample_weight': train.instance_weights}, cv = 5)\n",
    "    test_pred = train.copy()\n",
    "    test_pred.labels = fair_pred\n",
    "\n",
    "    #defining our metric\n",
    "    metric = ClassificationMetric(train, test_pred, unprivileged_groups=unprivileged_groups, privileged_groups=privileged_groups)\n",
    "\n",
    "    #recording the scores\n",
    "    equ_opp.append(metric.equal_opportunity_difference())\n",
    "    f1score.append(f1_score(y_train, fair_pred, average = 'macro'))\n",
    "    avg_acc = np.mean(score)\n",
    "    avg_acc_scores.append(np.mean(score))\n",
    "\n",
    "  #taking the absolute value for the Equality of Opportunity scores\n",
    "  absol_equ_opp = []\n",
    "  for value in equ_opp:\n",
    "    absolute = abs(value)\n",
    "    absol_equ_opp.append(absolute)\n",
    "\n",
    "  #combining the values of accuracy and Equality of Opportunity\n",
    "  combined = [i + (1-j) for (i, j) in zip(avg_acc_scores , absol_equ_opp)]\n",
    "\n",
    "\n",
    "  #re-scaling the combined value to be out of 1, closer to 1 is better\n",
    "  rescaledcombined = []\n",
    "  for value in combined:\n",
    "    rescaled = value - 1\n",
    "    rescaledcombined.append(rescaled)\n",
    "  \n",
    "  best_c = equ_opp.index(min(equ_opp, key= abs))\n",
    "  best_acc_c = avg_acc_scores.index(max(avg_acc_scores))\n",
    "  best_combined = rescaledcombined.index(max(rescaledcombined)) # we want this to be \n",
    "  best_f1 = f1score.index(max(f1score)) #we want f1 score to be 1\n",
    "\n",
    "  print('Best accuracy score is at C: ', cvals[best_acc_c], 'with accuracy score of', max(avg_acc_scores))\n",
    "  print('Best Equality of Opportunity score is at C: ', cvals[best_c], 'with an equality of opportunity score of', min(equ_opp, key= abs))\n",
    "  print('Best f1 score is at C: ', cvals[best_f1], 'with a score of', max(f1score))\n",
    "  print('Best combined score is at C: ', cvals[best_combined], 'with a score of', max(rescaledcombined))\n",
    "  \n",
    "  #plotting the graph\n",
    "  xplt = cvals\n",
    "  plt.figure(figsize = (10,6))\n",
    "  plt.scatter(xplt, rescaledcombined, color = 'darkturquoise', label = 'Combined: Average and Equality of Opportunity')\n",
    "  plt.scatter(xplt, f1score, color = 'coral', label = 'F1 Score')\n",
    "  plt.legend(loc='upper center', bbox_to_anchor=(0.5, -0.10),\n",
    "          fancybox=True, shadow=True)\n",
    "\n",
    "  font1 = {'family':'serif','color':'darkturquoise','size':13}\n",
    "  font2 = {'family':'serif','color':'darkturquoise','size':11}\n",
    "  plt.title('Reweighed Scores', fontdict = font1, color = 'darkturquoise')\n",
    "  plt.xlabel('C Value', fontdict = font2)\n",
    "  plt.ylabel('Score', fontdict = font2)\n",
    "  plt.show()\n",
    "  \n",
    "\n",
    "  #return(df) "
   ]
  },
  {
   "cell_type": "markdown",
   "metadata": {
    "id": "Dims5wRq7WI6"
   },
   "source": [
    "### Adult"
   ]
  },
  {
   "cell_type": "code",
   "execution_count": 57,
   "metadata": {
    "colab": {
     "base_uri": "https://localhost:8080/",
     "height": 513
    },
    "id": "mY_elsViFIqT",
    "outputId": "b808a8ab-5674-4b7f-c93d-494bcd5e7f0b"
   },
   "outputs": [
    {
     "name": "stdout",
     "output_type": "stream",
     "text": [
      "Best accuracy score is at C:  0.05 with accuracy score of 0.7884409465674679\n",
      "Best Equality of Opportunity score is at C:  0.01 with an equality of opportunity score of -0.011180795108922947\n",
      "Best f1 score is at C:  0.005 with a score of 0.6794571444787936\n",
      "Best combined score is at C:  0.01 with a score of 0.776762930048776\n"
     ]
    },
    {
     "data": {
      "image/png": "[encoded data removed]",
      "text/plain": [
       "<Figure size 720x432 with 1 Axes>"
      ]
     },
     "metadata": {
      "needs_background": "light"
     },
     "output_type": "display_data"
    }
   ],
   "source": [
    "rw_fairaccuracyf1(X_train_a, y_train_a, a_train, c)"
   ]
  },
  {
   "cell_type": "code",
   "execution_count": 58,
   "metadata": {
    "colab": {
     "base_uri": "https://localhost:8080/",
     "height": 513
    },
    "id": "67QWkEzKFvny",
    "outputId": "8956b363-846b-485f-cb4b-d0a17eabd53e"
   },
   "outputs": [
    {
     "name": "stdout",
     "output_type": "stream",
     "text": [
      "Best accuracy score is at C:  0.014799999999999997 with accuracy score of 0.7884409465674679\n",
      "Best Equality of Opportunity score is at C:  0.004 with an equality of opportunity score of -0.0021185994499224314\n",
      "Best f1 score is at C:  0.004 with a score of 0.6797792820673395\n",
      "Best combined score is at C:  0.004 with a score of 0.7859421147027172\n"
     ]
    },
    {
     "data": {
      "image/png": "[encoded data removed]",
      "text/plain": [
       "<Figure size 720x432 with 1 Axes>"
      ]
     },
     "metadata": {
      "needs_background": "light"
     },
     "output_type": "display_data"
    }
   ],
   "source": [
    "rw_fairaccuracyf1(X_train_a, y_train_a, a_train, np.arange(0.004, 0.06, 0.0009))"
   ]
  },
  {
   "cell_type": "code",
   "execution_count": 59,
   "metadata": {
    "colab": {
     "base_uri": "https://localhost:8080/",
     "height": 513
    },
    "id": "P1J2paIqZx8d",
    "outputId": "81904079-9127-49a4-d1bd-d43c06d0e50f"
   },
   "outputs": [
    {
     "name": "stdout",
     "output_type": "stream",
     "text": [
      "Best accuracy score is at C:  0.001 with accuracy score of 0.7891137006660291\n",
      "Best Equality of Opportunity score is at C:  0.0031600000000000005 with an equality of opportunity score of -0.0021185994499224314\n",
      "Best f1 score is at C:  0.001 with a score of 0.6830599074062617\n",
      "Best combined score is at C:  0.0031600000000000005 with a score of 0.7859421147027172\n"
     ]
    },
    {
     "data": {
      "image/png": "[encoded data removed]",
      "text/plain": [
       "<Figure size 720x432 with 1 Axes>"
      ]
     },
     "metadata": {
      "needs_background": "light"
     },
     "output_type": "display_data"
    }
   ],
   "source": [
    "rw_fairaccuracyf1(X_train_a, y_train_a, a_train, np.arange(0.001, 0.02, 0.00009))"
   ]
  },
  {
   "cell_type": "markdown",
   "metadata": {
    "id": "Lia8YLES7XkI"
   },
   "source": [
    "### German"
   ]
  },
  {
   "cell_type": "code",
   "execution_count": 60,
   "metadata": {
    "colab": {
     "base_uri": "https://localhost:8080/",
     "height": 513
    },
    "id": "zPFz_4lvEM7G",
    "outputId": "a885aee9-1695-4722-91ab-c3aaf3ce1c39"
   },
   "outputs": [
    {
     "name": "stdout",
     "output_type": "stream",
     "text": [
      "Best accuracy score is at C:  0.5 with accuracy score of 0.7128571428571429\n",
      "Best Equality of Opportunity score is at C:  0.01 with an equality of opportunity score of 0.0031311154598824276\n",
      "Best f1 score is at C:  0.005 with a score of 0.5257516199573378\n",
      "Best combined score is at C:  0.005 with a score of 0.7040900195694717\n"
     ]
    },
    {
     "data": {
      "image/png": "[encoded data removed]",
      "text/plain": [
       "<Figure size 720x432 with 1 Axes>"
      ]
     },
     "metadata": {
      "needs_background": "light"
     },
     "output_type": "display_data"
    }
   ],
   "source": [
    "rw_fairaccuracyf1(X_train_g, y_train_g, g_train, c)"
   ]
  },
  {
   "cell_type": "code",
   "execution_count": 61,
   "metadata": {
    "colab": {
     "base_uri": "https://localhost:8080/",
     "height": 513
    },
    "id": "j6hXBW9qZ858",
    "outputId": "810da4f8-c595-4232-ec85-5e2d5a669c3b"
   },
   "outputs": [
    {
     "name": "stdout",
     "output_type": "stream",
     "text": [
      "Best accuracy score is at C:  0.0019 with accuracy score of 0.7214285714285714\n",
      "Best Equality of Opportunity score is at C:  0.0271 with an equality of opportunity score of -0.000684931506849451\n",
      "Best f1 score is at C:  0.0019 with a score of 0.5726776674774834\n",
      "Best combined score is at C:  0.0046 with a score of 0.7063796477495106\n"
     ]
    },
    {
     "data": {
      "image/png": "[encoded data removed]",
      "text/plain": [
       "<Figure size 720x432 with 1 Axes>"
      ]
     },
     "metadata": {
      "needs_background": "light"
     },
     "output_type": "display_data"
    }
   ],
   "source": [
    "rw_fairaccuracyf1(X_train_g, y_train_g, g_train, np.arange(0.001, 0.2, 0.0009) )"
   ]
  },
  {
   "cell_type": "markdown",
   "metadata": {
    "id": "o6jv482K-C0K"
   },
   "source": [
    "## Task 3a: Compute and Report the Final Scores"
   ]
  },
  {
   "cell_type": "markdown",
   "metadata": {
    "id": "zqlTWMDz_OQK"
   },
   "source": [
    "### Adult"
   ]
  },
  {
   "cell_type": "markdown",
   "metadata": {
    "id": "56ky20QY-pXp"
   },
   "source": [
    "<font color='darkviolet'> **(5a) Standard Logistic Regression Model**</font>"
   ]
  },
  {
   "cell_type": "code",
   "execution_count": 62,
   "metadata": {
    "colab": {
     "base_uri": "https://localhost:8080/"
    },
    "id": "8UN-mREE-EmU",
    "outputId": "7d9e0612-d511-4e00-ed19-84a1cf0c2240"
   },
   "outputs": [
    {
     "name": "stdout",
     "output_type": "stream",
     "text": [
      "The final Accuracy score on the test data with hyperparameter C: 0.01 is 0.8039991810550741\n",
      "The final Equality of Opportunity score at C: 0.01 is [-0.4581379772270596]\n",
      "The disparate impact score is [0.0]\n"
     ]
    }
   ],
   "source": [
    "finalscores(X_train_a, y_train_a, X_test_a, y_test_a, a_test, 0.01)"
   ]
  },
  {
   "cell_type": "markdown",
   "metadata": {
    "id": "qjyBGV_CQdAs"
   },
   "source": [
    "> The <font color='darkviolet'>**final *accuracy* score**</font> in testing data at hyperparameter C: 0.01 is <font color='darkviolet'>**0.8040**</font> and the <font color='darkviolet'>**final *Equality of Opportunity* score**</font> is <font color='darkviolet'>**-0.45814**</font>"
   ]
  },
  {
   "cell_type": "markdown",
   "metadata": {
    "id": "4MdWHmid-7Li"
   },
   "source": [
    "\n",
    "\n",
    "<font color='darkturquoise'> **(6a) Fairness-based Logistic Regression Model**</font>"
   ]
  },
  {
   "cell_type": "code",
   "execution_count": 63,
   "metadata": {
    "colab": {
     "base_uri": "https://localhost:8080/"
    },
    "id": "WpFDbmv3-mFl",
    "outputId": "1de73776-d187-4fdd-82be-b4ed431307f4"
   },
   "outputs": [
    {
     "name": "stdout",
     "output_type": "stream",
     "text": [
      "After reweighing, the final accuracy score on the test data with hyperparameter C: 0.032 is 0.7909643076503106\n",
      "The Equality of Opportunity score at C: 0.032 is [0.02028996011236517]\n",
      "The disparate impact score is [0.6827554035209011]\n"
     ]
    }
   ],
   "source": [
    "rw_finalscores(X_train_a, y_train_a, X_test_a, y_test_a,a_train, a_test, 0.032)"
   ]
  },
  {
   "cell_type": "markdown",
   "metadata": {
    "id": "mtV1Bi4wSJx6"
   },
   "source": [
    "> The <font color='darkturquoise'>**final *accuracy* score**</font> in testing data at hyperparameter C: 0.032 is <font color='darkturquoise'>**0.79096**</font> and the <font color='darkturquoise'>**final *Equality of Opportunity* score**</font> is <font color='darkturquoise'>**-0.02029**</font>"
   ]
  },
  {
   "cell_type": "markdown",
   "metadata": {
    "id": "kX7RdeQm_gyi"
   },
   "source": [
    "### German"
   ]
  },
  {
   "cell_type": "markdown",
   "metadata": {
    "id": "tlJn1c6L_g1g"
   },
   "source": [
    "<font color='darkviolet'> **(5a) Standard Logistic Regression Model**</font>"
   ]
  },
  {
   "cell_type": "code",
   "execution_count": 64,
   "metadata": {
    "colab": {
     "base_uri": "https://localhost:8080/"
    },
    "id": "o06frmKCAJpN",
    "outputId": "b5b79cf6-f080-4122-f277-1ebe9d2334e6"
   },
   "outputs": [
    {
     "name": "stdout",
     "output_type": "stream",
     "text": [
      "The final Accuracy score on the test data with hyperparameter C: 0.051 is 0.6466666666666666\n",
      "The final Equality of Opportunity score at C: 0.051 is [-0.1504771225838023]\n",
      "The disparate impact score is [0.7754407051282051]\n"
     ]
    }
   ],
   "source": [
    "finalscores(X_train_g, y_train_g, X_test_g, y_test_g, g_test, 0.051)"
   ]
  },
  {
   "cell_type": "markdown",
   "metadata": {
    "id": "gqNSt06vPokX"
   },
   "source": [
    "> The <font color='darkviolet'>**final *accuracy* score**</font> in testing data at hyperparameter C: 0.051 is <font color='darkviolet'>**0.646667**</font> and the <font color='darkviolet'>**final *Equality of Opportunity* score**</font> is <font color='darkviolet'>**-0.150477**</font>"
   ]
  },
  {
   "cell_type": "markdown",
   "metadata": {
    "id": "-k2gYnlMAGUG"
   },
   "source": [
    "<font color='darkturquoise'> **(6a) Fairness-based Logistic Regression Model**</font>"
   ]
  },
  {
   "cell_type": "code",
   "execution_count": 65,
   "metadata": {
    "colab": {
     "base_uri": "https://localhost:8080/"
    },
    "id": "uupOvv7A-jW8",
    "outputId": "dcf553a8-ac1f-497c-d70d-69d0ddcc9401"
   },
   "outputs": [
    {
     "name": "stdout",
     "output_type": "stream",
     "text": [
      "After reweighing, the final accuracy score on the test data with hyperparameter C: 0.046 is 0.6366666666666667\n",
      "The Equality of Opportunity score at C: 0.046 is [-0.002936138977244984]\n",
      "The disparate impact score is [0.9815705128205129]\n"
     ]
    }
   ],
   "source": [
    "rw_finalscores(X_train_g, y_train_g, X_test_g, y_test_g,g_train, g_test, 0.046)"
   ]
  },
  {
   "cell_type": "markdown",
   "metadata": {
    "id": "Tg-b22zsRTLY"
   },
   "source": [
    "> The <font color='darkturquoise'>**final *accuracy* score**</font> in testing data at hyperparameter C: 0.046 is <font color='darkturquoise'>**0.636667**</font> and the <font color='darkturquoise'>**final *Equality of Opportunity* score**</font> is <font color='darkturquoise'>**-0.00294**</font>"
   ]
  },
  {
   "cell_type": "markdown",
   "metadata": {
    "id": "ObIR16SvBe6O"
   },
   "source": [
    "# **Task 3b (Extra)** "
   ]
  },
  {
   "cell_type": "markdown",
   "metadata": {
    "id": "kpTzSsL2GLwO"
   },
   "source": [
    "This task will be using the metric *F1 Score* in the combined score to work out the optimal model. "
   ]
  },
  {
   "cell_type": "markdown",
   "metadata": {
    "id": "HVLNtHgCG9Ce"
   },
   "source": [
    "## (5b) Standard Machine Learning Model "
   ]
  },
  {
   "cell_type": "markdown",
   "metadata": {
    "id": "mq0T_K_TIjJw"
   },
   "source": [
    "### Functions"
   ]
  },
  {
   "cell_type": "code",
   "execution_count": 66,
   "metadata": {
    "id": "ddKsHVAlCCnx"
   },
   "outputs": [],
   "source": [
    "#need to find a sweetspot between the fairness and accuracy\n",
    "#we want high accuracy and low equal opp \n",
    "#we would then want high 1-(low equal opp)\n",
    "#add (accuracy and high 1-(low equal opp)) - 1 would be the best combined score\n",
    "\n",
    "#looking into the f1 score \n",
    "\n",
    "def fairf1combined(X_train, y_train, train, cvals):\n",
    "  #empty lists for our scores\n",
    "  fairness = []\n",
    "  equ_opp = []\n",
    "  f1score = []\n",
    "\n",
    "#looping through each C value\n",
    "  for i in cvals:\n",
    "    #our model\n",
    "    clf = LogisticRegression(solver='liblinear', C=i, random_state=1)\n",
    "    #accuracy score\n",
    "    score = cross_val_score(clf, X_train, y_train, cv = 5)\n",
    "    #prediction labels for fairness\n",
    "    fair_pred = cross_val_predict(clf, X_train, y_train, cv = 5)\n",
    "    test_pred = train.copy()\n",
    "    test_pred.labels = fair_pred\n",
    "\n",
    "    #defining our metric\n",
    "    metric = ClassificationMetric(train, test_pred, unprivileged_groups=unprivileged_groups, privileged_groups=privileged_groups)\n",
    "\n",
    "    #recording the scores\n",
    "    equ_opp.append(metric.equal_opportunity_difference())\n",
    "    f1score.append(f1_score(y_train, fair_pred, average = 'macro'))\n",
    "\n",
    "  #taking the absolute value for the Equality of Opportunity scores\n",
    "  absol_equ_opp = []\n",
    "  for value in equ_opp:\n",
    "    absolute = abs(value)\n",
    "    absol_equ_opp.append(absolute)\n",
    "\n",
    "  #combining the values of f1 scoreand Equality of Opportunity\n",
    "  combined = [(1-j) + k for (j, k) in zip(absol_equ_opp, f1score)]\n",
    "\n",
    "\n",
    "  #re-scaling the combined value to be out of 1, closer to 1 is better\n",
    "  rescaledcombined = []\n",
    "  for value in combined:\n",
    "    rescaled = value - 1\n",
    "    rescaledcombined.append(rescaled)\n",
    "  \n",
    "  best_c = equ_opp.index(min(equ_opp, key= abs)) #we want this to be closest to 0\n",
    "  best_combined = rescaledcombined.index(max(rescaledcombined)) # we want this to be 1\n",
    "  best_f1 = f1score.index(max(f1score)) #we want f1 score to be 1\n",
    "\n",
    "  #printing the values\n",
    "  print('Best Equality of Opportunity score is at C: ', cvals[best_c], 'with an equality of opportunity score of', min(equ_opp, key= abs))\n",
    "  print('Best f1 score is at C: ', cvals[best_f1], 'with a score of', max(f1score))\n",
    "  print('Best combined score is at C: ', cvals[best_combined], 'with a score of', max(rescaledcombined))\n",
    "  \n",
    "  #plotting the graph\n",
    "  xplt = cvals\n",
    "  plt.figure(figsize = (10,6))\n",
    "  plt.scatter(xplt, rescaledcombined, color = 'darkgreen', label = 'Combined: Average, F1 and Equality of Opportunity Scores')\n",
    "  plt.legend(loc='upper center', bbox_to_anchor=(0.5, -0.10),\n",
    "          fancybox=True, shadow=True)\n",
    "\n",
    "  font1 = {'family':'serif','color':'darkgreen','size':13}\n",
    "  font2 = {'family':'serif','color':'darkgreen','size':11}\n",
    "  plt.title('Combined Scores', fontdict = font1, color = 'darkviolet')\n",
    "  plt.xlabel('C Value', fontdict = font2)\n",
    "  plt.ylabel('Score', fontdict = font2)\n",
    "  plt.show()\n",
    "  \n",
    "\n",
    "  #return(df) "
   ]
  },
  {
   "cell_type": "markdown",
   "metadata": {
    "id": "0YapvbZAIGwH"
   },
   "source": [
    "### Adult "
   ]
  },
  {
   "cell_type": "code",
   "execution_count": 67,
   "metadata": {
    "colab": {
     "base_uri": "https://localhost:8080/",
     "height": 481
    },
    "id": "6Pe4jkfSFLmz",
    "outputId": "84f13512-3c00-4bba-fccd-77f329c02c2d"
   },
   "outputs": [
    {
     "name": "stdout",
     "output_type": "stream",
     "text": [
      "Best Equality of Opportunity score is at C:  0.001 with an equality of opportunity score of -0.4464800923254472\n",
      "Best f1 score is at C:  0.017 with a score of 0.6829809555455333\n",
      "Best combined score is at C:  0.001 with a score of 0.23314021908236526\n"
     ]
    },
    {
     "data": {
      "image/png": "[encoded data removed]",
      "text/plain": [
       "<Figure size 720x432 with 1 Axes>"
      ]
     },
     "metadata": {
      "needs_background": "light"
     },
     "output_type": "display_data"
    }
   ],
   "source": [
    "fairf1combined(X_train_a, y_train_a, a_train, np.arange(0.001, 0.03, 0.002))"
   ]
  },
  {
   "cell_type": "markdown",
   "metadata": {
    "id": "i9RdMh6DIWHl"
   },
   "source": [
    "### German"
   ]
  },
  {
   "cell_type": "code",
   "execution_count": 68,
   "metadata": {
    "colab": {
     "base_uri": "https://localhost:8080/",
     "height": 481
    },
    "id": "7KeJHLf3IYNm",
    "outputId": "bfe01374-723f-4d41-96cb-b845d5eaf7e3"
   },
   "outputs": [
    {
     "name": "stdout",
     "output_type": "stream",
     "text": [
      "Best Equality of Opportunity score is at C:  0.05 with an equality of opportunity score of -0.050097847358121395\n",
      "Best f1 score is at C:  0.005 with a score of 0.5569887959190813\n",
      "Best combined score is at C:  0.005 with a score of 0.49250738691712437\n"
     ]
    },
    {
     "data": {
      "image/png": "[encoded data removed]",
      "text/plain": [
       "<Figure size 720x432 with 1 Axes>"
      ]
     },
     "metadata": {
      "needs_background": "light"
     },
     "output_type": "display_data"
    }
   ],
   "source": [
    "fairf1combined(X_train_g, y_train_g, g_train, c)"
   ]
  },
  {
   "cell_type": "code",
   "execution_count": 69,
   "metadata": {
    "colab": {
     "base_uri": "https://localhost:8080/",
     "height": 481
    },
    "id": "WvXryyudIyvN",
    "outputId": "5f14f38e-ce8c-4674-9516-348fa4768fd8"
   },
   "outputs": [
    {
     "name": "stdout",
     "output_type": "stream",
     "text": [
      "Best Equality of Opportunity score is at C:  0.051000000000000004 with an equality of opportunity score of -0.050097847358121395\n",
      "Best f1 score is at C:  0.001 with a score of 0.5719406041986688\n",
      "Best combined score is at C:  0.003 with a score of 0.5159089955736154\n"
     ]
    },
    {
     "data": {
      "image/png": "[encoded data removed]",
      "text/plain": [
       "<Figure size 720x432 with 1 Axes>"
      ]
     },
     "metadata": {
      "needs_background": "light"
     },
     "output_type": "display_data"
    }
   ],
   "source": [
    "fairf1combined(X_train_g, y_train_g, g_train, np.arange(0.001, 0.2, 0.002))"
   ]
  },
  {
   "cell_type": "markdown",
   "metadata": {
    "id": "uq7trdAEJ2K3"
   },
   "source": []
  },
  {
   "cell_type": "markdown",
   "metadata": {
    "id": "qwf9Z0EsHF1W"
   },
   "source": [
    "## (6b) Fairness-based Machine Learning Model"
   ]
  },
  {
   "cell_type": "markdown",
   "metadata": {
    "id": "LNwf4UiKJpyO"
   },
   "source": [
    "### Functions"
   ]
  },
  {
   "cell_type": "code",
   "execution_count": 70,
   "metadata": {
    "id": "rkQvmDdSFYxf"
   },
   "outputs": [],
   "source": [
    "#need to find a sweetspot between the fairness and accuracy\n",
    "#we want high accuracy and low equal opp \n",
    "#we would then want high 1-(low equal opp)\n",
    "#add (accuracy and high 1-(low equal opp)) - 1 would be the best combined score\n",
    "\n",
    "#looking into the f1 score \n",
    "\n",
    "def rw_fairaccuracyf1combined(X_train, y_train, train, cvals):\n",
    "  #empty lists for our scores\n",
    "  fairness = []\n",
    "  equ_opp = []\n",
    "  f1score = []\n",
    "  #mitgating the bias\n",
    "  #assigning the new weights to the unprivileged and privileged groups, transform the dataset with reweighing\n",
    "  RW = Reweighing(unprivileged_groups=unprivileged_groups,\n",
    "                privileged_groups=privileged_groups)\n",
    "  #obtaining a set of weights for the training set\n",
    "  train = RW.fit_transform(train)\n",
    "\n",
    "\n",
    "#looping through each C value\n",
    "  for i in cvals:\n",
    "    #our model\n",
    "    clf = LogisticRegression(solver='liblinear', C=i, random_state=1)\n",
    "    #accuracy score\n",
    "    score = cross_val_score(clf, X_train, y_train, fit_params={'sample_weight': train.instance_weights}, cv = 5)\n",
    "    #prediction labels for fairness\n",
    "    fair_pred = cross_val_predict(clf, X_train, y_train, fit_params={'sample_weight': train.instance_weights}, cv = 5)\n",
    "    test_pred = train.copy()\n",
    "    test_pred.labels = fair_pred\n",
    "\n",
    "    #defining our metric\n",
    "    metric = ClassificationMetric(train, test_pred, unprivileged_groups=unprivileged_groups, privileged_groups=privileged_groups)\n",
    "\n",
    "    #recording the scores\n",
    "    equ_opp.append(metric.equal_opportunity_difference())\n",
    "    f1score.append(f1_score(y_train, fair_pred, average = 'macro'))\n",
    "\n",
    "  #taking the absolute value for the Equality of Opportunity scores\n",
    "  absol_equ_opp = []\n",
    "  for value in equ_opp:\n",
    "    absolute = abs(value)\n",
    "    absol_equ_opp.append(absolute)\n",
    "\n",
    "  #combining the values of accuracy and Equality of Opportunity\n",
    "  combined = [(1-j) + k for (j, k) in zip(absol_equ_opp, f1score)]\n",
    "\n",
    "\n",
    "  #re-scaling the combined value to be out of 1, closer to 1 is better\n",
    "  rescaledcombined = []\n",
    "  for value in combined:\n",
    "    rescaled = value - 1\n",
    "    rescaledcombined.append(rescaled)\n",
    "  \n",
    "  best_c = equ_opp.index(min(equ_opp, key= abs))\n",
    "  best_combined = rescaledcombined.index(max(rescaledcombined)) # we want this to be \n",
    "  best_f1 = f1score.index(max(f1score)) #we want f1 score to be 1\n",
    "\n",
    "  print('Best Equality of Opportunity score is at C: ', cvals[best_c], 'with an equality of opportunity score of', min(equ_opp, key= abs))\n",
    "  print('Best f1 score is at C: ', cvals[best_f1], 'with a score of', max(f1score))\n",
    "  print('Best combined score is at C: ', cvals[best_combined], 'with a score of', max(rescaledcombined))\n",
    "\n",
    "  #pltting the results\n",
    "  xplt = cvals\n",
    "  plt.figure(figsize = (10,6))\n",
    "  plt.scatter(xplt, rescaledcombined, color = 'magenta', label = 'Combined: Average, F1 and Equality of Opportunity Scores')\n",
    "  plt.legend(loc='upper center', bbox_to_anchor=(0.5, -0.10),\n",
    "          fancybox=True, shadow=True)\n",
    "\n",
    "  font1 = {'family':'serif','color':'magenta','size':13}\n",
    "  font2 = {'family':'serif','color':'magenta','size':11}\n",
    "  plt.title('Combined Scores', fontdict = font1, color = 'magenta')\n",
    "  plt.xlabel('C Value', fontdict = font2)\n",
    "  plt.ylabel('Score', fontdict = font2)\n",
    "  plt.show()\n",
    "\n",
    "  #return(df) "
   ]
  },
  {
   "cell_type": "markdown",
   "metadata": {
    "id": "SBM9O6c-JzLN"
   },
   "source": [
    "\n",
    "### Adult"
   ]
  },
  {
   "cell_type": "code",
   "execution_count": 71,
   "metadata": {
    "colab": {
     "base_uri": "https://localhost:8080/",
     "height": 481
    },
    "id": "k17odTooJQSq",
    "outputId": "40cd382f-a72f-4399-efd7-3e640fca17b3"
   },
   "outputs": [
    {
     "name": "stdout",
     "output_type": "stream",
     "text": [
      "Best Equality of Opportunity score is at C:  0.01 with an equality of opportunity score of -0.011180795108922947\n",
      "Best f1 score is at C:  0.005 with a score of 0.6794571444787936\n",
      "Best combined score is at C:  0.01 with a score of 0.6663937880442259\n"
     ]
    },
    {
     "data": {
      "image/png": "[encoded data removed]",
      "text/plain": [
       "<Figure size 720x432 with 1 Axes>"
      ]
     },
     "metadata": {
      "needs_background": "light"
     },
     "output_type": "display_data"
    }
   ],
   "source": [
    "#calculating the combined score on the reweighed with a broad c\n",
    "\n",
    "\n",
    "rw_fairaccuracyf1combined(X_train_a, y_train_a, a_train, c)"
   ]
  },
  {
   "cell_type": "code",
   "execution_count": 72,
   "metadata": {
    "colab": {
     "base_uri": "https://localhost:8080/",
     "height": 481
    },
    "id": "HLEL-JSmKkkv",
    "outputId": "e9f862e9-b423-4170-e8fe-f09ef65e3a90"
   },
   "outputs": [
    {
     "name": "stdout",
     "output_type": "stream",
     "text": [
      "Best Equality of Opportunity score is at C:  0.009000000000000001 with an equality of opportunity score of -0.011180795108922947\n",
      "Best f1 score is at C:  0.005 with a score of 0.6794571444787936\n",
      "Best combined score is at C:  0.009000000000000001 with a score of 0.6663937880442259\n"
     ]
    },
    {
     "data": {
      "image/png": "[encoded data removed]",
      "text/plain": [
       "<Figure size 720x432 with 1 Axes>"
      ]
     },
     "metadata": {
      "needs_background": "light"
     },
     "output_type": "display_data"
    }
   ],
   "source": [
    "#narrowing in to more specific cs\n",
    "\n",
    "rw_fairaccuracyf1combined(X_train_a, y_train_a, a_train, np.arange(0.005, 0.03, 0.001))"
   ]
  },
  {
   "cell_type": "markdown",
   "metadata": {
    "id": "jJQLV8zJJ3CO"
   },
   "source": [
    "### German"
   ]
  },
  {
   "cell_type": "code",
   "execution_count": 73,
   "metadata": {
    "colab": {
     "base_uri": "https://localhost:8080/",
     "height": 481
    },
    "id": "nXWPnbMCJ9Il",
    "outputId": "67ae9ff5-0c47-4c3a-b638-c1cc85de3df1"
   },
   "outputs": [
    {
     "name": "stdout",
     "output_type": "stream",
     "text": [
      "Best Equality of Opportunity score is at C:  0.01 with an equality of opportunity score of 0.0031311154598824276\n",
      "Best f1 score is at C:  0.005 with a score of 0.5257516199573378\n",
      "Best combined score is at C:  0.005 with a score of 0.518413068098238\n"
     ]
    },
    {
     "data": {
      "image/png": "[encoded data removed]",
      "text/plain": [
       "<Figure size 720x432 with 1 Axes>"
      ]
     },
     "metadata": {
      "needs_background": "light"
     },
     "output_type": "display_data"
    }
   ],
   "source": [
    "#calculating the combined score on the reweighed with a broad c\n",
    "\n",
    "rw_fairaccuracyf1combined(X_train_g, y_train_g, g_train, c)"
   ]
  },
  {
   "cell_type": "code",
   "execution_count": 74,
   "metadata": {
    "colab": {
     "base_uri": "https://localhost:8080/",
     "height": 481
    },
    "id": "2R4LClrtLaFC",
    "outputId": "dbeb643f-307b-4dd8-bedd-62ac0778961f"
   },
   "outputs": [
    {
     "name": "stdout",
     "output_type": "stream",
     "text": [
      "Best Equality of Opportunity score is at C:  0.009000000000000001 with an equality of opportunity score of 0.0031311154598824276\n",
      "Best f1 score is at C:  0.002 with a score of 0.5726776674774834\n",
      "Best combined score is at C:  0.002 with a score of 0.540583734013687\n"
     ]
    },
    {
     "data": {
      "image/png": "[encoded data removed]",
      "text/plain": [
       "<Figure size 720x432 with 1 Axes>"
      ]
     },
     "metadata": {
      "needs_background": "light"
     },
     "output_type": "display_data"
    }
   ],
   "source": [
    "#narrowing in to more specific cs\n",
    "\n",
    "rw_fairaccuracyf1combined(X_train_g, y_train_g, g_train, np.arange(0.001, 0.02, 0.001))"
   ]
  },
  {
   "cell_type": "markdown",
   "metadata": {
    "id": "mi_RjLM3J3Gs"
   },
   "source": [
    "## Task 3b: Compute and Report the Final Scores"
   ]
  },
  {
   "cell_type": "markdown",
   "metadata": {
    "id": "FCxZGsETLou_"
   },
   "source": [
    "### Adult"
   ]
  },
  {
   "cell_type": "markdown",
   "metadata": {
    "id": "7LAf4xU_MyLY"
   },
   "source": [
    "<font color='darkgreen'> **(5a) Standard Logistic Regression Model**</font>\n"
   ]
  },
  {
   "cell_type": "code",
   "execution_count": 75,
   "metadata": {
    "colab": {
     "base_uri": "https://localhost:8080/"
    },
    "id": "q4prBPs1LuOY",
    "outputId": "0d0aee85-e483-4dd1-95ca-1693967ccf85"
   },
   "outputs": [
    {
     "name": "stdout",
     "output_type": "stream",
     "text": [
      "The final Accuracy score on the test data with hyperparameter C: 0.001 is 0.8042721626970586\n",
      "The final Equality of Opportunity score at C: 0.001 is [-0.4511051574012056]\n",
      "The disparate impact score is [0.0]\n"
     ]
    }
   ],
   "source": [
    "#calculating the final scores\n",
    "\n",
    "finalscores(X_train_a, y_train_a, X_test_a, y_test_a, a_test, 0.001)"
   ]
  },
  {
   "cell_type": "markdown",
   "metadata": {
    "id": "oOd4gOiNUP0t"
   },
   "source": [
    "> The <font color='darkgreen'>**final *accuracy* score**</font> in testing data at hyperparameter C: 0.001 is <font color='darkgreen'>**0.8043**</font> and the <font color='darkgreen'>**final *Equality of Opportunity* score**</font> is <font color='darkgreen'>**-0.4511**</font>"
   ]
  },
  {
   "cell_type": "markdown",
   "metadata": {
    "id": "BzP86wXdM2IU"
   },
   "source": [
    "<font color='magenta'> **(6b) Fairness-based Machine Learning Model** </font>"
   ]
  },
  {
   "cell_type": "code",
   "execution_count": 76,
   "metadata": {
    "colab": {
     "base_uri": "https://localhost:8080/"
    },
    "id": "jteU1dgFM59j",
    "outputId": "2ea883e7-2519-4bd7-fd8b-cc816e23a5a8"
   },
   "outputs": [
    {
     "name": "stdout",
     "output_type": "stream",
     "text": [
      "After reweighing, the final accuracy score on the test data with hyperparameter C: 0.009 is 0.7909643076503106\n",
      "The Equality of Opportunity score at C: 0.009 is [0.02028996011236517]\n",
      "The disparate impact score is [0.6827554035209011]\n"
     ]
    }
   ],
   "source": [
    "#caluclating the final scores for the reweighed\n",
    "\n",
    "rw_finalscores(X_train_a, y_train_a, X_test_a, y_test_a,a_train, a_test, 0.009)"
   ]
  },
  {
   "cell_type": "markdown",
   "metadata": {
    "id": "o339WaGkU8Im"
   },
   "source": [
    "> The <font color='magenta'>**final *accuracy* score**</font> in testing data at hyperparameter C: 0.009 is <font color='magenta'>**0.79096**</font> and the <font color='magenta'>**final *Equality of Opportunity* score**</font> is <font color='magenta'>**0.02029**</font>"
   ]
  },
  {
   "cell_type": "markdown",
   "metadata": {
    "id": "tNIrrpE9LqmK"
   },
   "source": [
    "### German"
   ]
  },
  {
   "cell_type": "markdown",
   "metadata": {
    "id": "m3WPj0imUFel"
   },
   "source": [
    "<font color='darkgreen'> **(5a) Standard Logistic Regression Model**</font>\n"
   ]
  },
  {
   "cell_type": "code",
   "execution_count": 77,
   "metadata": {
    "colab": {
     "base_uri": "https://localhost:8080/"
    },
    "id": "OTpseODBLrjV",
    "outputId": "477a7f69-98c6-46a4-e54d-aae757f23452"
   },
   "outputs": [
    {
     "name": "stdout",
     "output_type": "stream",
     "text": [
      "The final Accuracy score on the test data with hyperparameter C: 0.003 is 0.6566666666666666\n",
      "The final Equality of Opportunity score at C: 0.003 is [-0.1355517494494739]\n",
      "The disparate impact score is [0.8047817047817047]\n"
     ]
    }
   ],
   "source": [
    "#calculating the final scores\n",
    "\n",
    "finalscores(X_train_g, y_train_g, X_test_g, y_test_g, g_test, 0.003)"
   ]
  },
  {
   "cell_type": "markdown",
   "metadata": {
    "id": "f4OYoOZVVhyw"
   },
   "source": [
    "> The <font color='darkgreen'>**final *accuracy* score**</font> in testing data at hyperparameter C: 0.003 is <font color='darkgreen'>**0.6567**</font> and the <font color='darkgreen'>**final *Equality of Opportunity* score**</font> is <font color='darkgreen'>**-0.1355**</font>"
   ]
  },
  {
   "cell_type": "markdown",
   "metadata": {
    "id": "ftu8uiVEUH7c"
   },
   "source": [
    "<font color='magenta'> **(6b) Fairness-based Machine Learning Model** </font>"
   ]
  },
  {
   "cell_type": "code",
   "execution_count": 78,
   "metadata": {
    "colab": {
     "base_uri": "https://localhost:8080/"
    },
    "id": "5jtdall5MFfE",
    "outputId": "f06b3c92-72de-4d0f-fca2-b272c6e3c71f"
   },
   "outputs": [
    {
     "name": "stdout",
     "output_type": "stream",
     "text": [
      "After reweighing, the final accuracy score on the test data with hyperparameter C: 0.002 is 0.66\n",
      "The Equality of Opportunity score at C: 0.002 is [-0.06398336187912901]\n",
      "The disparate impact score is [0.869017094017094]\n"
     ]
    }
   ],
   "source": [
    "#calculating the final scores for the reweighed\n",
    "\n",
    "rw_finalscores(X_train_g, y_train_g, X_test_g, y_test_g,g_train, g_test, 0.002)"
   ]
  },
  {
   "cell_type": "markdown",
   "metadata": {
    "id": "GObzqgldVyjx"
   },
   "source": [
    "> The <font color='magenta'>**final *accuracy* score**</font> in testing data at hyperparameter C: 0.002 is <font color='magenta'>**0.66**</font> and the <font color='magenta'>**final *Equality of Opportunity* score**</font> is <font color='magenta'>**-0.06398**</font>"
   ]
  },
  {
   "cell_type": "code",
   "execution_count": 78,
   "metadata": {
    "id": "5ogz03fqV5PD"
   },
   "outputs": [],
   "source": []
  }
 ],
 "metadata": {
  "colab": {
   "collapsed_sections": [],
   "name": "244788_MachineLearningAssignment.ipynb",
   "provenance": [],
   "toc_visible": true
  },
  "kernelspec": {
   "display_name": "Python 3 (ipykernel)",
   "language": "python",
   "name": "python3"
  },
  "language_info": {
   "codemirror_mode": {
    "name": "ipython",
    "version": 3
   },
   "file_extension": ".py",
   "mimetype": "text/x-python",
   "name": "python",
   "nbconvert_exporter": "python",
   "pygments_lexer": "ipython3",
   "version": "3.9.12"
  }
 },
 "nbformat": 4,
 "nbformat_minor": 1
}
